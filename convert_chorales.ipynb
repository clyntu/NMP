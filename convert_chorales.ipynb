{
 "cells": [
  {
   "cell_type": "markdown",
   "metadata": {},
   "source": [
    "# This script converts a pianoroll from numerical form to matricial form."
   ]
  },
  {
   "cell_type": "code",
   "execution_count": 1,
   "metadata": {},
   "outputs": [],
   "source": [
    "import numpy as np\n",
    "from pathlib import Path\n",
    "import os\n",
    "import pickle\n",
    "import pypianoroll\n",
    "P = Path(os.path.abspath(''))  # Compatible with Jupyter Notebook"
   ]
  },
  {
   "cell_type": "code",
   "execution_count": 2,
   "metadata": {},
   "outputs": [],
   "source": [
    "file = P / 'data' / 'JSB-Chorales-dataset' / 'jsb-chorales-16th.pkl'\n",
    "with open(file, 'rb') as p:\n",
    "    data = pickle.load(p, encoding='latin1')"
   ]
  },
  {
   "cell_type": "code",
   "execution_count": 3,
   "metadata": {},
   "outputs": [],
   "source": [
    "for n, song in enumerate(data['train']):\n",
    "    pr = np.zeros((len(song), 128))\n",
    "    for c, t in enumerate(pr):\n",
    "        t[list(map(int, song[c]))] = 1"
   ]
  },
  {
   "cell_type": "markdown",
   "metadata": {},
   "source": [
    "### Pianoroll plotted from matricial form"
   ]
  },
  {
   "cell_type": "code",
   "execution_count": 4,
   "metadata": {},
   "outputs": [
    {
     "data": {
      "text/plain": [
       "(<Figure size 432x288 with 1 Axes>,\n",
       " <matplotlib.axes._subplots.AxesSubplot at 0x17a86b00948>)"
      ]
     },
     "execution_count": 4,
     "metadata": {},
     "output_type": "execute_result"
    },
    {
     "data": {
      "image/png": "[encoded data removed]",
      "text/plain": [
       "<Figure size 432x288 with 1 Axes>"
      ]
     },
     "metadata": {
      "needs_background": "light"
     },
     "output_type": "display_data"
    }
   ],
   "source": [
    "track = pypianoroll.Track(pr)\n",
    "pypianoroll.plot(track)"
   ]
  },
  {
   "cell_type": "markdown",
   "metadata": {},
   "source": [
    "### Numerical form"
   ]
  },
  {
   "cell_type": "code",
   "execution_count": 5,
   "metadata": {
    "scrolled": false
   },
   "outputs": [
    {
     "data": {
      "text/plain": [
       "[(72, 67, 60, 48),\n",
       " (72, 67, 60, 48),\n",
       " (72, 67, 60, 48),\n",
       " (72, 67, 60, 48),\n",
       " (72, 67, 64, 48),\n",
       " (72, 67, 64, 48),\n",
       " (72, 67, 64, 50),\n",
       " (72, 67, 64, 50),\n",
       " (72, 67, 64, 52),\n",
       " (72, 67, 64, 52),\n",
       " (72, 67, 64, 53),\n",
       " (72, 67, 64, 53),\n",
       " (71, 67, 62, 55),\n",
       " (71, 67, 62, 55),\n",
       " (71, 65, 62, 55),\n",
       " (71, 65, 62, 55),\n",
       " (69, 64, 60, 45),\n",
       " (69, 64, 60, 45),\n",
       " (69, 64, 60, 47),\n",
       " (69, 64, 60, 47),\n",
       " (69, 64, 60, 48),\n",
       " (69, 64, 60, 48),\n",
       " (69, 65, 60, 50),\n",
       " (69, 65, 60, 50),\n",
       " (67, 67, 60, 52),\n",
       " (67, 67, 60, 52),\n",
       " (67, 67, 60, 52),\n",
       " (67, 67, 60, 52),\n",
       " (72, 64, 60, 57),\n",
       " (72, 64, 60, 57),\n",
       " (72, 64, 60, 57),\n",
       " (72, 64, 60, 57),\n",
       " (72, 72, 55, 52),\n",
       " (72, 72, 55, 52),\n",
       " (72, 72, 55, 52),\n",
       " (72, 72, 55, 52),\n",
       " (74, 71, 67, 55),\n",
       " (74, 71, 67, 55),\n",
       " (74, 71, 67, 55),\n",
       " (74, 71, 67, 55),\n",
       " (76, 67, 64, 48),\n",
       " (76, 67, 64, 48),\n",
       " (76, 67, 64, 48),\n",
       " (76, 67, 64, 48),\n",
       " (76, 67, 64, 48),\n",
       " (76, 67, 64, 48),\n",
       " (76, 67, 64, 48),\n",
       " (76, 67, 64, 48),\n",
       " (76, 67, 60, 48),\n",
       " (76, 67, 60, 48),\n",
       " (76, 67, 60, 48),\n",
       " (76, 67, 60, 48),\n",
       " (76, 67, 60, 48),\n",
       " (76, 67, 60, 48),\n",
       " (76, 67, 60, 50),\n",
       " (76, 67, 60, 50),\n",
       " (76, 67, 60, 52),\n",
       " (76, 67, 60, 52),\n",
       " (76, 67, 60, 53),\n",
       " (76, 67, 60, 53),\n",
       " (76, 67, 59, 55),\n",
       " (76, 67, 59, 55),\n",
       " (76, 67, 57, 57),\n",
       " (76, 67, 57, 57),\n",
       " (74, 65, 59, 56),\n",
       " (74, 65, 59, 56),\n",
       " (74, 65, 59, 54),\n",
       " (74, 65, 59, 54),\n",
       " (74, 64, 59, 56),\n",
       " (74, 64, 59, 56),\n",
       " (74, 64, 59, 52),\n",
       " (74, 64, 59, 52),\n",
       " (72, 64, 60, 57),\n",
       " (72, 64, 60, 57),\n",
       " (72, 64, 60, 55),\n",
       " (72, 64, 60, 55),\n",
       " (77, 69, 60, 53),\n",
       " (77, 69, 60, 53),\n",
       " (77, 69, 60, 53),\n",
       " (77, 69, 60, 53),\n",
       " (77, 67, 60, 52),\n",
       " (77, 67, 60, 52),\n",
       " (77, 65, 59, 50),\n",
       " (77, 65, 59, 50),\n",
       " (76, 72, 67, 48),\n",
       " (76, 72, 67, 48),\n",
       " (76, 72, 67, 48),\n",
       " (76, 72, 67, 48),\n",
       " (74, 71, 67, 55),\n",
       " (74, 71, 67, 55),\n",
       " (74, 71, 67, 55),\n",
       " (74, 71, 67, 55),\n",
       " (74, 71, 67, 55),\n",
       " (74, 71, 67, 55),\n",
       " (74, 71, 67, 55),\n",
       " (74, 71, 67, 55),\n",
       " (72, 64, 60, 57),\n",
       " (72, 64, 60, 57),\n",
       " (72, 66, 60, 57),\n",
       " (72, 66, 60, 57),\n",
       " (74, 67, 59, 55),\n",
       " (74, 67, 59, 55),\n",
       " (74, 67, 59, 53),\n",
       " (74, 67, 59, 53),\n",
       " (74, 67, 59, 52),\n",
       " (74, 67, 59, 52),\n",
       " (74, 67, 59, 50),\n",
       " (74, 67, 59, 50),\n",
       " (76, 67, 60, 48),\n",
       " (76, 67, 60, 48),\n",
       " (76, 67, 60, 50),\n",
       " (76, 67, 60, 50),\n",
       " (74, 68, 59, 52),\n",
       " (74, 68, 59, 52),\n",
       " (74, 68, 59, 50),\n",
       " (74, 68, 59, 50),\n",
       " (74, 68, 59, 48),\n",
       " (74, 68, 59, 48),\n",
       " (74, 68, 59, 47),\n",
       " (74, 68, 59, 47),\n",
       " (72, 69, 60, 45),\n",
       " (72, 69, 60, 45),\n",
       " (72, 69, 60, 45),\n",
       " (72, 69, 60, 45),\n",
       " (69, 69, 60, 53),\n",
       " (69, 69, 60, 53),\n",
       " (69, 69, 60, 53),\n",
       " (69, 69, 60, 53),\n",
       " (71, 67, 59, 50),\n",
       " (71, 67, 59, 50),\n",
       " (71, 65, 60, 50),\n",
       " (71, 65, 60, 50),\n",
       " (71, 67, 62, 55),\n",
       " (71, 67, 62, 55),\n",
       " (71, 67, 62, 55),\n",
       " (71, 67, 62, 55),\n",
       " (72, 67, 64, 48),\n",
       " (72, 67, 64, 48),\n",
       " (72, 67, 64, 48),\n",
       " (72, 67, 64, 48),\n",
       " (72, 67, 64, 48),\n",
       " (72, 67, 64, 48),\n",
       " (72, 67, 64, 48),\n",
       " (72, 67, 64, 48),\n",
       " (79, 67, 62, 47),\n",
       " (79, 67, 62, 47),\n",
       " (79, 67, 62, 47),\n",
       " (79, 67, 62, 47),\n",
       " (76, 67, 60, 48),\n",
       " (76, 67, 60, 48),\n",
       " (76, 67, 60, 47),\n",
       " (76, 67, 60, 47),\n",
       " (76, 67, 55, 48),\n",
       " (76, 67, 55, 48),\n",
       " (74, 65, 55, 50),\n",
       " (74, 65, 55, 50),\n",
       " (72, 67, 60, 52),\n",
       " (72, 67, 60, 52),\n",
       " (72, 67, 60, 48),\n",
       " (72, 67, 60, 48),\n",
       " (74, 69, 60, 53),\n",
       " (74, 69, 60, 53),\n",
       " (74, 69, 60, 52),\n",
       " (74, 69, 60, 52),\n",
       " (74, 67, 59, 53),\n",
       " (74, 67, 59, 53),\n",
       " (76, 67, 59, 55),\n",
       " (76, 67, 59, 55),\n",
       " (77, 72, 57, 57),\n",
       " (77, 72, 57, 57),\n",
       " (77, 72, 57, 59),\n",
       " (77, 72, 57, 59),\n",
       " (76, 72, 55, 60),\n",
       " (76, 72, 55, 60),\n",
       " (76, 72, 55, 60),\n",
       " (76, 72, 55, 60),\n",
       " (74, 71, 67, 53),\n",
       " (74, 71, 67, 53),\n",
       " (74, 69, 67, 53),\n",
       " (74, 69, 67, 53),\n",
       " (74, 67, 67, 53),\n",
       " (74, 67, 67, 53),\n",
       " (74, 67, 65, 53),\n",
       " (74, 67, 65, 53),\n",
       " (72, 67, 64, 48),\n",
       " (72, 67, 64, 48),\n",
       " (72, 67, 64, 48),\n",
       " (72, 67, 64, 48),\n",
       " (72, 67, 64, 48),\n",
       " (72, 67, 64, 48),\n",
       " (72, 67, 64, 48),\n",
       " (72, 67, 64, 48),\n",
       " (72, 67, 64, 48),\n",
       " (72, 67, 64, 48),\n",
       " (72, 67, 64, 48),\n",
       " (72, 67, 64, 48)]"
      ]
     },
     "execution_count": 5,
     "metadata": {},
     "output_type": "execute_result"
    }
   ],
   "source": [
    "data['valid'][0]"
   ]
  },
  {
   "cell_type": "markdown",
   "metadata": {},
   "source": [
    "### Matricial form"
   ]
  },
  {
   "cell_type": "code",
   "execution_count": 6,
   "metadata": {},
   "outputs": [
    {
     "data": {
      "text/plain": [
       "array([[0., 0., 0., ..., 0., 0., 0.],\n",
       "       [0., 0., 0., ..., 0., 0., 0.],\n",
       "       [0., 0., 0., ..., 0., 0., 0.],\n",
       "       ...,\n",
       "       [0., 0., 0., ..., 0., 0., 0.],\n",
       "       [0., 0., 0., ..., 0., 0., 0.],\n",
       "       [0., 0., 0., ..., 0., 0., 0.]])"
      ]
     },
     "execution_count": 6,
     "metadata": {},
     "output_type": "execute_result"
    }
   ],
   "source": [
    "pr"
   ]
  }
 ],
 "metadata": {
  "kernelspec": {
   "display_name": "Python 3",
   "language": "python",
   "name": "python3"
  },
  "language_info": {
   "codemirror_mode": {
    "name": "ipython",
    "version": 3
   },
   "file_extension": ".py",
   "mimetype": "text/x-python",
   "name": "python",
   "nbconvert_exporter": "python",
   "pygments_lexer": "ipython3",
   "version": "3.7.7"
  }
 },
 "nbformat": 4,
 "nbformat_minor": 4
}
