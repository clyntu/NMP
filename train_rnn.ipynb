{
 "cells": [
  {
   "cell_type": "markdown",
   "metadata": {},
   "source": [
    "# Train a RNN network"
   ]
  },
  {
   "cell_type": "code",
   "execution_count": 1,
   "metadata": {
    "tags": []
   },
   "outputs": [
    {
     "name": "stderr",
     "output_type": "stream",
     "text": [
      "Using TensorFlow backend.\n"
     ]
    }
   ],
   "source": [
    "#!/usr/bin/env python3\n",
    "# -*- coding: utf-8 -*-\n",
    "\"\"\"Main script used for training.\"\"\"\n",
    "from tensorflow.keras.callbacks import TensorBoard, CSVLogger\n",
    "from tensorflow.keras.models import load_model\n",
    "import keras.metrics\n",
    "from datetime import datetime\n",
    "import matplotlib.pyplot as plt\n",
    "import seaborn as sns\n",
    "import pandas as pd\n",
    "import os\n",
    "from nmp import model as mod\n",
    "from nmp import dataset, ev_metrics\n",
    "from nmp.dataset import pyplot_piano_roll\n",
    "from nmp import plotter\n",
    "from pathlib import Path\n",
    "import time\n",
    "import math\n",
    "import pypianoroll\n",
    "from pypianoroll import Multitrack, Track\n",
    "import numpy as np\n",
    "import random\n",
    "import copy\n",
    "\n",
    "SAVE = 0\n",
    "NOTES = '-' + 'lstm'\n",
    "\n",
    "# P = Path(__file__).parent.absolute()\n",
    "P = Path(os.path.abspath(''))  # Compatible with Jupyter Notebook\n",
    "P2 = Path('S:\\datasets')  # Dataset path\n",
    "\n",
    "PLOTS = P / 'plots'  # Plots path\n",
    "FS = 24  # Sampling frequency. 10 Hz = 100 ms\n",
    "Q = 0  # Quantize?\n",
    "st = 10  # Past timesteps\n",
    "num_ts = 10  # Predicted timesteps\n",
    "DOWN = 12  # Downsampling factor\n",
    "\n",
    "# D = \"data/Piano-midi.de\"  # Dataset\n",
    "# D = \"data/Nottingham\"  # Dataset\n",
    "D = \"data/POP909\" #Dataset\n",
    "# D = \"data/JSB Chorales\"  # Dataset\n",
    "# D = \"data/MuseData\"  # Dataset\n",
    "\n",
    "# 49-key keyboard\n",
    "# LOW_LIM = 36  # C2\n",
    "# HIGH_LIM = 85  # C6\n",
    "\n",
    "# 64-key keyboard\n",
    "LOW_LIM = 33  # A1\n",
    "HIGH_LIM = 97  # C7\n",
    "\n",
    "# Complete 88-key keyboard\n",
    "# LOW_LIM = 21  # A0\n",
    "# HIGH_LIM = 109  # C8\n",
    "\n",
    "NUM_NOTES = HIGH_LIM - LOW_LIM\n",
    "CROP = [LOW_LIM, HIGH_LIM]  # Crop plots\n",
    "\n",
    "LOAD = 0\n",
    "TRANS = 0"
   ]
  },
  {
   "cell_type": "markdown",
   "metadata": {},
   "source": [
    "### Generate list of MIDI files"
   ]
  },
  {
   "cell_type": "code",
   "execution_count": 2,
   "metadata": {
    "scrolled": true,
    "tags": []
   },
   "outputs": [
    {
     "name": "stdout",
     "output_type": "stream",
     "text": [
      "\n",
      "Train list:   ['004.mid', '005.mid', '006.mid', '007.mid', '008.mid', '009.mid', '010.mid', '011.mid', '014.mid', '015.mid', '016.mid', '020.mid', '021.mid', '023.mid', '027.mid', '029.mid', '030.mid', '031.mid', '032.mid', '033.mid', '034.mid', '037.mid', '038.mid', '041.mid', '042.mid', '043.mid', '045.mid', '046.mid', '047.mid', '049.mid', '050.mid', '051.mid', '052.mid', '053.mid', '054.mid', '058.mid', '059.mid', '061.mid', '063.mid', '064.mid', '065.mid', '068.mid', '070.mid', '071.mid', '074.mid', '075.mid', '079.mid', '081.mid', '082.mid', '084.mid', '085.mid', '086.mid', '087.mid', '089.mid', '090.mid', '091.mid', '093.mid', '094.mid', '096.mid', '097.mid', '099.mid', '101.mid', '102.mid', '103.mid', '104.mid', '105.mid', '108.mid', '111.mid', '117.mid', '118.mid', '119.mid', '121.mid', '124.mid', '126.mid', '128.mid', '129.mid', '132.mid', '133.mid', '135.mid', '136.mid', '137.mid', '139.mid', '140.mid', '141.mid', '145.mid', '147.mid', '148.mid', '149.mid', '152.mid', '156.mid', '157.mid', '158.mid', '159.mid', '161.mid', '162.mid', '163.mid', '164.mid', '165.mid', '167.mid', '171.mid', '174.mid', '176.mid', '177.mid', '180.mid', '181.mid', '182.mid', '183.mid', '186.mid', '187.mid', '188.mid', '189.mid', '190.mid', '196.mid', '198.mid', '201.mid', '204.mid', '205.mid', '206.mid', '208.mid', '210.mid', '211.mid', '212.mid', '213.mid', '216.mid', '220.mid', '221.mid', '223.mid', '224.mid', '225.mid', '226.mid', '227.mid', '228.mid', '229.mid', '232.mid', '233.mid', '234.mid', '235.mid', '236.mid', '237.mid', '238.mid', '239.mid', '240.mid', '241.mid', '242.mid', '243.mid', '244.mid', '245.mid', '246.mid', '247.mid', '248.mid', '249.mid', '250.mid', '252.mid', '254.mid', '256.mid', '257.mid', '259.mid', '260.mid', '263.mid', '264.mid', '266.mid', '267.mid', '268.mid', '272.mid', '273.mid', '274.mid', '275.mid', '278.mid', '280.mid', '281.mid', '282.mid', '283.mid', '284.mid', '285.mid', '286.mid', '287.mid', '289.mid', '290.mid', '292.mid', '293.mid', '297.mid', '298.mid', '299.mid', '300.mid', '301.mid', '302.mid', '305.mid', '306.mid', '307.mid', '311.mid', '312.mid', '313.mid', '314.mid', '316.mid', '317.mid', '318.mid', '320.mid', '321.mid', '325.mid', '327.mid', '328.mid', '329.mid', '332.mid', '333.mid', '334.mid', '337.mid', '340.mid', '341.mid', '342.mid', '343.mid', '346.mid', '347.mid', '348.mid', '349.mid', '350.mid', '352.mid', '354.mid', '355.mid', '357.mid', '358.mid', '360.mid', '361.mid', '362.mid', '365.mid', '366.mid', '367.mid', '368.mid', '369.mid', '370.mid', '372.mid', '374.mid', '375.mid', '376.mid', '377.mid', '378.mid', '380.mid', '381.mid', '382.mid', '383.mid', '385.mid', '386.mid', '387.mid', '388.mid', '389.mid', '390.mid', '391.mid', '392.mid', '394.mid', '395.mid', '396.mid', '398.mid', '399.mid', '401.mid', '403.mid', '409.mid', '411.mid', '412.mid', '414.mid', '415.mid', '416.mid', '417.mid', '419.mid', '420.mid', '421.mid', '423.mid', '426.mid', '427.mid', '428.mid', '429.mid', '430.mid', '431.mid', '432.mid', '433.mid', '436.mid', '437.mid', '440.mid', '441.mid', '442.mid', '443.mid', '447.mid', '449.mid', '450.mid', '452.mid', '453.mid', '454.mid', '455.mid', '458.mid', '459.mid', '460.mid', '461.mid', '462.mid', '463.mid', '465.mid', '467.mid', '470.mid', '474.mid', '475.mid', '476.mid', '477.mid', '480.mid', '481.mid', '482.mid', '483.mid', '484.mid', '485.mid', '486.mid', '487.mid', '490.mid', '491.mid', '492.mid', '494.mid', '495.mid', '496.mid', '501.mid', '504.mid', '506.mid', '508.mid', '509.mid', '510.mid', '511.mid', '512.mid', '513.mid', '514.mid', '516.mid', '517.mid', '520.mid', '521.mid', '522.mid', '523.mid', '525.mid', '528.mid', '529.mid', '531.mid', '532.mid', '534.mid', '535.mid', '537.mid', '538.mid', '539.mid', '542.mid', '545.mid', '546.mid', '547.mid', '552.mid', '554.mid', '556.mid', '557.mid', '559.mid', '560.mid', '561.mid', '562.mid', '563.mid', '564.mid', '565.mid', '571.mid', '572.mid', '573.mid', '577.mid', '579.mid', '580.mid', '582.mid', '583.mid', '585.mid', '586.mid', '587.mid', '589.mid', '590.mid', '592.mid', '594.mid', '595.mid', '596.mid', '597.mid', '598.mid', '599.mid', '600.mid', '601.mid', '602.mid', '604.mid', '605.mid', '606.mid', '607.mid', '608.mid', '609.mid', '610.mid', '611.mid', '612.mid', '613.mid', '614.mid', '615.mid', '616.mid', '618.mid', '620.mid', '622.mid', '623.mid', '626.mid', '628.mid', '630.mid', '631.mid', '632.mid', '634.mid', '635.mid', '636.mid', '637.mid', '640.mid', '641.mid', '642.mid', '644.mid', '647.mid', '649.mid', '651.mid', '652.mid', '653.mid', '654.mid', '656.mid', '657.mid', '658.mid', '659.mid', '661.mid', '663.mid', '664.mid', '665.mid', '666.mid', '667.mid', '669.mid', '672.mid', '673.mid', '674.mid', '675.mid', '677.mid', '678.mid', '679.mid', '680.mid', '682.mid', '685.mid', '686.mid', '688.mid', '689.mid', '690.mid', '692.mid', '697.mid', '699.mid', '701.mid', '702.mid', '705.mid', '706.mid', '707.mid', '708.mid', '712.mid', '714.mid', '717.mid', '719.mid', '724.mid', '726.mid', '728.mid', '729.mid', '730.mid', '732.mid', '733.mid', '734.mid', '735.mid', '737.mid', '738.mid', '739.mid', '741.mid', '745.mid', '747.mid', '749.mid', '750.mid', '751.mid', '752.mid', '754.mid', '755.mid', '757.mid', '758.mid', '759.mid', '760.mid', '762.mid', '764.mid', '765.mid', '766.mid', '768.mid', '769.mid', '770.mid', '771.mid', '772.mid', '773.mid', '774.mid', '776.mid', '778.mid', '779.mid', '780.mid', '782.mid', '783.mid', '784.mid', '786.mid', '787.mid', '788.mid', '790.mid', '791.mid', '793.mid', '794.mid', '795.mid', '796.mid', '797.mid', '799.mid', '800.mid', '801.mid', '802.mid', '803.mid', '804.mid', '805.mid', '806.mid', '807.mid', '808.mid', '810.mid', '811.mid', '813.mid', '814.mid', '815.mid', '816.mid', '817.mid', '818.mid', '819.mid', '820.mid', '822.mid', '823.mid', '825.mid', '826.mid', '827.mid', '829.mid', '830.mid', '831.mid', '833.mid', '836.mid', '839.mid', '840.mid', '843.mid', '844.mid', '847.mid', '848.mid', '849.mid', '851.mid', '852.mid', '853.mid', '854.mid', '856.mid', '857.mid', '858.mid', '862.mid', '863.mid', '864.mid', '865.mid', '866.mid', '868.mid', '869.mid', '870.mid', '871.mid', '872.mid', '874.mid', '875.mid', '879.mid', '881.mid', '882.mid', '883.mid', '884.mid', '886.mid', '888.mid', '889.mid', '890.mid', '891.mid', '892.mid', '894.mid', '896.mid', '899.mid', '900.mid', '901.mid', '902.mid', '905.mid', '906.mid', '908.mid', '909.mid']\n",
      "\n",
      "Validation list:   ['003.mid', '012.mid', '013.mid', '022.mid', '026.mid', '035.mid', '036.mid', '055.mid', '057.mid', '060.mid', '062.mid', '066.mid', '072.mid', '076.mid', '077.mid', '078.mid', '083.mid', '088.mid', '092.mid', '095.mid', '098.mid', '112.mid', '115.mid', '116.mid', '120.mid', '130.mid', '134.mid', '138.mid', '143.mid', '144.mid', '153.mid', '155.mid', '168.mid', '170.mid', '172.mid', '173.mid', '178.mid', '185.mid', '195.mid', '197.mid', '199.mid', '202.mid', '203.mid', '209.mid', '218.mid', '219.mid', '222.mid', '251.mid', '258.mid', '261.mid', '265.mid', '276.mid', '277.mid', '279.mid', '291.mid', '296.mid', '308.mid', '326.mid', '330.mid', '336.mid', '345.mid', '351.mid', '353.mid', '356.mid', '364.mid', '373.mid', '384.mid', '393.mid', '400.mid', '404.mid', '424.mid', '434.mid', '438.mid', '439.mid', '444.mid', '445.mid', '448.mid', '468.mid', '469.mid', '471.mid', '473.mid', '478.mid', '488.mid', '497.mid', '503.mid', '505.mid', '524.mid', '526.mid', '527.mid', '530.mid', '536.mid', '541.mid', '543.mid', '544.mid', '549.mid', '553.mid', '558.mid', '568.mid', '570.mid', '574.mid', '575.mid', '576.mid', '581.mid', '593.mid', '603.mid', '617.mid', '627.mid', '646.mid', '655.mid', '662.mid', '668.mid', '670.mid', '671.mid', '681.mid', '683.mid', '691.mid', '695.mid', '696.mid', '698.mid', '700.mid', '710.mid', '715.mid', '718.mid', '723.mid', '725.mid', '731.mid', '753.mid', '756.mid', '761.mid', '763.mid', '767.mid', '789.mid', '821.mid', '824.mid', '838.mid', '841.mid', '850.mid', '855.mid', '859.mid', '876.mid', '877.mid', '878.mid', '880.mid', '885.mid', '887.mid', '898.mid']\n"
     ]
    }
   ],
   "source": [
    "train_list = [x for x in os.listdir(P / D / 'train') if x.endswith('.mid')]\n",
    "validation_list = [x for x in os.listdir(P / D / 'valid') if x.endswith('.mid')]\n",
    "\n",
    "# train_list = [train_list[x] for x in range(10)]\n",
    "# validation_list = [validation_list[x] for x in range(5)]\n",
    "\n",
    "print(\"\\nTrain list:  \", train_list)\n",
    "print(\"\\nValidation list:  \", validation_list)"
   ]
  },
  {
   "cell_type": "markdown",
   "metadata": {},
   "source": [
    "## Datasets"
   ]
  },
  {
   "cell_type": "markdown",
   "metadata": {},
   "source": [
    "### Generate data from lists\n",
    "Training, validation and test sets."
   ]
  },
  {
   "cell_type": "code",
   "execution_count": 3,
   "metadata": {
    "tags": []
   },
   "outputs": [
    {
     "name": "stdout",
     "output_type": "stream",
     "text": [
      "Building training dataset (581 files)\n",
      "Building validation dataset (146 files)\n",
      "Done\n",
      "Loading time: 270.38\n"
     ]
    }
   ],
   "source": [
    "start = time.time()\n",
    "\n",
    "train = dataset.Dataset(train_list, P / D / 'train',  fs=FS, bl=0, quant=Q)\n",
    "validation = dataset.Dataset(validation_list, P / D / 'valid',  fs=FS, bl=0, quant=Q)\n",
    "\n",
    "train.build_rnn_dataset(\"training\", down=DOWN, low_lim=LOW_LIM, high_lim=HIGH_LIM)\n",
    "validation.build_rnn_dataset(\"validation\", down=DOWN, low_lim=LOW_LIM, high_lim=HIGH_LIM)\n",
    "\n",
    "end = time.time()\n",
    "print(\"Done\")\n",
    "print(\"Loading time: %.2f\" % (end-start))"
   ]
  },
  {
   "cell_type": "code",
   "execution_count": 4,
   "metadata": {},
   "outputs": [
    {
     "name": "stdout",
     "output_type": "stream",
     "text": [
      "(380285, 1280)\n",
      "(380285, 1280)\n",
      "(96104, 1280)\n",
      "(96104, 1280)\n"
     ]
    }
   ],
   "source": [
    "print(train.dataset[0].shape)\n",
    "print(train.dataset[1].shape)\n",
    "print(validation.dataset[0].shape)\n",
    "print(validation.dataset[1].shape)\n",
    "# print(test.dataset[0].shape)\n",
    "# print(test.dataset[1].shape)\n",
    "\n",
    "# pyplot_piano_roll(test.dataset[1][:, :NUM_NOTES], cmap=\"Oranges\",\n",
    "#                   low_lim=LOW_LIM, high_lim=HIGH_LIM)\n",
    "# plt.title(\"Test target\")\n",
    "# plt.ylim(CROP)"
   ]
  },
  {
   "cell_type": "code",
   "execution_count": 5,
   "metadata": {},
   "outputs": [
    {
     "data": {
      "text/plain": [
       "<TensorSliceDataset shapes: (1280,), types: tf.bool>"
      ]
     },
     "execution_count": 5,
     "metadata": {},
     "output_type": "execute_result"
    }
   ],
   "source": [
    "seq_length = 100\n",
    "import tensorflow as tf\n",
    "\n",
    "train_dataset = tf.data.Dataset.from_tensor_slices((train.dataset[0]))\n",
    "train_sequences = train_dataset.batch(seq_length, drop_remainder=True)\n",
    "\n",
    "valid_dataset = tf.data.Dataset.from_tensor_slices((validation.dataset[0]))\n",
    "valid_sequences = valid_dataset.batch(seq_length, drop_remainder=True)\n",
    "\n",
    "# test_dataset = tf.data.Dataset.from_tensor_slices((test.dataset[0]))\n",
    "# test_sequences = test_dataset.batch(10, drop_remainder=True)\n",
    "\n",
    "train_dataset"
   ]
  },
  {
   "cell_type": "code",
   "execution_count": 6,
   "metadata": {},
   "outputs": [
    {
     "data": {
      "text/plain": [
       "<MapDataset shapes: ((100, 640), (100, 640)), types: (tf.bool, tf.bool)>"
      ]
     },
     "execution_count": 6,
     "metadata": {},
     "output_type": "execute_result"
    }
   ],
   "source": [
    "def split_input_target(chunk):\n",
    "    input_text = chunk[:, :10*64]\n",
    "    target_text = chunk[:, 10*64:]\n",
    "#     tf.reshape(target_text, shape=[100, 640])\n",
    "#     input_text = chunk[:-1]\n",
    "#     target_text = chunk[1:]\n",
    "    return input_text, target_text\n",
    "\n",
    "def split_input_target_base(chunk):\n",
    "    input_text = chunk[:,:10]\n",
    "    target_text = chunk[:,10:]\n",
    "#     input_text = chunk[:-1]\n",
    "#     target_text = chunk[:-1]\n",
    "    return input_text, target_text\n",
    "\n",
    "train_data = train_sequences.map(split_input_target)\n",
    "valid_data = valid_sequences.map(split_input_target)\n",
    "# test_data = test_sequences.map(split_input_target)\n",
    "# baseline_data = test_sequences.map(split_input_target_base)\n",
    "\n",
    "train_data"
   ]
  },
  {
   "cell_type": "code",
   "execution_count": 7,
   "metadata": {},
   "outputs": [
    {
     "name": "stdout",
     "output_type": "stream",
     "text": [
      "Train:  <BatchDataset shapes: ((64, 100, 640), (64, 100, 640)), types: (tf.bool, tf.bool)>\n",
      "Valid:  <BatchDataset shapes: ((64, 100, 640), (64, 100, 640)), types: (tf.bool, tf.bool)>\n"
     ]
    }
   ],
   "source": [
    "# Batch size\n",
    "BATCH_SIZE = 64\n",
    "\n",
    "# Buffer size to shuffle the dataset\n",
    "# (TF data is designed to work with possibly infinite sequences,\n",
    "# so it doesn't attempt to shuffle the entire sequence in memory. Instead,\n",
    "# it maintains a buffer in which it shuffles elements).\n",
    "BUFFER_SIZE = 10000\n",
    "\n",
    "train_data = train_data.shuffle(BUFFER_SIZE).batch(BATCH_SIZE, drop_remainder=True)\n",
    "valid_data = valid_data.shuffle(BUFFER_SIZE).batch(BATCH_SIZE, drop_remainder=True)\n",
    "# test_data = test_data.batch(1, drop_remainder=True)\n",
    "# baseline_data = baseline_data.batch(1, drop_remainder=True)\n",
    "print(\"Train: \", train_data)\n",
    "print(\"Valid: \", valid_data)\n",
    "# print(\"Test: \", test_data)\n",
    "# print(\"Baseline: \", baseline_data)"
   ]
  },
  {
   "cell_type": "code",
   "execution_count": 8,
   "metadata": {},
   "outputs": [
    {
     "name": "stdout",
     "output_type": "stream",
     "text": [
      "(64, 100, 640)\n",
      "(64, 100, 640)\n"
     ]
    }
   ],
   "source": [
    "for input_batch, label_batch in train_data.take(1):\n",
    "    print(input_batch.shape)\n",
    "    print(label_batch.shape)"
   ]
  },
  {
   "cell_type": "markdown",
   "metadata": {},
   "source": [
    "### Save dataset"
   ]
  },
  {
   "cell_type": "markdown",
   "metadata": {},
   "source": [
    "### Piano rolls of training dataset\n",
    "Input and output piano rolls"
   ]
  },
  {
   "cell_type": "code",
   "execution_count": 11,
   "metadata": {},
   "outputs": [
    {
     "ename": "IndexError",
     "evalue": "too many indices for array",
     "output_type": "error",
     "traceback": [
      "\u001b[1;31m---------------------------------------------------------------------------\u001b[0m",
      "\u001b[1;31mIndexError\u001b[0m                                Traceback (most recent call last)",
      "\u001b[1;32m<ipython-input-11-622338b7d907>\u001b[0m in \u001b[0;36m<module>\u001b[1;34m\u001b[0m\n\u001b[0;32m      1\u001b[0m \u001b[0mplt\u001b[0m\u001b[1;33m.\u001b[0m\u001b[0mrcParams\u001b[0m\u001b[1;33m[\u001b[0m\u001b[1;34m\"figure.figsize\"\u001b[0m\u001b[1;33m]\u001b[0m \u001b[1;33m=\u001b[0m \u001b[1;33m(\u001b[0m\u001b[1;36m20\u001b[0m\u001b[1;33m,\u001b[0m \u001b[1;36m8\u001b[0m\u001b[1;33m)\u001b[0m\u001b[1;33m\u001b[0m\u001b[1;33m\u001b[0m\u001b[0m\n\u001b[1;32m----> 2\u001b[1;33m pyplot_piano_roll(train.dataset[0][:, 0, :],\n\u001b[0m\u001b[0;32m      3\u001b[0m                   low_lim=LOW_LIM, high_lim=HIGH_LIM)\n\u001b[0;32m      4\u001b[0m \u001b[0mplt\u001b[0m\u001b[1;33m.\u001b[0m\u001b[0mtitle\u001b[0m\u001b[1;33m(\u001b[0m\u001b[1;34m\"Train data\"\u001b[0m\u001b[1;33m)\u001b[0m\u001b[1;33m\u001b[0m\u001b[1;33m\u001b[0m\u001b[0m\n\u001b[0;32m      5\u001b[0m \u001b[0mplt\u001b[0m\u001b[1;33m.\u001b[0m\u001b[0mylim\u001b[0m\u001b[1;33m(\u001b[0m\u001b[0mCROP\u001b[0m\u001b[1;33m)\u001b[0m\u001b[1;33m\u001b[0m\u001b[1;33m\u001b[0m\u001b[0m\n",
      "\u001b[1;31mIndexError\u001b[0m: too many indices for array"
     ]
    }
   ],
   "source": [
    "# plt.rcParams[\"figure.figsize\"] = (20, 8)\n",
    "# pyplot_piano_roll(train.dataset[0][:, 0, :],\n",
    "#                   low_lim=LOW_LIM, high_lim=HIGH_LIM)\n",
    "# plt.title(\"Train data\")\n",
    "# plt.ylim(CROP)\n",
    "# pyplot_piano_roll(train.dataset[1][:, :NUM_NOTES], cmap=\"Oranges\",\n",
    "#                   low_lim=LOW_LIM, high_lim=HIGH_LIM)\n",
    "# plt.title(\"Train target\")\n",
    "# plt.ylim(CROP)"
   ]
  },
  {
   "cell_type": "markdown",
   "metadata": {},
   "source": [
    "## Keras\n",
    "### Build the model"
   ]
  },
  {
   "cell_type": "code",
   "execution_count": 9,
   "metadata": {},
   "outputs": [],
   "source": [
    "BS = BATCH_SIZE  # Batch size\n",
    "import importlib\n",
    "importlib.reload(mod)\n",
    "importlib.reload(dataset)\n",
    "import time"
   ]
  },
  {
   "cell_type": "code",
   "execution_count": 10,
   "metadata": {},
   "outputs": [
    {
     "name": "stdout",
     "output_type": "stream",
     "text": [
      "Model: \"sequential\"\n",
      "_________________________________________________________________\n",
      "Layer (type)                 Output Shape              Param #   \n",
      "=================================================================\n",
      "lstm (LSTM)                  (64, None, 128)           393728    \n",
      "_________________________________________________________________\n",
      "dense (Dense)                (64, None, 64)            8256      \n",
      "_________________________________________________________________\n",
      "Output (Dense)               (64, None, 640)           41600     \n",
      "=================================================================\n",
      "Total params: 443,584\n",
      "Trainable params: 443,584\n",
      "Non-trainable params: 0\n",
      "_________________________________________________________________\n"
     ]
    }
   ],
   "source": [
    "if LOAD:\n",
    "    model = load_model(filepath=model_path,\n",
    "                       custom_objects=None,\n",
    "                       compile=True)\n",
    "\n",
    "else:\n",
    "    # model = mod.build_gru_model(NUM_NOTES, BS)\n",
    "    model = mod.build_lstm_model(NUM_NOTES, BS)\n",
    "    mod.compile_model(model, 'binary_crossentropy', 'adam',\n",
    "                      metrics=['accuracy'])\n",
    "\n",
    "model.summary()\n",
    "\n",
    "now = datetime.now()\n",
    "\n",
    "# Save logs\n",
    "logger = TensorBoard(log_dir=P / 'logs' / now.strftime(\"%Y%m%d-%H%M%S\"),\n",
    "                     write_graph=True, update_freq='epoch')\n",
    "\n",
    "csv_logger = CSVLogger(P / 'logs' / (now.strftime(\"%Y%m%d-%H%M%S\") + '-' +\n",
    "                       str(st) + '-' + str(num_ts) + '.csv'),\n",
    "                       separator=',', append=False)"
   ]
  },
  {
   "cell_type": "markdown",
   "metadata": {},
   "source": [
    "### Try the model\n",
    "Try the model before training"
   ]
  },
  {
   "cell_type": "code",
   "execution_count": 14,
   "metadata": {},
   "outputs": [
    {
     "name": "stdout",
     "output_type": "stream",
     "text": [
      "WARNING:tensorflow:Model was constructed with shape Tensor(\"input_1:0\", shape=(64, None, 490), dtype=float32) for input (64, None, 490), but it was re-called on a Tensor with incompatible shape (64, 100, 640).\n",
      "(64, 100, 490) # (batch_size, sequence_length, vocab_size)\n"
     ]
    }
   ],
   "source": [
    "# for input_example_batch, target_example_batch in train_data.take(1):\n",
    "#     example_batch_predictions = model(tf.cast(input_example_batch, tf.float32))\n",
    "#     print(example_batch_predictions.shape, \"# (batch_size, sequence_length, vocab_size)\")"
   ]
  },
  {
   "cell_type": "markdown",
   "metadata": {},
   "source": [
    "### Checkpoints"
   ]
  },
  {
   "cell_type": "code",
   "execution_count": 11,
   "metadata": {},
   "outputs": [
    {
     "name": "stdout",
     "output_type": "stream",
     "text": [
      "WARNING:tensorflow:`period` argument is deprecated. Please use `save_freq` to specify the frequency in number of samples seen.\n"
     ]
    }
   ],
   "source": [
    "# Directory where the checkpoints will be saved\n",
    "checkpoint_dir = P / ('models/training_checkpoints/' + now.strftime(\"%Y%m%d-%H%M%S\"))\n",
    "# Name of the checkpoint files\n",
    "checkpoint_prefix = os.path.join(checkpoint_dir, \"ckpt_{epoch}\")\n",
    "\n",
    "checkpoint_callback=tf.keras.callbacks.ModelCheckpoint(\n",
    "    filepath=checkpoint_prefix,\n",
    "    save_weights_only=True,\n",
    "    save_best_only=True,\n",
    "    period=5)"
   ]
  },
  {
   "cell_type": "markdown",
   "metadata": {},
   "source": [
    "### Fit the model\n",
    "Define batch size ```BS``` and number of ```epochs```\n",
    "\n",
    "#### fit generator"
   ]
  },
  {
   "cell_type": "code",
   "execution_count": 16,
   "metadata": {},
   "outputs": [
    {
     "name": "stdout",
     "output_type": "stream",
     "text": [
      "Train dataset shape:  (380285, 980) \n",
      "\n",
      "Train dataset target shape:  (380285, 980) \n",
      "\n"
     ]
    },
    {
     "ename": "IndexError",
     "evalue": "too many indices for array",
     "output_type": "error",
     "traceback": [
      "\u001b[1;31m---------------------------------------------------------------------------\u001b[0m",
      "\u001b[1;31mIndexError\u001b[0m                                Traceback (most recent call last)",
      "\u001b[1;32m<ipython-input-16-51aa11d1a157>\u001b[0m in \u001b[0;36m<module>\u001b[1;34m\u001b[0m\n\u001b[0;32m     15\u001b[0m           \u001b[0mvalidation_data\u001b[0m\u001b[1;33m=\u001b[0m\u001b[0mdataset\u001b[0m\u001b[1;33m.\u001b[0m\u001b[0mgenerate\u001b[0m\u001b[1;33m(\u001b[0m\u001b[1;33m(\u001b[0m\u001b[0mvalidation\u001b[0m\u001b[1;33m.\u001b[0m\u001b[0mdataset\u001b[0m\u001b[1;33m[\u001b[0m\u001b[1;36m0\u001b[0m\u001b[1;33m]\u001b[0m\u001b[1;33m,\u001b[0m \u001b[0mvalidation\u001b[0m\u001b[1;33m.\u001b[0m\u001b[0mdataset\u001b[0m\u001b[1;33m[\u001b[0m\u001b[1;36m1\u001b[0m\u001b[1;33m]\u001b[0m\u001b[1;33m)\u001b[0m\u001b[1;33m)\u001b[0m\u001b[1;33m,\u001b[0m\u001b[1;33m\u001b[0m\u001b[1;33m\u001b[0m\u001b[0m\n\u001b[0;32m     16\u001b[0m           \u001b[0mvalidation_steps\u001b[0m\u001b[1;33m=\u001b[0m\u001b[0mspe_valid\u001b[0m\u001b[1;33m,\u001b[0m\u001b[1;33m\u001b[0m\u001b[1;33m\u001b[0m\u001b[0m\n\u001b[1;32m---> 17\u001b[1;33m           callbacks=[logger, csv_logger])\n\u001b[0m\u001b[0;32m     18\u001b[0m \u001b[1;33m\u001b[0m\u001b[0m\n\u001b[0;32m     19\u001b[0m \u001b[0mend\u001b[0m \u001b[1;33m=\u001b[0m \u001b[0mtime\u001b[0m\u001b[1;33m.\u001b[0m\u001b[0mtime\u001b[0m\u001b[1;33m(\u001b[0m\u001b[1;33m)\u001b[0m\u001b[1;33m\u001b[0m\u001b[1;33m\u001b[0m\u001b[0m\n",
      "\u001b[1;32m~\\.conda\\envs\\tf_gpu\\lib\\site-packages\\tensorflow_core\\python\\keras\\engine\\training.py\u001b[0m in \u001b[0;36mfit\u001b[1;34m(self, x, y, batch_size, epochs, verbose, callbacks, validation_split, validation_data, shuffle, class_weight, sample_weight, initial_epoch, steps_per_epoch, validation_steps, validation_freq, max_queue_size, workers, use_multiprocessing, **kwargs)\u001b[0m\n\u001b[0;32m    817\u001b[0m         \u001b[0mmax_queue_size\u001b[0m\u001b[1;33m=\u001b[0m\u001b[0mmax_queue_size\u001b[0m\u001b[1;33m,\u001b[0m\u001b[1;33m\u001b[0m\u001b[1;33m\u001b[0m\u001b[0m\n\u001b[0;32m    818\u001b[0m         \u001b[0mworkers\u001b[0m\u001b[1;33m=\u001b[0m\u001b[0mworkers\u001b[0m\u001b[1;33m,\u001b[0m\u001b[1;33m\u001b[0m\u001b[1;33m\u001b[0m\u001b[0m\n\u001b[1;32m--> 819\u001b[1;33m         use_multiprocessing=use_multiprocessing)\n\u001b[0m\u001b[0;32m    820\u001b[0m \u001b[1;33m\u001b[0m\u001b[0m\n\u001b[0;32m    821\u001b[0m   def evaluate(self,\n",
      "\u001b[1;32m~\\.conda\\envs\\tf_gpu\\lib\\site-packages\\tensorflow_core\\python\\keras\\engine\\training_v2.py\u001b[0m in \u001b[0;36mfit\u001b[1;34m(self, model, x, y, batch_size, epochs, verbose, callbacks, validation_split, validation_data, shuffle, class_weight, sample_weight, initial_epoch, steps_per_epoch, validation_steps, validation_freq, max_queue_size, workers, use_multiprocessing, **kwargs)\u001b[0m\n\u001b[0;32m    233\u001b[0m           \u001b[0mmax_queue_size\u001b[0m\u001b[1;33m=\u001b[0m\u001b[0mmax_queue_size\u001b[0m\u001b[1;33m,\u001b[0m\u001b[1;33m\u001b[0m\u001b[1;33m\u001b[0m\u001b[0m\n\u001b[0;32m    234\u001b[0m           \u001b[0mworkers\u001b[0m\u001b[1;33m=\u001b[0m\u001b[0mworkers\u001b[0m\u001b[1;33m,\u001b[0m\u001b[1;33m\u001b[0m\u001b[1;33m\u001b[0m\u001b[0m\n\u001b[1;32m--> 235\u001b[1;33m           use_multiprocessing=use_multiprocessing)\n\u001b[0m\u001b[0;32m    236\u001b[0m \u001b[1;33m\u001b[0m\u001b[0m\n\u001b[0;32m    237\u001b[0m       \u001b[0mtotal_samples\u001b[0m \u001b[1;33m=\u001b[0m \u001b[0m_get_total_number_of_samples\u001b[0m\u001b[1;33m(\u001b[0m\u001b[0mtraining_data_adapter\u001b[0m\u001b[1;33m)\u001b[0m\u001b[1;33m\u001b[0m\u001b[1;33m\u001b[0m\u001b[0m\n",
      "\u001b[1;32m~\\.conda\\envs\\tf_gpu\\lib\\site-packages\\tensorflow_core\\python\\keras\\engine\\training_v2.py\u001b[0m in \u001b[0;36m_process_training_inputs\u001b[1;34m(model, x, y, batch_size, epochs, sample_weights, class_weights, steps_per_epoch, validation_split, validation_data, validation_steps, shuffle, distribution_strategy, max_queue_size, workers, use_multiprocessing)\u001b[0m\n\u001b[0;32m    591\u001b[0m         \u001b[0mmax_queue_size\u001b[0m\u001b[1;33m=\u001b[0m\u001b[0mmax_queue_size\u001b[0m\u001b[1;33m,\u001b[0m\u001b[1;33m\u001b[0m\u001b[1;33m\u001b[0m\u001b[0m\n\u001b[0;32m    592\u001b[0m         \u001b[0mworkers\u001b[0m\u001b[1;33m=\u001b[0m\u001b[0mworkers\u001b[0m\u001b[1;33m,\u001b[0m\u001b[1;33m\u001b[0m\u001b[1;33m\u001b[0m\u001b[0m\n\u001b[1;32m--> 593\u001b[1;33m         use_multiprocessing=use_multiprocessing)\n\u001b[0m\u001b[0;32m    594\u001b[0m     \u001b[0mval_adapter\u001b[0m \u001b[1;33m=\u001b[0m \u001b[1;32mNone\u001b[0m\u001b[1;33m\u001b[0m\u001b[1;33m\u001b[0m\u001b[0m\n\u001b[0;32m    595\u001b[0m     \u001b[1;32mif\u001b[0m \u001b[0mvalidation_data\u001b[0m\u001b[1;33m:\u001b[0m\u001b[1;33m\u001b[0m\u001b[1;33m\u001b[0m\u001b[0m\n",
      "\u001b[1;32m~\\.conda\\envs\\tf_gpu\\lib\\site-packages\\tensorflow_core\\python\\keras\\engine\\training_v2.py\u001b[0m in \u001b[0;36m_process_inputs\u001b[1;34m(model, mode, x, y, batch_size, epochs, sample_weights, class_weights, shuffle, steps, distribution_strategy, max_queue_size, workers, use_multiprocessing)\u001b[0m\n\u001b[0;32m    704\u001b[0m       \u001b[0mmax_queue_size\u001b[0m\u001b[1;33m=\u001b[0m\u001b[0mmax_queue_size\u001b[0m\u001b[1;33m,\u001b[0m\u001b[1;33m\u001b[0m\u001b[1;33m\u001b[0m\u001b[0m\n\u001b[0;32m    705\u001b[0m       \u001b[0mworkers\u001b[0m\u001b[1;33m=\u001b[0m\u001b[0mworkers\u001b[0m\u001b[1;33m,\u001b[0m\u001b[1;33m\u001b[0m\u001b[1;33m\u001b[0m\u001b[0m\n\u001b[1;32m--> 706\u001b[1;33m       use_multiprocessing=use_multiprocessing)\n\u001b[0m\u001b[0;32m    707\u001b[0m \u001b[1;33m\u001b[0m\u001b[0m\n\u001b[0;32m    708\u001b[0m   \u001b[1;32mreturn\u001b[0m \u001b[0madapter\u001b[0m\u001b[1;33m\u001b[0m\u001b[1;33m\u001b[0m\u001b[0m\n",
      "\u001b[1;32m~\\.conda\\envs\\tf_gpu\\lib\\site-packages\\tensorflow_core\\python\\keras\\engine\\data_adapter.py\u001b[0m in \u001b[0;36m__init__\u001b[1;34m(self, x, y, sample_weights, standardize_function, workers, use_multiprocessing, max_queue_size, **kwargs)\u001b[0m\n\u001b[0;32m    745\u001b[0m     \u001b[1;31m# Since we have to know the dtype of the python generator when we build the\u001b[0m\u001b[1;33m\u001b[0m\u001b[1;33m\u001b[0m\u001b[1;33m\u001b[0m\u001b[0m\n\u001b[0;32m    746\u001b[0m     \u001b[1;31m# dataset, we have to look at a batch to infer the structure.\u001b[0m\u001b[1;33m\u001b[0m\u001b[1;33m\u001b[0m\u001b[1;33m\u001b[0m\u001b[0m\n\u001b[1;32m--> 747\u001b[1;33m     \u001b[0mpeek\u001b[0m\u001b[1;33m,\u001b[0m \u001b[0mx\u001b[0m \u001b[1;33m=\u001b[0m \u001b[0mself\u001b[0m\u001b[1;33m.\u001b[0m\u001b[0m_peek_and_restore\u001b[0m\u001b[1;33m(\u001b[0m\u001b[0mx\u001b[0m\u001b[1;33m)\u001b[0m\u001b[1;33m\u001b[0m\u001b[1;33m\u001b[0m\u001b[0m\n\u001b[0m\u001b[0;32m    748\u001b[0m     \u001b[0massert_not_namedtuple\u001b[0m\u001b[1;33m(\u001b[0m\u001b[0mpeek\u001b[0m\u001b[1;33m)\u001b[0m\u001b[1;33m\u001b[0m\u001b[1;33m\u001b[0m\u001b[0m\n\u001b[0;32m    749\u001b[0m \u001b[1;33m\u001b[0m\u001b[0m\n",
      "\u001b[1;32m~\\.conda\\envs\\tf_gpu\\lib\\site-packages\\tensorflow_core\\python\\keras\\engine\\data_adapter.py\u001b[0m in \u001b[0;36m_peek_and_restore\u001b[1;34m(x)\u001b[0m\n\u001b[0;32m    848\u001b[0m   \u001b[1;33m@\u001b[0m\u001b[0mstaticmethod\u001b[0m\u001b[1;33m\u001b[0m\u001b[1;33m\u001b[0m\u001b[0m\n\u001b[0;32m    849\u001b[0m   \u001b[1;32mdef\u001b[0m \u001b[0m_peek_and_restore\u001b[0m\u001b[1;33m(\u001b[0m\u001b[0mx\u001b[0m\u001b[1;33m)\u001b[0m\u001b[1;33m:\u001b[0m\u001b[1;33m\u001b[0m\u001b[1;33m\u001b[0m\u001b[0m\n\u001b[1;32m--> 850\u001b[1;33m     \u001b[0mpeek\u001b[0m \u001b[1;33m=\u001b[0m \u001b[0mnext\u001b[0m\u001b[1;33m(\u001b[0m\u001b[0mx\u001b[0m\u001b[1;33m)\u001b[0m\u001b[1;33m\u001b[0m\u001b[1;33m\u001b[0m\u001b[0m\n\u001b[0m\u001b[0;32m    851\u001b[0m     \u001b[1;32mreturn\u001b[0m \u001b[0mpeek\u001b[0m\u001b[1;33m,\u001b[0m \u001b[0mitertools\u001b[0m\u001b[1;33m.\u001b[0m\u001b[0mchain\u001b[0m\u001b[1;33m(\u001b[0m\u001b[1;33m[\u001b[0m\u001b[0mpeek\u001b[0m\u001b[1;33m]\u001b[0m\u001b[1;33m,\u001b[0m \u001b[0mx\u001b[0m\u001b[1;33m)\u001b[0m\u001b[1;33m\u001b[0m\u001b[1;33m\u001b[0m\u001b[0m\n\u001b[0;32m    852\u001b[0m \u001b[1;33m\u001b[0m\u001b[0m\n",
      "\u001b[1;32mc:\\Users\\fraul\\OneDrive - University of the Philippines\\Frauline\\YEAR IV\\CoE 199\\NMP\\nmp\\dataset.py\u001b[0m in \u001b[0;36mgenerate\u001b[1;34m(datasets, bs, trans)\u001b[0m\n\u001b[0;32m    343\u001b[0m             \u001b[0mb\u001b[0m \u001b[1;33m+=\u001b[0m \u001b[0mbs\u001b[0m\u001b[1;33m\u001b[0m\u001b[1;33m\u001b[0m\u001b[0m\n\u001b[0;32m    344\u001b[0m \u001b[1;33m\u001b[0m\u001b[0m\n\u001b[1;32m--> 345\u001b[1;33m             \u001b[1;32mif\u001b[0m \u001b[0mdatasets\u001b[0m\u001b[1;33m[\u001b[0m\u001b[1;36m0\u001b[0m\u001b[1;33m]\u001b[0m\u001b[1;33m[\u001b[0m\u001b[0mbatch\u001b[0m\u001b[1;33m,\u001b[0m \u001b[1;33m:\u001b[0m\u001b[1;33m,\u001b[0m \u001b[1;33m:\u001b[0m\u001b[1;33m]\u001b[0m\u001b[1;33m.\u001b[0m\u001b[0mshape\u001b[0m\u001b[1;33m[\u001b[0m\u001b[1;36m0\u001b[0m\u001b[1;33m]\u001b[0m \u001b[1;33m==\u001b[0m \u001b[1;36m0\u001b[0m\u001b[1;33m:\u001b[0m\u001b[1;33m\u001b[0m\u001b[1;33m\u001b[0m\u001b[0m\n\u001b[0m\u001b[0;32m    346\u001b[0m                 \u001b[1;32mbreak\u001b[0m\u001b[1;33m\u001b[0m\u001b[1;33m\u001b[0m\u001b[0m\n\u001b[0;32m    347\u001b[0m \u001b[1;33m\u001b[0m\u001b[0m\n",
      "\u001b[1;31mIndexError\u001b[0m: too many indices for array"
     ]
    }
   ],
   "source": [
    "# # Fit generator the model.\n",
    "# BS = 64  # Batch size\n",
    "# epochs = 20\n",
    "# start = time.time()\n",
    "# size_train = math.ceil(train.dataset[0].shape[0] / BS)\n",
    "# spe_train = size_train\n",
    "# size_valid = math.ceil(validation.dataset[0].shape[0] / BS)\n",
    "# spe_valid = size_valid\n",
    "# print(\"Train dataset shape: \", train.dataset[0].shape, \"\\n\")\n",
    "# print(\"Train dataset target shape: \", train.dataset[1].shape, \"\\n\")\n",
    "\n",
    "# # Fit generator. Data should be shuffled before fitting.\n",
    "# history = model.fit(dataset.generate((train.dataset[0], train.dataset[1]), trans=1), epochs=epochs,\n",
    "#           steps_per_epoch=spe_train,\n",
    "#           validation_data=dataset.generate((validation.dataset[0], validation.dataset[1])),\n",
    "#           validation_steps=spe_valid,\n",
    "#           callbacks=[logger, csv_logger])\n",
    "\n",
    "# end = time.time()"
   ]
  },
  {
   "cell_type": "markdown",
   "metadata": {},
   "source": [
    "#### fit"
   ]
  },
  {
   "cell_type": "code",
   "execution_count": 12,
   "metadata": {},
   "outputs": [
    {
     "name": "stdout",
     "output_type": "stream",
     "text": [
      "Train for 59 steps, validate for 15 steps\n",
      "Epoch 1/20\n",
      "59/59 [==============================] - 8s 138ms/step - loss: 0.3441 - accuracy: 0.8717 - val_loss: 0.2630 - val_accuracy: 0.9152\n",
      "Epoch 2/20\n",
      "59/59 [==============================] - 4s 71ms/step - loss: 0.2577 - accuracy: 0.9157 - val_loss: 0.2536 - val_accuracy: 0.9152\n",
      "Epoch 3/20\n",
      "59/59 [==============================] - 7s 111ms/step - loss: 0.2350 - accuracy: 0.9157 - val_loss: 0.2260 - val_accuracy: 0.9149\n",
      "Epoch 4/20\n",
      "59/59 [==============================] - 11s 193ms/step - loss: 0.2224 - accuracy: 0.9155 - val_loss: 0.2231 - val_accuracy: 0.9150\n",
      "Epoch 5/20\n",
      "59/59 [==============================] - 12s 211ms/step - loss: 0.2205 - accuracy: 0.9155 - val_loss: 0.2217 - val_accuracy: 0.9150\n",
      "Epoch 6/20\n",
      "59/59 [==============================] - 13s 217ms/step - loss: 0.2191 - accuracy: 0.9157 - val_loss: 0.2203 - val_accuracy: 0.9151\n",
      "Epoch 7/20\n",
      "59/59 [==============================] - 12s 211ms/step - loss: 0.2174 - accuracy: 0.9158 - val_loss: 0.2185 - val_accuracy: 0.9153\n",
      "Epoch 8/20\n",
      "59/59 [==============================] - 12s 210ms/step - loss: 0.2148 - accuracy: 0.9161 - val_loss: 0.2156 - val_accuracy: 0.9158\n",
      "Epoch 9/20\n",
      "59/59 [==============================] - 12s 211ms/step - loss: 0.2117 - accuracy: 0.9165 - val_loss: 0.2128 - val_accuracy: 0.9162\n",
      "Epoch 10/20\n",
      "59/59 [==============================] - 13s 219ms/step - loss: 0.2089 - accuracy: 0.9170 - val_loss: 0.2105 - val_accuracy: 0.9165\n",
      "Epoch 11/20\n",
      "59/59 [==============================] - 13s 220ms/step - loss: 0.2066 - accuracy: 0.9174 - val_loss: 0.2088 - val_accuracy: 0.9169\n",
      "Epoch 12/20\n",
      "59/59 [==============================] - 7s 119ms/step - loss: 0.2048 - accuracy: 0.9178 - val_loss: 0.2072 - val_accuracy: 0.9172\n",
      "Epoch 13/20\n",
      "59/59 [==============================] - 10s 164ms/step - loss: 0.2031 - accuracy: 0.9183 - val_loss: 0.2058 - val_accuracy: 0.9176\n",
      "Epoch 14/20\n",
      "59/59 [==============================] - 8s 140ms/step - loss: 0.2017 - accuracy: 0.9186 - val_loss: 0.2045 - val_accuracy: 0.9179\n",
      "Epoch 15/20\n",
      "59/59 [==============================] - 12s 205ms/step - loss: 0.2003 - accuracy: 0.9190 - val_loss: 0.2034 - val_accuracy: 0.9182\n",
      "Epoch 16/20\n",
      "59/59 [==============================] - 8s 134ms/step - loss: 0.1993 - accuracy: 0.9193 - val_loss: 0.2025 - val_accuracy: 0.9184\n",
      "Epoch 17/20\n",
      "59/59 [==============================] - 6s 97ms/step - loss: 0.1983 - accuracy: 0.9195 - val_loss: 0.2017 - val_accuracy: 0.9186\n",
      "Epoch 18/20\n",
      "59/59 [==============================] - 7s 114ms/step - loss: 0.1974 - accuracy: 0.9198 - val_loss: 0.2011 - val_accuracy: 0.9188\n",
      "Epoch 19/20\n",
      "59/59 [==============================] - 8s 134ms/step - loss: 0.1967 - accuracy: 0.9199 - val_loss: 0.2004 - val_accuracy: 0.9189\n",
      "Epoch 20/20\n",
      "59/59 [==============================] - 6s 96ms/step - loss: 0.1958 - accuracy: 0.9201 - val_loss: 0.1998 - val_accuracy: 0.9189\n"
     ]
    }
   ],
   "source": [
    "# Fit the model.\n",
    "BS = BATCH_SIZE  # Batch size\n",
    "epochs = 20\n",
    "start = time.time()\n",
    "\n",
    "# Normal fit. Auto-shuffles data.\n",
    "history = model.fit(train_data, validation_data=valid_data, epochs=epochs, shuffle=True,\n",
    "                    callbacks=[logger, csv_logger, checkpoint_callback])\n",
    "\n",
    "end = time.time()"
   ]
  },
  {
   "cell_type": "code",
   "execution_count": 15,
   "metadata": {},
   "outputs": [
    {
     "data": {
      "text/plain": [
       "'rnn-pop909-loss-train.dat'"
      ]
     },
     "execution_count": 15,
     "metadata": {},
     "output_type": "execute_result"
    }
   ],
   "source": [
    "('rnn-' + D[5:] + '-loss-train.dat').lower()"
   ]
  },
  {
   "cell_type": "code",
   "execution_count": 18,
   "metadata": {},
   "outputs": [],
   "source": [
    "# model.save(str(P / 'models' / 'ff-z2-de'))\n",
    "model.save(str(P / 'models' / 'lstm-500') + '.h5', save_format='h5')"
   ]
  },
  {
   "cell_type": "markdown",
   "metadata": {},
   "source": [
    "### History"
   ]
  },
  {
   "cell_type": "code",
   "execution_count": 13,
   "metadata": {
    "tags": []
   },
   "outputs": [
    {
     "name": "stdout",
     "output_type": "stream",
     "text": [
      "\n",
      "Training time:  190.24200081825256 \n",
      "\n"
     ]
    },
    {
     "data": {
      "text/html": [
       "<div>\n",
       "<style scoped>\n",
       "    .dataframe tbody tr th:only-of-type {\n",
       "        vertical-align: middle;\n",
       "    }\n",
       "\n",
       "    .dataframe tbody tr th {\n",
       "        vertical-align: top;\n",
       "    }\n",
       "\n",
       "    .dataframe thead th {\n",
       "        text-align: right;\n",
       "    }\n",
       "</style>\n",
       "<table border=\"1\" class=\"dataframe\">\n",
       "  <thead>\n",
       "    <tr style=\"text-align: right;\">\n",
       "      <th></th>\n",
       "      <th>loss</th>\n",
       "      <th>accuracy</th>\n",
       "      <th>val_loss</th>\n",
       "      <th>val_accuracy</th>\n",
       "    </tr>\n",
       "  </thead>\n",
       "  <tbody>\n",
       "    <tr>\n",
       "      <th>0</th>\n",
       "      <td>0.344126</td>\n",
       "      <td>0.871679</td>\n",
       "      <td>0.263044</td>\n",
       "      <td>0.915189</td>\n",
       "    </tr>\n",
       "    <tr>\n",
       "      <th>1</th>\n",
       "      <td>0.257699</td>\n",
       "      <td>0.915701</td>\n",
       "      <td>0.253594</td>\n",
       "      <td>0.915218</td>\n",
       "    </tr>\n",
       "    <tr>\n",
       "      <th>2</th>\n",
       "      <td>0.235025</td>\n",
       "      <td>0.915736</td>\n",
       "      <td>0.225991</td>\n",
       "      <td>0.914917</td>\n",
       "    </tr>\n",
       "    <tr>\n",
       "      <th>3</th>\n",
       "      <td>0.222352</td>\n",
       "      <td>0.915536</td>\n",
       "      <td>0.223129</td>\n",
       "      <td>0.914967</td>\n",
       "    </tr>\n",
       "    <tr>\n",
       "      <th>4</th>\n",
       "      <td>0.220513</td>\n",
       "      <td>0.915534</td>\n",
       "      <td>0.221729</td>\n",
       "      <td>0.915041</td>\n",
       "    </tr>\n",
       "    <tr>\n",
       "      <th>5</th>\n",
       "      <td>0.219135</td>\n",
       "      <td>0.915653</td>\n",
       "      <td>0.220328</td>\n",
       "      <td>0.915101</td>\n",
       "    </tr>\n",
       "    <tr>\n",
       "      <th>6</th>\n",
       "      <td>0.217444</td>\n",
       "      <td>0.915769</td>\n",
       "      <td>0.218475</td>\n",
       "      <td>0.915326</td>\n",
       "    </tr>\n",
       "    <tr>\n",
       "      <th>7</th>\n",
       "      <td>0.214819</td>\n",
       "      <td>0.916085</td>\n",
       "      <td>0.215627</td>\n",
       "      <td>0.915777</td>\n",
       "    </tr>\n",
       "    <tr>\n",
       "      <th>8</th>\n",
       "      <td>0.211674</td>\n",
       "      <td>0.916521</td>\n",
       "      <td>0.212812</td>\n",
       "      <td>0.916175</td>\n",
       "    </tr>\n",
       "    <tr>\n",
       "      <th>9</th>\n",
       "      <td>0.208927</td>\n",
       "      <td>0.916959</td>\n",
       "      <td>0.210541</td>\n",
       "      <td>0.916453</td>\n",
       "    </tr>\n",
       "    <tr>\n",
       "      <th>10</th>\n",
       "      <td>0.206643</td>\n",
       "      <td>0.917419</td>\n",
       "      <td>0.208822</td>\n",
       "      <td>0.916902</td>\n",
       "    </tr>\n",
       "    <tr>\n",
       "      <th>11</th>\n",
       "      <td>0.204825</td>\n",
       "      <td>0.917838</td>\n",
       "      <td>0.207232</td>\n",
       "      <td>0.917200</td>\n",
       "    </tr>\n",
       "    <tr>\n",
       "      <th>12</th>\n",
       "      <td>0.203149</td>\n",
       "      <td>0.918297</td>\n",
       "      <td>0.205786</td>\n",
       "      <td>0.917571</td>\n",
       "    </tr>\n",
       "    <tr>\n",
       "      <th>13</th>\n",
       "      <td>0.201712</td>\n",
       "      <td>0.918633</td>\n",
       "      <td>0.204463</td>\n",
       "      <td>0.917949</td>\n",
       "    </tr>\n",
       "    <tr>\n",
       "      <th>14</th>\n",
       "      <td>0.200340</td>\n",
       "      <td>0.919005</td>\n",
       "      <td>0.203387</td>\n",
       "      <td>0.918222</td>\n",
       "    </tr>\n",
       "    <tr>\n",
       "      <th>15</th>\n",
       "      <td>0.199298</td>\n",
       "      <td>0.919262</td>\n",
       "      <td>0.202497</td>\n",
       "      <td>0.918424</td>\n",
       "    </tr>\n",
       "    <tr>\n",
       "      <th>16</th>\n",
       "      <td>0.198291</td>\n",
       "      <td>0.919541</td>\n",
       "      <td>0.201714</td>\n",
       "      <td>0.918558</td>\n",
       "    </tr>\n",
       "    <tr>\n",
       "      <th>17</th>\n",
       "      <td>0.197381</td>\n",
       "      <td>0.919753</td>\n",
       "      <td>0.201112</td>\n",
       "      <td>0.918756</td>\n",
       "    </tr>\n",
       "    <tr>\n",
       "      <th>18</th>\n",
       "      <td>0.196670</td>\n",
       "      <td>0.919911</td>\n",
       "      <td>0.200372</td>\n",
       "      <td>0.918875</td>\n",
       "    </tr>\n",
       "    <tr>\n",
       "      <th>19</th>\n",
       "      <td>0.195786</td>\n",
       "      <td>0.920147</td>\n",
       "      <td>0.199836</td>\n",
       "      <td>0.918918</td>\n",
       "    </tr>\n",
       "  </tbody>\n",
       "</table>\n",
       "</div>"
      ],
      "text/plain": [
       "        loss  accuracy  val_loss  val_accuracy\n",
       "0   0.344126  0.871679  0.263044      0.915189\n",
       "1   0.257699  0.915701  0.253594      0.915218\n",
       "2   0.235025  0.915736  0.225991      0.914917\n",
       "3   0.222352  0.915536  0.223129      0.914967\n",
       "4   0.220513  0.915534  0.221729      0.915041\n",
       "5   0.219135  0.915653  0.220328      0.915101\n",
       "6   0.217444  0.915769  0.218475      0.915326\n",
       "7   0.214819  0.916085  0.215627      0.915777\n",
       "8   0.211674  0.916521  0.212812      0.916175\n",
       "9   0.208927  0.916959  0.210541      0.916453\n",
       "10  0.206643  0.917419  0.208822      0.916902\n",
       "11  0.204825  0.917838  0.207232      0.917200\n",
       "12  0.203149  0.918297  0.205786      0.917571\n",
       "13  0.201712  0.918633  0.204463      0.917949\n",
       "14  0.200340  0.919005  0.203387      0.918222\n",
       "15  0.199298  0.919262  0.202497      0.918424\n",
       "16  0.198291  0.919541  0.201714      0.918558\n",
       "17  0.197381  0.919753  0.201112      0.918756\n",
       "18  0.196670  0.919911  0.200372      0.918875\n",
       "19  0.195786  0.920147  0.199836      0.918918"
      ]
     },
     "execution_count": 13,
     "metadata": {},
     "output_type": "execute_result"
    }
   ],
   "source": [
    "print(\"\\nTraining time: \", (end-start), \"\\n\")\n",
    "hist = pd.DataFrame(history.history)\n",
    "\n",
    "if SAVE:\n",
    "    hist['loss'].to_csv(('tables/rnn-' + D[5:] + '-loss-train' + NOTES + '.dat').lower(), sep=' ', header=None)\n",
    "    hist['val_loss'].to_csv(('tables/rnn-' + D[5:] + '-loss-valid' + NOTES + '.dat').lower(), sep=' ', header=None)\n",
    "\n",
    "hist"
   ]
  },
  {
   "cell_type": "markdown",
   "metadata": {},
   "source": [
    "### Plot loss function of training and validation sets"
   ]
  },
  {
   "cell_type": "code",
   "execution_count": 14,
   "metadata": {},
   "outputs": [
    {
     "name": "stdout",
     "output_type": "stream",
     "text": [
      "Training time:  190.24200081825256\n"
     ]
    },
    {
     "data": {
      "image/png": "[encoded data removed]",
      "text/plain": [
       "<Figure size 360x288 with 1 Axes>"
      ]
     },
     "metadata": {
      "needs_background": "light"
     },
     "output_type": "display_data"
    }
   ],
   "source": [
    "fig, ax = plt.subplots(constrained_layout=True, figsize=(5, 4))\n",
    "plt.plot(hist['val_loss'], '-', lw=3, c='tab:orange', label='Validation', ms=8, alpha=0.8)\n",
    "plt.plot(hist['loss'], '-', lw=1, c='tab:red', label='Train', ms=8, alpha=0.8)\n",
    "plt.xlabel('Epoch')\n",
    "# plt.xticks(range(epochs))\n",
    "plt.legend()\n",
    "plt.title('Loss: Binary cross-entropy')\n",
    "ax.spines['top'].set_visible(False)\n",
    "ax.spines['right'].set_visible(False)\n",
    "plt.ylim([0.1, 0.3])\n",
    "# fig.savefig(PLOTS / 'compare-lstm-loss.eps', fmt='eps')\n",
    "print(\"Training time: \", (end-start))"
   ]
  },
  {
   "cell_type": "code",
   "execution_count": 15,
   "metadata": {},
   "outputs": [
    {
     "ename": "KeyError",
     "evalue": "'f1'",
     "output_type": "error",
     "traceback": [
      "\u001b[1;31m---------------------------------------------------------------------------\u001b[0m",
      "\u001b[1;31mKeyError\u001b[0m                                  Traceback (most recent call last)",
      "\u001b[1;32m~\\.conda\\envs\\tf_gpu\\lib\\site-packages\\pandas\\core\\indexes\\base.py\u001b[0m in \u001b[0;36mget_loc\u001b[1;34m(self, key, method, tolerance)\u001b[0m\n\u001b[0;32m   2645\u001b[0m             \u001b[1;32mtry\u001b[0m\u001b[1;33m:\u001b[0m\u001b[1;33m\u001b[0m\u001b[1;33m\u001b[0m\u001b[0m\n\u001b[1;32m-> 2646\u001b[1;33m                 \u001b[1;32mreturn\u001b[0m \u001b[0mself\u001b[0m\u001b[1;33m.\u001b[0m\u001b[0m_engine\u001b[0m\u001b[1;33m.\u001b[0m\u001b[0mget_loc\u001b[0m\u001b[1;33m(\u001b[0m\u001b[0mkey\u001b[0m\u001b[1;33m)\u001b[0m\u001b[1;33m\u001b[0m\u001b[1;33m\u001b[0m\u001b[0m\n\u001b[0m\u001b[0;32m   2647\u001b[0m             \u001b[1;32mexcept\u001b[0m \u001b[0mKeyError\u001b[0m\u001b[1;33m:\u001b[0m\u001b[1;33m\u001b[0m\u001b[1;33m\u001b[0m\u001b[0m\n",
      "\u001b[1;32mpandas\\_libs\\index.pyx\u001b[0m in \u001b[0;36mpandas._libs.index.IndexEngine.get_loc\u001b[1;34m()\u001b[0m\n",
      "\u001b[1;32mpandas\\_libs\\index.pyx\u001b[0m in \u001b[0;36mpandas._libs.index.IndexEngine.get_loc\u001b[1;34m()\u001b[0m\n",
      "\u001b[1;32mpandas\\_libs\\hashtable_class_helper.pxi\u001b[0m in \u001b[0;36mpandas._libs.hashtable.PyObjectHashTable.get_item\u001b[1;34m()\u001b[0m\n",
      "\u001b[1;32mpandas\\_libs\\hashtable_class_helper.pxi\u001b[0m in \u001b[0;36mpandas._libs.hashtable.PyObjectHashTable.get_item\u001b[1;34m()\u001b[0m\n",
      "\u001b[1;31mKeyError\u001b[0m: 'f1'",
      "\nDuring handling of the above exception, another exception occurred:\n",
      "\u001b[1;31mKeyError\u001b[0m                                  Traceback (most recent call last)",
      "\u001b[1;32m<ipython-input-15-dbb867ed0a13>\u001b[0m in \u001b[0;36m<module>\u001b[1;34m\u001b[0m\n\u001b[0;32m      1\u001b[0m \u001b[1;31m# F1 score.\u001b[0m\u001b[1;33m\u001b[0m\u001b[1;33m\u001b[0m\u001b[1;33m\u001b[0m\u001b[0m\n\u001b[0;32m      2\u001b[0m \u001b[0mfig\u001b[0m\u001b[1;33m,\u001b[0m \u001b[0max\u001b[0m \u001b[1;33m=\u001b[0m \u001b[0mplt\u001b[0m\u001b[1;33m.\u001b[0m\u001b[0msubplots\u001b[0m\u001b[1;33m(\u001b[0m\u001b[0mconstrained_layout\u001b[0m\u001b[1;33m=\u001b[0m\u001b[1;32mTrue\u001b[0m\u001b[1;33m,\u001b[0m \u001b[0mfigsize\u001b[0m\u001b[1;33m=\u001b[0m\u001b[1;33m(\u001b[0m\u001b[1;36m6\u001b[0m\u001b[1;33m,\u001b[0m \u001b[1;36m4\u001b[0m\u001b[1;33m)\u001b[0m\u001b[1;33m)\u001b[0m\u001b[1;33m\u001b[0m\u001b[1;33m\u001b[0m\u001b[0m\n\u001b[1;32m----> 3\u001b[1;33m \u001b[0mplt\u001b[0m\u001b[1;33m.\u001b[0m\u001b[0mplot\u001b[0m\u001b[1;33m(\u001b[0m\u001b[0mhist\u001b[0m\u001b[1;33m[\u001b[0m\u001b[1;34m'f1'\u001b[0m\u001b[1;33m]\u001b[0m\u001b[1;33m,\u001b[0m \u001b[1;34m's-'\u001b[0m\u001b[1;33m,\u001b[0m \u001b[0mc\u001b[0m\u001b[1;33m=\u001b[0m\u001b[1;34m'tab:blue'\u001b[0m\u001b[1;33m,\u001b[0m \u001b[0mlabel\u001b[0m\u001b[1;33m=\u001b[0m\u001b[1;34m'Train'\u001b[0m\u001b[1;33m,\u001b[0m \u001b[0mms\u001b[0m\u001b[1;33m=\u001b[0m\u001b[1;36m8\u001b[0m\u001b[1;33m,\u001b[0m \u001b[0malpha\u001b[0m\u001b[1;33m=\u001b[0m\u001b[1;36m0.8\u001b[0m\u001b[1;33m)\u001b[0m\u001b[1;33m\u001b[0m\u001b[1;33m\u001b[0m\u001b[0m\n\u001b[0m\u001b[0;32m      4\u001b[0m plt.plot(hist['val_f1'], 'o-', c='tab:orange', label='Validation', ms=8,\n\u001b[0;32m      5\u001b[0m          alpha=0.8)\n",
      "\u001b[1;32m~\\.conda\\envs\\tf_gpu\\lib\\site-packages\\pandas\\core\\frame.py\u001b[0m in \u001b[0;36m__getitem__\u001b[1;34m(self, key)\u001b[0m\n\u001b[0;32m   2798\u001b[0m             \u001b[1;32mif\u001b[0m \u001b[0mself\u001b[0m\u001b[1;33m.\u001b[0m\u001b[0mcolumns\u001b[0m\u001b[1;33m.\u001b[0m\u001b[0mnlevels\u001b[0m \u001b[1;33m>\u001b[0m \u001b[1;36m1\u001b[0m\u001b[1;33m:\u001b[0m\u001b[1;33m\u001b[0m\u001b[1;33m\u001b[0m\u001b[0m\n\u001b[0;32m   2799\u001b[0m                 \u001b[1;32mreturn\u001b[0m \u001b[0mself\u001b[0m\u001b[1;33m.\u001b[0m\u001b[0m_getitem_multilevel\u001b[0m\u001b[1;33m(\u001b[0m\u001b[0mkey\u001b[0m\u001b[1;33m)\u001b[0m\u001b[1;33m\u001b[0m\u001b[1;33m\u001b[0m\u001b[0m\n\u001b[1;32m-> 2800\u001b[1;33m             \u001b[0mindexer\u001b[0m \u001b[1;33m=\u001b[0m \u001b[0mself\u001b[0m\u001b[1;33m.\u001b[0m\u001b[0mcolumns\u001b[0m\u001b[1;33m.\u001b[0m\u001b[0mget_loc\u001b[0m\u001b[1;33m(\u001b[0m\u001b[0mkey\u001b[0m\u001b[1;33m)\u001b[0m\u001b[1;33m\u001b[0m\u001b[1;33m\u001b[0m\u001b[0m\n\u001b[0m\u001b[0;32m   2801\u001b[0m             \u001b[1;32mif\u001b[0m \u001b[0mis_integer\u001b[0m\u001b[1;33m(\u001b[0m\u001b[0mindexer\u001b[0m\u001b[1;33m)\u001b[0m\u001b[1;33m:\u001b[0m\u001b[1;33m\u001b[0m\u001b[1;33m\u001b[0m\u001b[0m\n\u001b[0;32m   2802\u001b[0m                 \u001b[0mindexer\u001b[0m \u001b[1;33m=\u001b[0m \u001b[1;33m[\u001b[0m\u001b[0mindexer\u001b[0m\u001b[1;33m]\u001b[0m\u001b[1;33m\u001b[0m\u001b[1;33m\u001b[0m\u001b[0m\n",
      "\u001b[1;32m~\\.conda\\envs\\tf_gpu\\lib\\site-packages\\pandas\\core\\indexes\\base.py\u001b[0m in \u001b[0;36mget_loc\u001b[1;34m(self, key, method, tolerance)\u001b[0m\n\u001b[0;32m   2646\u001b[0m                 \u001b[1;32mreturn\u001b[0m \u001b[0mself\u001b[0m\u001b[1;33m.\u001b[0m\u001b[0m_engine\u001b[0m\u001b[1;33m.\u001b[0m\u001b[0mget_loc\u001b[0m\u001b[1;33m(\u001b[0m\u001b[0mkey\u001b[0m\u001b[1;33m)\u001b[0m\u001b[1;33m\u001b[0m\u001b[1;33m\u001b[0m\u001b[0m\n\u001b[0;32m   2647\u001b[0m             \u001b[1;32mexcept\u001b[0m \u001b[0mKeyError\u001b[0m\u001b[1;33m:\u001b[0m\u001b[1;33m\u001b[0m\u001b[1;33m\u001b[0m\u001b[0m\n\u001b[1;32m-> 2648\u001b[1;33m                 \u001b[1;32mreturn\u001b[0m \u001b[0mself\u001b[0m\u001b[1;33m.\u001b[0m\u001b[0m_engine\u001b[0m\u001b[1;33m.\u001b[0m\u001b[0mget_loc\u001b[0m\u001b[1;33m(\u001b[0m\u001b[0mself\u001b[0m\u001b[1;33m.\u001b[0m\u001b[0m_maybe_cast_indexer\u001b[0m\u001b[1;33m(\u001b[0m\u001b[0mkey\u001b[0m\u001b[1;33m)\u001b[0m\u001b[1;33m)\u001b[0m\u001b[1;33m\u001b[0m\u001b[1;33m\u001b[0m\u001b[0m\n\u001b[0m\u001b[0;32m   2649\u001b[0m         \u001b[0mindexer\u001b[0m \u001b[1;33m=\u001b[0m \u001b[0mself\u001b[0m\u001b[1;33m.\u001b[0m\u001b[0mget_indexer\u001b[0m\u001b[1;33m(\u001b[0m\u001b[1;33m[\u001b[0m\u001b[0mkey\u001b[0m\u001b[1;33m]\u001b[0m\u001b[1;33m,\u001b[0m \u001b[0mmethod\u001b[0m\u001b[1;33m=\u001b[0m\u001b[0mmethod\u001b[0m\u001b[1;33m,\u001b[0m \u001b[0mtolerance\u001b[0m\u001b[1;33m=\u001b[0m\u001b[0mtolerance\u001b[0m\u001b[1;33m)\u001b[0m\u001b[1;33m\u001b[0m\u001b[1;33m\u001b[0m\u001b[0m\n\u001b[0;32m   2650\u001b[0m         \u001b[1;32mif\u001b[0m \u001b[0mindexer\u001b[0m\u001b[1;33m.\u001b[0m\u001b[0mndim\u001b[0m \u001b[1;33m>\u001b[0m \u001b[1;36m1\u001b[0m \u001b[1;32mor\u001b[0m \u001b[0mindexer\u001b[0m\u001b[1;33m.\u001b[0m\u001b[0msize\u001b[0m \u001b[1;33m>\u001b[0m \u001b[1;36m1\u001b[0m\u001b[1;33m:\u001b[0m\u001b[1;33m\u001b[0m\u001b[1;33m\u001b[0m\u001b[0m\n",
      "\u001b[1;32mpandas\\_libs\\index.pyx\u001b[0m in \u001b[0;36mpandas._libs.index.IndexEngine.get_loc\u001b[1;34m()\u001b[0m\n",
      "\u001b[1;32mpandas\\_libs\\index.pyx\u001b[0m in \u001b[0;36mpandas._libs.index.IndexEngine.get_loc\u001b[1;34m()\u001b[0m\n",
      "\u001b[1;32mpandas\\_libs\\hashtable_class_helper.pxi\u001b[0m in \u001b[0;36mpandas._libs.hashtable.PyObjectHashTable.get_item\u001b[1;34m()\u001b[0m\n",
      "\u001b[1;32mpandas\\_libs\\hashtable_class_helper.pxi\u001b[0m in \u001b[0;36mpandas._libs.hashtable.PyObjectHashTable.get_item\u001b[1;34m()\u001b[0m\n",
      "\u001b[1;31mKeyError\u001b[0m: 'f1'"
     ]
    },
    {
     "data": {
      "image/png": "[encoded data removed]",
      "text/plain": [
       "<Figure size 432x288 with 1 Axes>"
      ]
     },
     "metadata": {
      "needs_background": "light"
     },
     "output_type": "display_data"
    }
   ],
   "source": [
    "    # F1 score.\n",
    "    fig, ax = plt.subplots(constrained_layout=True, figsize=(6, 4))\n",
    "    plt.plot(hist['f1'], 's-', c='tab:blue', label='Train', ms=8, alpha=0.8)\n",
    "    plt.plot(hist['val_f1'], 'o-', c='tab:orange', label='Validation', ms=8,\n",
    "             alpha=0.8)\n",
    "    plt.xlabel('Epoch', fontsize='x-large')\n",
    "    plt.legend(fontsize='x-large')\n",
    "    plt.title('F1 Score', fontsize='x-large')\n",
    "    ax.spines['top'].set_visible(False)\n",
    "    ax.spines['right'].set_visible(False)\n",
    "    ax = plt.gca()\n",
    "    ax.tick_params(labelsize='x-large')\n"
   ]
  },
  {
   "cell_type": "code",
   "execution_count": 17,
   "metadata": {},
   "outputs": [
    {
     "ename": "KeyError",
     "evalue": "'precision_1'",
     "output_type": "error",
     "traceback": [
      "\u001b[1;31m---------------------------------------------------------------------------\u001b[0m",
      "\u001b[1;31mKeyError\u001b[0m                                  Traceback (most recent call last)",
      "\u001b[1;32m~\\.conda\\envs\\tf_gpu\\lib\\site-packages\\pandas\\core\\indexes\\base.py\u001b[0m in \u001b[0;36mget_loc\u001b[1;34m(self, key, method, tolerance)\u001b[0m\n\u001b[0;32m   2645\u001b[0m             \u001b[1;32mtry\u001b[0m\u001b[1;33m:\u001b[0m\u001b[1;33m\u001b[0m\u001b[1;33m\u001b[0m\u001b[0m\n\u001b[1;32m-> 2646\u001b[1;33m                 \u001b[1;32mreturn\u001b[0m \u001b[0mself\u001b[0m\u001b[1;33m.\u001b[0m\u001b[0m_engine\u001b[0m\u001b[1;33m.\u001b[0m\u001b[0mget_loc\u001b[0m\u001b[1;33m(\u001b[0m\u001b[0mkey\u001b[0m\u001b[1;33m)\u001b[0m\u001b[1;33m\u001b[0m\u001b[1;33m\u001b[0m\u001b[0m\n\u001b[0m\u001b[0;32m   2647\u001b[0m             \u001b[1;32mexcept\u001b[0m \u001b[0mKeyError\u001b[0m\u001b[1;33m:\u001b[0m\u001b[1;33m\u001b[0m\u001b[1;33m\u001b[0m\u001b[0m\n",
      "\u001b[1;32mpandas\\_libs\\index.pyx\u001b[0m in \u001b[0;36mpandas._libs.index.IndexEngine.get_loc\u001b[1;34m()\u001b[0m\n",
      "\u001b[1;32mpandas\\_libs\\index.pyx\u001b[0m in \u001b[0;36mpandas._libs.index.IndexEngine.get_loc\u001b[1;34m()\u001b[0m\n",
      "\u001b[1;32mpandas\\_libs\\hashtable_class_helper.pxi\u001b[0m in \u001b[0;36mpandas._libs.hashtable.PyObjectHashTable.get_item\u001b[1;34m()\u001b[0m\n",
      "\u001b[1;32mpandas\\_libs\\hashtable_class_helper.pxi\u001b[0m in \u001b[0;36mpandas._libs.hashtable.PyObjectHashTable.get_item\u001b[1;34m()\u001b[0m\n",
      "\u001b[1;31mKeyError\u001b[0m: 'precision_1'",
      "\nDuring handling of the above exception, another exception occurred:\n",
      "\u001b[1;31mKeyError\u001b[0m                                  Traceback (most recent call last)",
      "\u001b[1;32m<ipython-input-17-83f8aadb1493>\u001b[0m in \u001b[0;36m<module>\u001b[1;34m\u001b[0m\n\u001b[0;32m      1\u001b[0m \u001b[1;31m# Precision\u001b[0m\u001b[1;33m\u001b[0m\u001b[1;33m\u001b[0m\u001b[1;33m\u001b[0m\u001b[0m\n\u001b[0;32m      2\u001b[0m \u001b[0mfig\u001b[0m\u001b[1;33m,\u001b[0m \u001b[0max\u001b[0m \u001b[1;33m=\u001b[0m \u001b[0mplt\u001b[0m\u001b[1;33m.\u001b[0m\u001b[0msubplots\u001b[0m\u001b[1;33m(\u001b[0m\u001b[0mconstrained_layout\u001b[0m\u001b[1;33m=\u001b[0m\u001b[1;32mTrue\u001b[0m\u001b[1;33m,\u001b[0m \u001b[0mfigsize\u001b[0m\u001b[1;33m=\u001b[0m\u001b[1;33m(\u001b[0m\u001b[1;36m6\u001b[0m\u001b[1;33m,\u001b[0m \u001b[1;36m4\u001b[0m\u001b[1;33m)\u001b[0m\u001b[1;33m)\u001b[0m\u001b[1;33m\u001b[0m\u001b[1;33m\u001b[0m\u001b[0m\n\u001b[1;32m----> 3\u001b[1;33m \u001b[0mplt\u001b[0m\u001b[1;33m.\u001b[0m\u001b[0mplot\u001b[0m\u001b[1;33m(\u001b[0m\u001b[0mhist\u001b[0m\u001b[1;33m[\u001b[0m\u001b[1;34m'precision_1'\u001b[0m\u001b[1;33m]\u001b[0m\u001b[1;33m,\u001b[0m \u001b[1;34m's-'\u001b[0m\u001b[1;33m,\u001b[0m \u001b[0mc\u001b[0m\u001b[1;33m=\u001b[0m\u001b[1;34m'tab:blue'\u001b[0m\u001b[1;33m,\u001b[0m \u001b[0mlabel\u001b[0m\u001b[1;33m=\u001b[0m\u001b[1;34m'Train'\u001b[0m\u001b[1;33m,\u001b[0m \u001b[0mms\u001b[0m\u001b[1;33m=\u001b[0m\u001b[1;36m8\u001b[0m\u001b[1;33m,\u001b[0m \u001b[0malpha\u001b[0m\u001b[1;33m=\u001b[0m\u001b[1;36m0.8\u001b[0m\u001b[1;33m)\u001b[0m\u001b[1;33m\u001b[0m\u001b[1;33m\u001b[0m\u001b[0m\n\u001b[0m\u001b[0;32m      4\u001b[0m \u001b[0mplt\u001b[0m\u001b[1;33m.\u001b[0m\u001b[0mplot\u001b[0m\u001b[1;33m(\u001b[0m\u001b[0mhist\u001b[0m\u001b[1;33m[\u001b[0m\u001b[1;34m'val_precision_1'\u001b[0m\u001b[1;33m]\u001b[0m\u001b[1;33m,\u001b[0m \u001b[1;34m'o-'\u001b[0m\u001b[1;33m,\u001b[0m \u001b[0mc\u001b[0m\u001b[1;33m=\u001b[0m\u001b[1;34m'tab:orange'\u001b[0m\u001b[1;33m,\u001b[0m \u001b[0mlabel\u001b[0m\u001b[1;33m=\u001b[0m\u001b[1;34m'Validation'\u001b[0m\u001b[1;33m,\u001b[0m \u001b[0mms\u001b[0m\u001b[1;33m=\u001b[0m\u001b[1;36m8\u001b[0m\u001b[1;33m,\u001b[0m \u001b[0malpha\u001b[0m\u001b[1;33m=\u001b[0m\u001b[1;36m0.8\u001b[0m\u001b[1;33m)\u001b[0m\u001b[1;33m\u001b[0m\u001b[1;33m\u001b[0m\u001b[0m\n\u001b[0;32m      5\u001b[0m \u001b[0mplt\u001b[0m\u001b[1;33m.\u001b[0m\u001b[0mxlabel\u001b[0m\u001b[1;33m(\u001b[0m\u001b[1;34m'Epoch'\u001b[0m\u001b[1;33m,\u001b[0m \u001b[0mfontsize\u001b[0m\u001b[1;33m=\u001b[0m\u001b[1;34m'x-large'\u001b[0m\u001b[1;33m)\u001b[0m\u001b[1;33m\u001b[0m\u001b[1;33m\u001b[0m\u001b[0m\n",
      "\u001b[1;32m~\\.conda\\envs\\tf_gpu\\lib\\site-packages\\pandas\\core\\frame.py\u001b[0m in \u001b[0;36m__getitem__\u001b[1;34m(self, key)\u001b[0m\n\u001b[0;32m   2798\u001b[0m             \u001b[1;32mif\u001b[0m \u001b[0mself\u001b[0m\u001b[1;33m.\u001b[0m\u001b[0mcolumns\u001b[0m\u001b[1;33m.\u001b[0m\u001b[0mnlevels\u001b[0m \u001b[1;33m>\u001b[0m \u001b[1;36m1\u001b[0m\u001b[1;33m:\u001b[0m\u001b[1;33m\u001b[0m\u001b[1;33m\u001b[0m\u001b[0m\n\u001b[0;32m   2799\u001b[0m                 \u001b[1;32mreturn\u001b[0m \u001b[0mself\u001b[0m\u001b[1;33m.\u001b[0m\u001b[0m_getitem_multilevel\u001b[0m\u001b[1;33m(\u001b[0m\u001b[0mkey\u001b[0m\u001b[1;33m)\u001b[0m\u001b[1;33m\u001b[0m\u001b[1;33m\u001b[0m\u001b[0m\n\u001b[1;32m-> 2800\u001b[1;33m             \u001b[0mindexer\u001b[0m \u001b[1;33m=\u001b[0m \u001b[0mself\u001b[0m\u001b[1;33m.\u001b[0m\u001b[0mcolumns\u001b[0m\u001b[1;33m.\u001b[0m\u001b[0mget_loc\u001b[0m\u001b[1;33m(\u001b[0m\u001b[0mkey\u001b[0m\u001b[1;33m)\u001b[0m\u001b[1;33m\u001b[0m\u001b[1;33m\u001b[0m\u001b[0m\n\u001b[0m\u001b[0;32m   2801\u001b[0m             \u001b[1;32mif\u001b[0m \u001b[0mis_integer\u001b[0m\u001b[1;33m(\u001b[0m\u001b[0mindexer\u001b[0m\u001b[1;33m)\u001b[0m\u001b[1;33m:\u001b[0m\u001b[1;33m\u001b[0m\u001b[1;33m\u001b[0m\u001b[0m\n\u001b[0;32m   2802\u001b[0m                 \u001b[0mindexer\u001b[0m \u001b[1;33m=\u001b[0m \u001b[1;33m[\u001b[0m\u001b[0mindexer\u001b[0m\u001b[1;33m]\u001b[0m\u001b[1;33m\u001b[0m\u001b[1;33m\u001b[0m\u001b[0m\n",
      "\u001b[1;32m~\\.conda\\envs\\tf_gpu\\lib\\site-packages\\pandas\\core\\indexes\\base.py\u001b[0m in \u001b[0;36mget_loc\u001b[1;34m(self, key, method, tolerance)\u001b[0m\n\u001b[0;32m   2646\u001b[0m                 \u001b[1;32mreturn\u001b[0m \u001b[0mself\u001b[0m\u001b[1;33m.\u001b[0m\u001b[0m_engine\u001b[0m\u001b[1;33m.\u001b[0m\u001b[0mget_loc\u001b[0m\u001b[1;33m(\u001b[0m\u001b[0mkey\u001b[0m\u001b[1;33m)\u001b[0m\u001b[1;33m\u001b[0m\u001b[1;33m\u001b[0m\u001b[0m\n\u001b[0;32m   2647\u001b[0m             \u001b[1;32mexcept\u001b[0m \u001b[0mKeyError\u001b[0m\u001b[1;33m:\u001b[0m\u001b[1;33m\u001b[0m\u001b[1;33m\u001b[0m\u001b[0m\n\u001b[1;32m-> 2648\u001b[1;33m                 \u001b[1;32mreturn\u001b[0m \u001b[0mself\u001b[0m\u001b[1;33m.\u001b[0m\u001b[0m_engine\u001b[0m\u001b[1;33m.\u001b[0m\u001b[0mget_loc\u001b[0m\u001b[1;33m(\u001b[0m\u001b[0mself\u001b[0m\u001b[1;33m.\u001b[0m\u001b[0m_maybe_cast_indexer\u001b[0m\u001b[1;33m(\u001b[0m\u001b[0mkey\u001b[0m\u001b[1;33m)\u001b[0m\u001b[1;33m)\u001b[0m\u001b[1;33m\u001b[0m\u001b[1;33m\u001b[0m\u001b[0m\n\u001b[0m\u001b[0;32m   2649\u001b[0m         \u001b[0mindexer\u001b[0m \u001b[1;33m=\u001b[0m \u001b[0mself\u001b[0m\u001b[1;33m.\u001b[0m\u001b[0mget_indexer\u001b[0m\u001b[1;33m(\u001b[0m\u001b[1;33m[\u001b[0m\u001b[0mkey\u001b[0m\u001b[1;33m]\u001b[0m\u001b[1;33m,\u001b[0m \u001b[0mmethod\u001b[0m\u001b[1;33m=\u001b[0m\u001b[0mmethod\u001b[0m\u001b[1;33m,\u001b[0m \u001b[0mtolerance\u001b[0m\u001b[1;33m=\u001b[0m\u001b[0mtolerance\u001b[0m\u001b[1;33m)\u001b[0m\u001b[1;33m\u001b[0m\u001b[1;33m\u001b[0m\u001b[0m\n\u001b[0;32m   2650\u001b[0m         \u001b[1;32mif\u001b[0m \u001b[0mindexer\u001b[0m\u001b[1;33m.\u001b[0m\u001b[0mndim\u001b[0m \u001b[1;33m>\u001b[0m \u001b[1;36m1\u001b[0m \u001b[1;32mor\u001b[0m \u001b[0mindexer\u001b[0m\u001b[1;33m.\u001b[0m\u001b[0msize\u001b[0m \u001b[1;33m>\u001b[0m \u001b[1;36m1\u001b[0m\u001b[1;33m:\u001b[0m\u001b[1;33m\u001b[0m\u001b[1;33m\u001b[0m\u001b[0m\n",
      "\u001b[1;32mpandas\\_libs\\index.pyx\u001b[0m in \u001b[0;36mpandas._libs.index.IndexEngine.get_loc\u001b[1;34m()\u001b[0m\n",
      "\u001b[1;32mpandas\\_libs\\index.pyx\u001b[0m in \u001b[0;36mpandas._libs.index.IndexEngine.get_loc\u001b[1;34m()\u001b[0m\n",
      "\u001b[1;32mpandas\\_libs\\hashtable_class_helper.pxi\u001b[0m in \u001b[0;36mpandas._libs.hashtable.PyObjectHashTable.get_item\u001b[1;34m()\u001b[0m\n",
      "\u001b[1;32mpandas\\_libs\\hashtable_class_helper.pxi\u001b[0m in \u001b[0;36mpandas._libs.hashtable.PyObjectHashTable.get_item\u001b[1;34m()\u001b[0m\n",
      "\u001b[1;31mKeyError\u001b[0m: 'precision_1'"
     ]
    },
    {
     "data": {
      "image/png": "[encoded data removed]",
      "text/plain": [
       "<Figure size 432x288 with 1 Axes>"
      ]
     },
     "metadata": {
      "needs_background": "light"
     },
     "output_type": "display_data"
    }
   ],
   "source": [
    "    # Precision\n",
    "    fig, ax = plt.subplots(constrained_layout=True, figsize=(6, 4))\n",
    "    plt.plot(hist['precision_1'], 's-', c='tab:blue', label='Train', ms=8, alpha=0.8)\n",
    "    plt.plot(hist['val_precision_1'], 'o-', c='tab:orange', label='Validation', ms=8, alpha=0.8)\n",
    "    plt.xlabel('Epoch', fontsize='x-large')\n",
    "    plt.legend(fontsize='x-large')\n",
    "    plt.title('Precision', fontsize='x-large')\n",
    "    ax.spines['top'].set_visible(False)\n",
    "    ax.spines['right'].set_visible(False)\n",
    "    ax = plt.gca()\n",
    "    ax.tick_params(labelsize='x-large')\n"
   ]
  },
  {
   "cell_type": "markdown",
   "metadata": {},
   "source": [
    "## Save model to file\n",
    "Model can be loaded with:\n",
    "``` python\n",
    "load_model(filepath=str(folder_path), compile=True)\n",
    "```"
   ]
  },
  {
   "cell_type": "code",
   "execution_count": 19,
   "metadata": {},
   "outputs": [],
   "source": [
    "# model.save(str(P / 'models' / 'simpleRNN-nottingham-3') + '.h5', save_format='h5')\n",
    "# model.save(str(P / 'models' / 'lstm-z-de') + '.h5', save_format='h5')"
   ]
  },
  {
   "cell_type": "markdown",
   "metadata": {},
   "source": [
    "### Model evaluation"
   ]
  },
  {
   "cell_type": "code",
   "execution_count": 18,
   "metadata": {},
   "outputs": [
    {
     "name": "stdout",
     "output_type": "stream",
     "text": [
      "Evaluation on train set:\n",
      "59/59 [==============================] - 2s 42ms/step - loss: 0.1954 - accuracy: 0.9202\n",
      "\n",
      "Evaluation on validation set:\n",
      "15/15 [==============================] - 1s 40ms/step - loss: 0.1998 - accuracy: 0.9189\n"
     ]
    },
    {
     "data": {
      "text/html": [
       "<div>\n",
       "<style scoped>\n",
       "    .dataframe tbody tr th:only-of-type {\n",
       "        vertical-align: middle;\n",
       "    }\n",
       "\n",
       "    .dataframe tbody tr th {\n",
       "        vertical-align: top;\n",
       "    }\n",
       "\n",
       "    .dataframe thead th {\n",
       "        text-align: right;\n",
       "    }\n",
       "</style>\n",
       "<table border=\"1\" class=\"dataframe\">\n",
       "  <thead>\n",
       "    <tr style=\"text-align: right;\">\n",
       "      <th></th>\n",
       "      <th>train</th>\n",
       "      <th>validation</th>\n",
       "    </tr>\n",
       "    <tr>\n",
       "      <th>metric</th>\n",
       "      <th></th>\n",
       "      <th></th>\n",
       "    </tr>\n",
       "  </thead>\n",
       "  <tbody>\n",
       "    <tr>\n",
       "      <th>loss</th>\n",
       "      <td>0.195365</td>\n",
       "      <td>0.199804</td>\n",
       "    </tr>\n",
       "    <tr>\n",
       "      <th>accuracy</th>\n",
       "      <td>0.920215</td>\n",
       "      <td>0.918923</td>\n",
       "    </tr>\n",
       "  </tbody>\n",
       "</table>\n",
       "</div>"
      ],
      "text/plain": [
       "             train  validation\n",
       "metric                        \n",
       "loss      0.195365    0.199804\n",
       "accuracy  0.920215    0.918923"
      ]
     },
     "execution_count": 18,
     "metadata": {},
     "output_type": "execute_result"
    }
   ],
   "source": [
    "print(\"Evaluation on train set:\")\n",
    "e_train = model.evaluate(train_data)\n",
    "\n",
    "print(\"\\nEvaluation on validation set:\")\n",
    "e_valid = model.evaluate(valid_data)\n",
    "\n",
    "# print(\"\\nEvaluation on test set:\")\n",
    "# e_test = model.evaluate(test_data)\n",
    "\n",
    "results = {out: e_train[i] for i, out in enumerate(model.metrics_names)}\n",
    "res = pd.DataFrame(list(results.items()), columns=['metric', 'train'])\n",
    "res = res.set_index('metric')\n",
    "\n",
    "results2 = {out: e_valid[i] for i, out in enumerate(model.metrics_names)}\n",
    "res2 = pd.DataFrame(list(results2.items()), columns=['metric', 'validation'])\n",
    "res2 = res2.set_index('metric')\n",
    "\n",
    "# results3 = {out: e_test[i] for i, out in enumerate(model.metrics_names)}\n",
    "# res3 = pd.DataFrame(list(results3.items()), columns=['metric', 'test'])\n",
    "# res3 = res3.set_index('metric')\n",
    "res3 = pd.DataFrame([])\n",
    "\n",
    "result = pd.concat([res, res2, res3], axis=1, sort=False)\n",
    "result"
   ]
  },
  {
   "cell_type": "markdown",
   "metadata": {},
   "source": [
    "## Make predictions\n",
    "Predictions from test dataset"
   ]
  },
  {
   "cell_type": "markdown",
   "metadata": {},
   "source": [
    "### Restore last checkpoint\n",
    "\n",
    "Build again the model and restore the checkpoint with weights to use a different batch size for test."
   ]
  },
  {
   "cell_type": "code",
   "execution_count": 19,
   "metadata": {},
   "outputs": [],
   "source": [
    "# model = mod.build_gru_model(NUM_NOTES, 1)\n",
    "model = mod.build_lstm_model(NUM_NOTES, 1)\n",
    "mod.compile_model(model, 'binary_crossentropy', 'adam',\n",
    "                  metrics=['accuracy'])\n",
    "model.load_weights(tf.train.latest_checkpoint(checkpoint_dir))\n",
    "model.build(tf.TensorShape([1, None]))\n"
   ]
  },
  {
   "cell_type": "code",
   "execution_count": 20,
   "metadata": {},
   "outputs": [
    {
     "name": "stdout",
     "output_type": "stream",
     "text": [
      "Building test dataset (182 files)\n"
     ]
    },
    {
     "data": {
      "text/plain": [
       "(114658, 1280)"
      ]
     },
     "execution_count": 20,
     "metadata": {},
     "output_type": "execute_result"
    }
   ],
   "source": [
    "test_list = [x for x in os.listdir(P / D / 'test') if x.endswith('.mid')]\n",
    "# test_list = [test_list[x] for x in range(3)]\n",
    "test = dataset.Dataset(test_list, P / D / 'test',  fs=FS, bl=0, quant=Q)\n",
    "test.build_rnn_dataset(\"test\", down=DOWN, low_lim=LOW_LIM, high_lim=HIGH_LIM)\n",
    "test.dataset[0].shape"
   ]
  },
  {
   "cell_type": "code",
   "execution_count": 21,
   "metadata": {},
   "outputs": [],
   "source": [
    "test_dataset = tf.data.Dataset.from_tensor_slices((test.dataset[0]))\n",
    "test_sequences = test_dataset.batch(50, drop_remainder=True)\n",
    "test_data = test_sequences.map(split_input_target)\n",
    "test_data = test_data.batch(1, drop_remainder=True)"
   ]
  },
  {
   "cell_type": "code",
   "execution_count": 22,
   "metadata": {},
   "outputs": [],
   "source": [
    "predictions = model.predict(test_data)"
   ]
  },
  {
   "cell_type": "code",
   "execution_count": 23,
   "metadata": {},
   "outputs": [],
   "source": [
    "predictions_bin = dataset.ranked_threshold(predictions[:, 0, :NUM_NOTES], 1, 3)"
   ]
  },
  {
   "cell_type": "code",
   "execution_count": 24,
   "metadata": {},
   "outputs": [
    {
     "data": {
      "text/plain": [
       "(<Figure size 432x288 with 1 Axes>,\n",
       " <matplotlib.axes._subplots.AxesSubplot at 0x2388f0b1f08>)"
      ]
     },
     "execution_count": 24,
     "metadata": {},
     "output_type": "execute_result"
    },
    {
     "data": {
      "image/png": "[encoded data removed]",
      "text/plain": [
       "<Figure size 432x288 with 1 Axes>"
      ]
     },
     "metadata": {
      "needs_background": "light"
     },
     "output_type": "display_data"
    }
   ],
   "source": [
    "pyplot_piano_roll(predictions_bin, low_lim=LOW_LIM, high_lim=HIGH_LIM)"
   ]
  },
  {
   "cell_type": "markdown",
   "metadata": {},
   "source": [
    "## Load tests dataset (standard way)"
   ]
  },
  {
   "cell_type": "code",
   "execution_count": 23,
   "metadata": {},
   "outputs": [
    {
     "name": "stdout",
     "output_type": "stream",
     "text": [
      "Building test dataset (182 files)\n"
     ]
    },
    {
     "ename": "KeyboardInterrupt",
     "evalue": "",
     "output_type": "error",
     "traceback": [
      "\u001b[1;31m---------------------------------------------------------------------------\u001b[0m",
      "\u001b[1;31mKeyboardInterrupt\u001b[0m                         Traceback (most recent call last)",
      "\u001b[1;32m<ipython-input-23-5b75dc9fba5b>\u001b[0m in \u001b[0;36m<module>\u001b[1;34m\u001b[0m\n\u001b[0;32m      7\u001b[0m \u001b[0mtest\u001b[0m \u001b[1;33m=\u001b[0m \u001b[0mdataset\u001b[0m\u001b[1;33m.\u001b[0m\u001b[0mDataset\u001b[0m\u001b[1;33m(\u001b[0m\u001b[0mtest_list\u001b[0m\u001b[1;33m,\u001b[0m \u001b[0mP\u001b[0m \u001b[1;33m/\u001b[0m \u001b[0mD\u001b[0m \u001b[1;33m/\u001b[0m \u001b[1;34m'test'\u001b[0m\u001b[1;33m,\u001b[0m  \u001b[0mfs\u001b[0m\u001b[1;33m=\u001b[0m\u001b[0mFS\u001b[0m\u001b[1;33m,\u001b[0m \u001b[0mbl\u001b[0m\u001b[1;33m=\u001b[0m\u001b[1;36m0\u001b[0m\u001b[1;33m,\u001b[0m \u001b[0mquant\u001b[0m\u001b[1;33m=\u001b[0m\u001b[0mQ\u001b[0m\u001b[1;33m)\u001b[0m\u001b[1;33m\u001b[0m\u001b[1;33m\u001b[0m\u001b[0m\n\u001b[0;32m      8\u001b[0m test.build_dataset(\"test\", step=st, t_step=num_ts, steps=st,\n\u001b[1;32m----> 9\u001b[1;33m                    down=DOWN, low_lim=LOW_LIM, high_lim=HIGH_LIM)\n\u001b[0m",
      "\u001b[1;32mc:\\Users\\fraul\\OneDrive - University of the Philippines\\Frauline\\YEAR IV\\CoE 199\\NMP\\nmp\\dataset.py\u001b[0m in \u001b[0;36mbuild_dataset\u001b[1;34m(self, name, step, t_step, steps, down, transpose, low_lim, high_lim)\u001b[0m\n\u001b[0;32m    178\u001b[0m                              binarize=0)\n\u001b[0;32m    179\u001b[0m             \u001b[0mprt\u001b[0m \u001b[1;33m=\u001b[0m \u001b[0mprt\u001b[0m\u001b[1;33m[\u001b[0m\u001b[1;33m:\u001b[0m\u001b[1;33m,\u001b[0m \u001b[0mlow_lim\u001b[0m\u001b[1;33m:\u001b[0m\u001b[0mhigh_lim\u001b[0m\u001b[1;33m]\u001b[0m  \u001b[1;31m# Crop piano roll\u001b[0m\u001b[1;33m\u001b[0m\u001b[1;33m\u001b[0m\u001b[0m\n\u001b[1;32m--> 180\u001b[1;33m             \u001b[0mprt\u001b[0m \u001b[1;33m=\u001b[0m \u001b[0mself\u001b[0m\u001b[1;33m.\u001b[0m\u001b[0mbinarize\u001b[0m\u001b[1;33m(\u001b[0m\u001b[0mprt\u001b[0m\u001b[1;33m)\u001b[0m\u001b[1;33m\u001b[0m\u001b[1;33m\u001b[0m\u001b[0m\n\u001b[0m\u001b[0;32m    181\u001b[0m \u001b[1;33m\u001b[0m\u001b[0m\n\u001b[0;32m    182\u001b[0m             \u001b[1;32mif\u001b[0m \u001b[0mdown\u001b[0m \u001b[1;33m>\u001b[0m \u001b[1;36m1\u001b[0m\u001b[1;33m:\u001b[0m\u001b[1;33m\u001b[0m\u001b[1;33m\u001b[0m\u001b[0m\n",
      "\u001b[1;32mc:\\Users\\fraul\\OneDrive - University of the Philippines\\Frauline\\YEAR IV\\CoE 199\\NMP\\nmp\\dataset.py\u001b[0m in \u001b[0;36mbinarize\u001b[1;34m(self, pr)\u001b[0m\n\u001b[0;32m    112\u001b[0m         \u001b[1;34m\"\"\"Binarize piano roll matrix and return it.\"\"\"\u001b[0m\u001b[1;33m\u001b[0m\u001b[1;33m\u001b[0m\u001b[0m\n\u001b[0;32m    113\u001b[0m         return np.array([[np.float32(1) if e else np.float32(0)\n\u001b[1;32m--> 114\u001b[1;33m                          for e in r] for r in pr])\n\u001b[0m\u001b[0;32m    115\u001b[0m \u001b[1;33m\u001b[0m\u001b[0m\n\u001b[0;32m    116\u001b[0m     \u001b[1;32mdef\u001b[0m \u001b[0mquantize\u001b[0m\u001b[1;33m(\u001b[0m\u001b[0mself\u001b[0m\u001b[1;33m,\u001b[0m \u001b[0mobj\u001b[0m\u001b[1;33m)\u001b[0m\u001b[1;33m:\u001b[0m\u001b[1;33m\u001b[0m\u001b[1;33m\u001b[0m\u001b[0m\n",
      "\u001b[1;32mc:\\Users\\fraul\\OneDrive - University of the Philippines\\Frauline\\YEAR IV\\CoE 199\\NMP\\nmp\\dataset.py\u001b[0m in \u001b[0;36m<listcomp>\u001b[1;34m(.0)\u001b[0m\n\u001b[0;32m    112\u001b[0m         \u001b[1;34m\"\"\"Binarize piano roll matrix and return it.\"\"\"\u001b[0m\u001b[1;33m\u001b[0m\u001b[1;33m\u001b[0m\u001b[0m\n\u001b[0;32m    113\u001b[0m         return np.array([[np.float32(1) if e else np.float32(0)\n\u001b[1;32m--> 114\u001b[1;33m                          for e in r] for r in pr])\n\u001b[0m\u001b[0;32m    115\u001b[0m \u001b[1;33m\u001b[0m\u001b[0m\n\u001b[0;32m    116\u001b[0m     \u001b[1;32mdef\u001b[0m \u001b[0mquantize\u001b[0m\u001b[1;33m(\u001b[0m\u001b[0mself\u001b[0m\u001b[1;33m,\u001b[0m \u001b[0mobj\u001b[0m\u001b[1;33m)\u001b[0m\u001b[1;33m:\u001b[0m\u001b[1;33m\u001b[0m\u001b[1;33m\u001b[0m\u001b[0m\n",
      "\u001b[1;32mc:\\Users\\fraul\\OneDrive - University of the Philippines\\Frauline\\YEAR IV\\CoE 199\\NMP\\nmp\\dataset.py\u001b[0m in \u001b[0;36m<listcomp>\u001b[1;34m(.0)\u001b[0m\n\u001b[0;32m    112\u001b[0m         \u001b[1;34m\"\"\"Binarize piano roll matrix and return it.\"\"\"\u001b[0m\u001b[1;33m\u001b[0m\u001b[1;33m\u001b[0m\u001b[0m\n\u001b[0;32m    113\u001b[0m         return np.array([[np.float32(1) if e else np.float32(0)\n\u001b[1;32m--> 114\u001b[1;33m                          for e in r] for r in pr])\n\u001b[0m\u001b[0;32m    115\u001b[0m \u001b[1;33m\u001b[0m\u001b[0m\n\u001b[0;32m    116\u001b[0m     \u001b[1;32mdef\u001b[0m \u001b[0mquantize\u001b[0m\u001b[1;33m(\u001b[0m\u001b[0mself\u001b[0m\u001b[1;33m,\u001b[0m \u001b[0mobj\u001b[0m\u001b[1;33m)\u001b[0m\u001b[1;33m:\u001b[0m\u001b[1;33m\u001b[0m\u001b[1;33m\u001b[0m\u001b[0m\n",
      "\u001b[1;31mKeyboardInterrupt\u001b[0m: "
     ]
    }
   ],
   "source": [
    "# importlib.reload(dataset)\n",
    "# st = 10  # Past timesteps\n",
    "# num_ts = 10  # Predicted timesteps\n",
    "\n",
    "# test_list = [x for x in os.listdir(P / D / 'test') if x.endswith('.mid')]\n",
    "# # test_list = test_list[:20]\n",
    "# test = dataset.Dataset(test_list, P / D / 'test',  fs=FS, bl=0, quant=Q)\n",
    "# test.build_dataset(\"test\", step=st, t_step=num_ts, steps=st,\n",
    "#                    down=DOWN, low_lim=LOW_LIM, high_lim=HIGH_LIM)"
   ]
  },
  {
   "cell_type": "code",
   "execution_count": 24,
   "metadata": {},
   "outputs": [
    {
     "ename": "AttributeError",
     "evalue": "'Dataset' object has no attribute 'dataset'",
     "output_type": "error",
     "traceback": [
      "\u001b[1;31m---------------------------------------------------------------------------\u001b[0m",
      "\u001b[1;31mAttributeError\u001b[0m                            Traceback (most recent call last)",
      "\u001b[1;32m<ipython-input-24-b7cab07c3a6b>\u001b[0m in \u001b[0;36m<module>\u001b[1;34m\u001b[0m\n\u001b[1;32m----> 1\u001b[1;33m \u001b[0mprint\u001b[0m\u001b[1;33m(\u001b[0m\u001b[0mtest\u001b[0m\u001b[1;33m.\u001b[0m\u001b[0mdataset\u001b[0m\u001b[1;33m[\u001b[0m\u001b[1;36m0\u001b[0m\u001b[1;33m]\u001b[0m\u001b[1;33m.\u001b[0m\u001b[0mshape\u001b[0m\u001b[1;33m)\u001b[0m\u001b[1;33m\u001b[0m\u001b[1;33m\u001b[0m\u001b[0m\n\u001b[0m\u001b[0;32m      2\u001b[0m \u001b[0mpyplot_piano_roll\u001b[0m\u001b[1;33m(\u001b[0m\u001b[0mtest\u001b[0m\u001b[1;33m.\u001b[0m\u001b[0mdataset\u001b[0m\u001b[1;33m[\u001b[0m\u001b[1;36m0\u001b[0m\u001b[1;33m]\u001b[0m\u001b[1;33m[\u001b[0m\u001b[1;33m:\u001b[0m\u001b[1;33m,\u001b[0m \u001b[1;36m0\u001b[0m\u001b[1;33m,\u001b[0m \u001b[1;33m:\u001b[0m\u001b[1;33m]\u001b[0m\u001b[1;33m,\u001b[0m \u001b[0mlow_lim\u001b[0m\u001b[1;33m=\u001b[0m\u001b[0mLOW_LIM\u001b[0m\u001b[1;33m,\u001b[0m \u001b[0mhigh_lim\u001b[0m\u001b[1;33m=\u001b[0m\u001b[0mHIGH_LIM\u001b[0m\u001b[1;33m)\u001b[0m\u001b[1;33m\u001b[0m\u001b[1;33m\u001b[0m\u001b[0m\n",
      "\u001b[1;31mAttributeError\u001b[0m: 'Dataset' object has no attribute 'dataset'"
     ]
    }
   ],
   "source": [
    "# print(test.dataset[0].shape)\n",
    "# pyplot_piano_roll(test.dataset[0][:, 0, :], low_lim=LOW_LIM, high_lim=HIGH_LIM)"
   ]
  },
  {
   "cell_type": "code",
   "execution_count": 112,
   "metadata": {},
   "outputs": [
    {
     "data": {
      "text/plain": [
       "(114658, 640)"
      ]
     },
     "execution_count": 112,
     "metadata": {},
     "output_type": "execute_result"
    }
   ],
   "source": [
    "# reshaped = test.dataset[0].reshape(len(test.dataset[0]), 640)\n",
    "# reshaped.shape"
   ]
  },
  {
   "cell_type": "markdown",
   "metadata": {},
   "source": [
    "### Make predictions"
   ]
  },
  {
   "cell_type": "code",
   "execution_count": 25,
   "metadata": {},
   "outputs": [
    {
     "ename": "NameError",
     "evalue": "name 'reshaped' is not defined",
     "output_type": "error",
     "traceback": [
      "\u001b[1;31m---------------------------------------------------------------------------\u001b[0m",
      "\u001b[1;31mNameError\u001b[0m                                 Traceback (most recent call last)",
      "\u001b[1;32m<ipython-input-25-f356fd31b73d>\u001b[0m in \u001b[0;36m<module>\u001b[1;34m\u001b[0m\n\u001b[0;32m      3\u001b[0m \u001b[1;33m\u001b[0m\u001b[0m\n\u001b[0;32m      4\u001b[0m \u001b[0mrnn_predictions\u001b[0m \u001b[1;33m=\u001b[0m \u001b[1;33m[\u001b[0m\u001b[1;33m]\u001b[0m\u001b[1;33m\u001b[0m\u001b[1;33m\u001b[0m\u001b[0m\n\u001b[1;32m----> 5\u001b[1;33m \u001b[1;32mfor\u001b[0m \u001b[0mc\u001b[0m\u001b[1;33m,\u001b[0m \u001b[0mt\u001b[0m \u001b[1;32min\u001b[0m \u001b[0menumerate\u001b[0m\u001b[1;33m(\u001b[0m\u001b[0mreshaped\u001b[0m\u001b[1;33m)\u001b[0m\u001b[1;33m:\u001b[0m\u001b[1;33m\u001b[0m\u001b[1;33m\u001b[0m\u001b[0m\n\u001b[0m\u001b[0;32m      6\u001b[0m     \u001b[0mrnn_predictions\u001b[0m\u001b[1;33m.\u001b[0m\u001b[0mappend\u001b[0m\u001b[1;33m(\u001b[0m\u001b[0mdataset\u001b[0m\u001b[1;33m.\u001b[0m\u001b[0mpredict_rnn\u001b[0m\u001b[1;33m(\u001b[0m\u001b[0mt\u001b[0m\u001b[1;33m,\u001b[0m \u001b[0mmodel\u001b[0m\u001b[1;33m)\u001b[0m\u001b[1;33m)\u001b[0m\u001b[1;33m\u001b[0m\u001b[1;33m\u001b[0m\u001b[0m\n\u001b[0;32m      7\u001b[0m     \u001b[1;32mif\u001b[0m \u001b[0mc\u001b[0m \u001b[1;33m%\u001b[0m \u001b[1;36m1000\u001b[0m \u001b[1;33m==\u001b[0m \u001b[1;36m0\u001b[0m\u001b[1;33m:\u001b[0m\u001b[1;33m\u001b[0m\u001b[1;33m\u001b[0m\u001b[0m\n",
      "\u001b[1;31mNameError\u001b[0m: name 'reshaped' is not defined"
     ]
    }
   ],
   "source": [
    "# import importlib\n",
    "# importlib.reload(dataset)\n",
    "\n",
    "# rnn_predictions = []\n",
    "# for c, t in enumerate(reshaped):\n",
    "#     rnn_predictions.append(dataset.predict_rnn(t, model))\n",
    "#     if c % 1000 == 0:\n",
    "#         print(\"Processed timestep %d\" % c)\n",
    "#     pyplot_piano_roll(rnn_predictions, low_lim=LOW_LIM, high_lim=HIGH_LIM)\n",
    "#     pyplot_piano_roll(t, low_lim=LOW_LIM, high_lim=HIGH_LIM)\n",
    "#     break\n",
    "\n",
    "# rnn_predictions = np.array(rnn_predictions)"
   ]
  },
  {
   "cell_type": "code",
   "execution_count": 73,
   "metadata": {},
   "outputs": [
    {
     "ename": "TypeError",
     "evalue": "list indices must be integers or slices, not tuple",
     "output_type": "error",
     "traceback": [
      "\u001b[1;31m---------------------------------------------------------------------------\u001b[0m",
      "\u001b[1;31mTypeError\u001b[0m                                 Traceback (most recent call last)",
      "\u001b[1;32m<ipython-input-73-9bbc7431e52f>\u001b[0m in \u001b[0;36m<module>\u001b[1;34m\u001b[0m\n\u001b[1;32m----> 1\u001b[1;33m \u001b[0mpyplot_piano_roll\u001b[0m\u001b[1;33m(\u001b[0m\u001b[0mrnn_predictions\u001b[0m\u001b[1;33m[\u001b[0m\u001b[1;33m:\u001b[0m\u001b[1;33m,\u001b[0m \u001b[1;36m1\u001b[0m\u001b[1;33m,\u001b[0m \u001b[1;33m:\u001b[0m\u001b[1;33m]\u001b[0m\u001b[1;33m,\u001b[0m \u001b[0mlow_lim\u001b[0m\u001b[1;33m=\u001b[0m\u001b[0mLOW_LIM\u001b[0m\u001b[1;33m,\u001b[0m \u001b[0mhigh_lim\u001b[0m\u001b[1;33m=\u001b[0m\u001b[0mHIGH_LIM\u001b[0m\u001b[1;33m)\u001b[0m\u001b[1;33m\u001b[0m\u001b[1;33m\u001b[0m\u001b[0m\n\u001b[0m",
      "\u001b[1;31mTypeError\u001b[0m: list indices must be integers or slices, not tuple"
     ]
    }
   ],
   "source": [
    "# pyplot_piano_roll(rnn_predictions[:, 1, :], low_lim=LOW_LIM, high_lim=HIGH_LIM)"
   ]
  },
  {
   "cell_type": "markdown",
   "metadata": {},
   "source": [
    "### Evaluate AUC-ROC\n",
    "Reshape predictions"
   ]
  },
  {
   "cell_type": "code",
   "execution_count": 25,
   "metadata": {},
   "outputs": [],
   "source": [
    "# predictions = rnn_predictions.reshape([len(rnn_predictions), 640])\n"
   ]
  },
  {
   "cell_type": "code",
   "execution_count": 115,
   "metadata": {},
   "outputs": [
    {
     "name": "stdout",
     "output_type": "stream",
     "text": [
      "Building baseline dataset (182 files)\n",
      "\n",
      "Baseline shape:  (114658, 640)\n",
      "Test shape:  (114658, 640)\n"
     ]
    }
   ],
   "source": [
    "# # # Build baseline\n",
    "# L = test.dataset[0].shape[0]\n",
    "# baseline = dataset.Dataset(test_list, P / D / 'test',  fs=FS, bl=1, quant=Q)\n",
    "# baseline.build_dataset(\"baseline\", step=st, t_step=num_ts, steps=st,\n",
    "#                        down=DOWN, low_lim=LOW_LIM, high_lim=HIGH_LIM)\n",
    "\n",
    "# print(\"\")\n",
    "# print(\"Baseline shape: \", baseline.dataset[1].shape)\n",
    "# print(\"Test shape: \", test.dataset[1].shape)\n",
    "\n",
    "# pred_auc = ev_metrics.compute_auc(test.dataset[1][:L, :], predictions, NUM_NOTES)\n",
    "# base_auc = ev_metrics.compute_auc(test.dataset[1][:L, :], baseline.dataset[1][:L, :], NUM_NOTES)"
   ]
  },
  {
   "cell_type": "code",
   "execution_count": 118,
   "metadata": {},
   "outputs": [
    {
     "name": "stdout",
     "output_type": "stream",
     "text": [
      "(64, 10)\n"
     ]
    },
    {
     "data": {
      "image/png": "[encoded data removed]",
      "text/plain": [
       "<Figure size 576x576 with 3 Axes>"
      ]
     },
     "metadata": {
      "needs_background": "light"
     },
     "output_type": "display_data"
    }
   ],
   "source": [
    "# fig, (ax1, ax2, axcb) = plt.subplots(1, 3, constrained_layout=True,\n",
    "#                                      figsize=(8, 8),\n",
    "#                                      gridspec_kw={'width_ratios':[1, 1, 0.08]})\n",
    "# g1 = sns.heatmap(pred_auc, vmin=0.5, vmax=1, cmap='copper', ax=ax1, cbar=False)\n",
    "# g1.set_ylabel('')\n",
    "# g1.set_xlabel('')\n",
    "# g1.set_yticklabels(g1.get_yticklabels(), rotation=0)\n",
    "# ax1.set_xlabel('Time (step)')\n",
    "# ax1.set_ylabel('Pitch')\n",
    "# ax1.set_title('AUC-ROC (prediction)')\n",
    "# g2 = sns.heatmap(base_auc, vmin=0.5, vmax=1, cmap='copper', ax=ax2, cbar_ax=axcb)\n",
    "# g2.set_ylabel('')\n",
    "# g2.set_xlabel('')\n",
    "# g2.set_yticks([])\n",
    "# ax2.set_xlabel('Time (step)')\n",
    "# ax2.set_title('AUC-ROC (baseline)')\n",
    "# ax1.get_shared_y_axes().join(ax1,ax2)\n",
    "# # plt.savefig(PLOTS / 'heat.eps', format='eps')\n",
    "# print(pred_auc.shape)"
   ]
  },
  {
   "cell_type": "code",
   "execution_count": 119,
   "metadata": {},
   "outputs": [
    {
     "name": "stdout",
     "output_type": "stream",
     "text": [
      "(64, 10)\n"
     ]
    },
    {
     "data": {
      "image/png": "[encoded data removed]",
      "text/plain": [
       "<Figure size 576x432 with 3 Axes>"
      ]
     },
     "metadata": {
      "needs_background": "light"
     },
     "output_type": "display_data"
    }
   ],
   "source": [
    "# c1 = 0\n",
    "# c2 = 64\n",
    "# fig, (ax1, ax2, axcb) = plt.subplots(1, 3, constrained_layout=True,\n",
    "#                                      figsize=(8, 6),\n",
    "#                                      gridspec_kw={'width_ratios':[1, 1, 0.08]})\n",
    "# g1 = sns.heatmap(pred_auc[c1:c2], vmin=0.5, vmax=1, cmap='gray', ax=ax1, cbar=False)\n",
    "# g1.set_ylabel('')\n",
    "# g1.set_xlabel('')\n",
    "# g1.set_yticklabels(g1.get_yticklabels(), rotation=0)\n",
    "# ax1.set_xlabel('Time (step)')\n",
    "# ax1.set_ylabel('Pitch')\n",
    "# ax1.set_title('AUC-ROC (crop) [prediction]')\n",
    "# g2 = sns.heatmap(base_auc[c1:c2], vmin=0.5, vmax=1, cmap='gray', ax=ax2, cbar_ax=axcb)\n",
    "# g2.set_ylabel('')\n",
    "# g2.set_xlabel('')\n",
    "# g2.set_yticks([])\n",
    "# ax2.set_xlabel('Time (step)')\n",
    "# ax2.set_title('AUC-ROC (crop) [baseline]')\n",
    "# ax1.get_shared_y_axes().join(ax1,ax2)\n",
    "# # plt.savefig(PLOTS / 'heat_crop.eps', format='eps')\n",
    "# print(pred_auc.shape)"
   ]
  },
  {
   "cell_type": "code",
   "execution_count": 120,
   "metadata": {},
   "outputs": [
    {
     "name": "stdout",
     "output_type": "stream",
     "text": [
      "Predict. mean value: nan\n",
      "Baseline mean value: 0.65001027272377\n"
     ]
    },
    {
     "data": {
      "image/png": "[encoded data removed]",
      "text/plain": [
       "<Figure size 360x288 with 1 Axes>"
      ]
     },
     "metadata": {
      "needs_background": "light"
     },
     "output_type": "display_data"
    }
   ],
   "source": [
    "# fig, ax = plt.subplots(constrained_layout=True, figsize=(5, 4))\n",
    "\n",
    "# ax.plot(range(1, num_ts + 1), np.mean(pred_auc[c1:c2]), 'x', c='tab:blue', label='prediction', ms=10)\n",
    "# ax.plot(range(1, num_ts + 1), np.mean(base_auc[c1:c2]), 'o', c='tab:green', label='baseline ', ms=7)\n",
    "\n",
    "# ax.set_ylim([0.4, 1])\n",
    "# ax.set_ylim([0.4, 1])\n",
    "# ax.legend()\n",
    "# plt.title('Avg. AUC-ROC per predicted timestep')\n",
    "# plt.xlabel('Timestep')\n",
    "# # plt.xticks([0, 2, 4, 6, 8, 10])\n",
    "# plt.ylabel('ROC AUC')\n",
    "# ax.spines['top'].set_visible(False)\n",
    "# ax.spines['right'].set_visible(False)\n",
    "# name = 'auc' + str()\n",
    "# plt.grid()\n",
    "# # plt.savefig(PLOTS / 'rnn10.eps', format='eps')\n",
    "\n",
    "# print(\"Predict. mean value:\", np.mean(np.mean(pred_auc[c1:c2])))\n",
    "# print(\"Baseline mean value:\", np.mean(np.mean(base_auc[c1:c2])))"
   ]
  },
  {
   "cell_type": "code",
   "execution_count": 37,
   "metadata": {},
   "outputs": [],
   "source": [
    "# np.mean(pred_auc[c1:c2])"
   ]
  },
  {
   "cell_type": "code",
   "execution_count": 38,
   "metadata": {},
   "outputs": [],
   "source": [
    "# np.mean(base_auc[c1:c2])"
   ]
  },
  {
   "cell_type": "markdown",
   "metadata": {},
   "source": [
    "# Other "
   ]
  },
  {
   "cell_type": "code",
   "execution_count": 26,
   "metadata": {},
   "outputs": [
    {
     "name": "stdout",
     "output_type": "stream",
     "text": [
      "(114650, 640)\n"
     ]
    }
   ],
   "source": [
    "model.reset_states()\n",
    "predauc = []\n",
    "baseauc = []\n",
    "\n",
    "merged_input = []\n",
    "merged_output = []\n",
    "merged_pred = []\n",
    "\n",
    "for input_batch, label_batch in test_data.take(-1):\n",
    "    predictions = model(tf.cast(input_batch, tf.float32))\n",
    "\n",
    "    pred = np.array(tf.squeeze(predictions, 0))\n",
    "    inp = np.array(tf.squeeze(input_batch, 0))\n",
    "    out = np.array(tf.squeeze(label_batch, 0))\n",
    "\n",
    "    # Merged piano rolls to compute overall AUC.\n",
    "    merged_input.append(inp)\n",
    "    merged_output.append(out)\n",
    "    merged_pred.append(pred)\n",
    "\n",
    "merged_input = np.concatenate([x for x in merged_input])\n",
    "merged_output = np.concatenate([x for x in merged_output])\n",
    "merged_pred = np.concatenate([x for x in merged_pred])\n",
    "\n",
    "# merged_input = merged_input.reshape((len(merged_input), 10, 64))\n",
    "# merged_output = merged_output.reshape((len(merged_output), 10, 64))\n",
    "# merged_pred = merged_pred.reshape((len(merged_pred), 10, 64))\n",
    "\n",
    "print(merged_input.shape)\n",
    "\n",
    "baseline = copy.deepcopy(merged_input)\n",
    "for t in range(len(merged_input)):\n",
    "    for s in range(10):\n",
    "        baseline[t, 64*s:64*(s+1)] = merged_input[t, 640-64:640]\n",
    "\n",
    "pred_auc = ev_metrics.compute_auc(merged_output, merged_pred, NUM_NOTES)\n",
    "base_auc = ev_metrics.compute_auc(merged_output, baseline, NUM_NOTES)\n",
    "\n",
    "# print(\"Pred AUC-ROC (mean of subsets): \", np.mean(predauc))\n",
    "# print(\"Base AUC-ROC:(mean of subsets): \", np.mean(baseauc))\n",
    "\n",
    "# print(\"Pred AUC-ROC (global): \", np.mean(np.mean((pred_auc_merged))))\n",
    "# print(\"Base AUC-ROC (global): \", np.mean(np.mean((base_auc_merged))))\n",
    "\n",
    "\n",
    "# # pyplot_piano_roll(test.dataset[1][:, :NUM_NOTES],\n",
    "# #                   cmap=\"Greens\", low_lim=LOW_LIM, high_lim=HIGH_LIM)\n",
    "# # plt.title(\"Test target (ground truth)\")\n",
    "\n",
    "\n",
    "# plt.rcParams[\"figure.figsize\"] = (13, 4)\n",
    "# pyplot_piano_roll(merged_output,\n",
    "#                   cmap=\"Greens\", low_lim=LOW_LIM, high_lim=HIGH_LIM)\n",
    "# plt.title(\"Target (labels)\")\n",
    "# plt.ylim(CROP)\n",
    "# # plt.savefig(PLOTS / \"roll1.png\")\n",
    "# pyplot_piano_roll(merged_pred[:, :NUM_NOTES],\n",
    "#                   cmap=\"Blues\", low_lim=LOW_LIM, high_lim=HIGH_LIM)\n",
    "# plt.title(\"Predictions\")\n",
    "# plt.ylim(CROP)\n",
    "# # plt.savefig(PLOTS / \"roll2.png\")\n",
    "# pyplot_piano_roll(merged_input[:, :NUM_NOTES],\n",
    "#                   cmap=\"Reds\", low_lim=LOW_LIM, high_lim=HIGH_LIM)\n",
    "# plt.title(\"Baseline (equal to inputs)\")\n",
    "# plt.ylim(CROP)\n",
    "# # plt.savefig(PLOTS / \"roll3.png\")\n"
   ]
  },
  {
   "cell_type": "code",
   "execution_count": 58,
   "metadata": {},
   "outputs": [
    {
     "name": "stdout",
     "output_type": "stream",
     "text": [
      "(64, 10)\n"
     ]
    },
    {
     "data": {
      "image/png": "[encoded data removed]",
      "text/plain": [
       "<Figure size 576x576 with 3 Axes>"
      ]
     },
     "metadata": {
      "needs_background": "light"
     },
     "output_type": "display_data"
    }
   ],
   "source": [
    "fig, (ax1, ax2, axcb) = plt.subplots(1, 3, constrained_layout=True,\n",
    "                                     figsize=(8, 8),\n",
    "                                     gridspec_kw={'width_ratios':[1, 1, 0.08]})\n",
    "g1 = sns.heatmap(pred_auc, vmin=0.5, vmax=1, cmap='copper', ax=ax1, cbar=False)\n",
    "g1.set_ylabel('')\n",
    "g1.set_xlabel('')\n",
    "g1.set_yticklabels(g1.get_yticklabels(), rotation=0)\n",
    "ax1.set_xlabel('Time (step)')\n",
    "ax1.set_ylabel('Pitch')\n",
    "ax1.set_title('AUC-ROC (prediction)')\n",
    "g2 = sns.heatmap(base_auc, vmin=0.5, vmax=1, cmap='copper', ax=ax2, cbar_ax=axcb)\n",
    "g2.set_ylabel('')\n",
    "g2.set_xlabel('')\n",
    "g2.set_yticks([])\n",
    "ax2.set_xlabel('Time (step)')\n",
    "ax2.set_title('AUC-ROC (baseline)')\n",
    "ax1.get_shared_y_axes().join(ax1,ax2)\n",
    "# plt.savefig(PLOTS / 'heat.eps', format='eps')\n",
    "print(pred_auc.shape)"
   ]
  },
  {
   "cell_type": "code",
   "execution_count": 59,
   "metadata": {},
   "outputs": [
    {
     "name": "stdout",
     "output_type": "stream",
     "text": [
      "(64, 10)\n"
     ]
    },
    {
     "data": {
      "image/png": "[encoded data removed]",
      "text/plain": [
       "<Figure size 576x432 with 3 Axes>"
      ]
     },
     "metadata": {
      "needs_background": "light"
     },
     "output_type": "display_data"
    }
   ],
   "source": [
    "c1 = 0\n",
    "c2 = 64\n",
    "fig, (ax1, ax2, axcb) = plt.subplots(1, 3, constrained_layout=True,\n",
    "                                     figsize=(8, 6),\n",
    "                                     gridspec_kw={'width_ratios':[1, 1, 0.08]})\n",
    "g1 = sns.heatmap(pred_auc[c1:c2], vmin=0.5, vmax=1, cmap='gray', ax=ax1, cbar=False)\n",
    "g1.set_ylabel('')\n",
    "g1.set_xlabel('')\n",
    "g1.set_yticklabels(g1.get_yticklabels(), rotation=0)\n",
    "ax1.set_xlabel('Time (step)')\n",
    "ax1.set_ylabel('Pitch')\n",
    "ax1.set_title('AUC-ROC (crop) [prediction]')\n",
    "g2 = sns.heatmap(base_auc[c1:c2], vmin=0.5, vmax=1, cmap='gray', ax=ax2, cbar_ax=axcb)\n",
    "g2.set_ylabel('')\n",
    "g2.set_xlabel('')\n",
    "g2.set_yticks([])\n",
    "ax2.set_xlabel('Time (step)')\n",
    "ax2.set_title('AUC-ROC (crop) [baseline]')\n",
    "ax1.get_shared_y_axes().join(ax1,ax2)\n",
    "# plt.savefig(PLOTS / 'heat_crop.eps', format='eps')\n",
    "print(pred_auc.shape)"
   ]
  },
  {
   "cell_type": "code",
   "execution_count": 61,
   "metadata": {},
   "outputs": [
    {
     "name": "stdout",
     "output_type": "stream",
     "text": [
      "Predict. mean value: 0.8657782715311267\n",
      "Baseline mean value: 0.650005876902954\n"
     ]
    },
    {
     "data": {
      "image/png": "[encoded data removed]",
      "text/plain": [
       "<Figure size 360x288 with 1 Axes>"
      ]
     },
     "metadata": {
      "needs_background": "light"
     },
     "output_type": "display_data"
    }
   ],
   "source": [
    "num_ts = 10\n",
    "fig, ax = plt.subplots(constrained_layout=True, figsize=(5, 4))\n",
    "\n",
    "ax.plot(range(1, num_ts + 1), np.mean(pred_auc[c1:c2]), 'x', c='tab:blue', label='prediction', ms=10)\n",
    "ax.plot(range(1, num_ts + 1), np.mean(base_auc[c1:c2]), 'o', c='tab:green', label='baseline ', ms=7)\n",
    "\n",
    "ax.set_ylim([0.5, 1])\n",
    "ax.set_ylim([0.5, 1])\n",
    "ax.legend()\n",
    "plt.title('Avg. AUC-ROC per predicted timestep')\n",
    "plt.xlabel('Timestep')\n",
    "# plt.xticks([0, 2, 4, 6, 8, 10])\n",
    "plt.ylabel('ROC AUC')\n",
    "ax.spines['top'].set_visible(False)\n",
    "ax.spines['right'].set_visible(False)\n",
    "name = 'auc' + str()\n",
    "plt.grid()\n",
    "# plt.savefig(PLOTS / 'compare-lstm-auc.eps', format='eps')\n",
    "\n",
    "print(\"Predict. mean value:\", np.mean(np.mean(pred_auc[c1:c2])))\n",
    "print(\"Baseline mean value:\", np.mean(np.mean(base_auc[c1:c2])))"
   ]
  },
  {
   "cell_type": "code",
   "execution_count": 125,
   "metadata": {},
   "outputs": [],
   "source": [
    "if SAVE:\n",
    "    auc_df = pd.DataFrame(\n",
    "        {'pred': np.mean(pred_auc[c1:c2]),\n",
    "         'base': np.mean(base_auc[c1:c2])})\n",
    "    auc_df['pred'].to_csv(('tables/rnn-' + D[5:] + '-auc-pred' + NOTES + '.dat').lower(), sep=' ', header=None)\n",
    "    auc_df['base'].to_csv(('tables/rnn-' + D[5:] + '-auc-base' + NOTES + '.dat').lower(), sep=' ', header=None)"
   ]
  },
  {
   "cell_type": "code",
   "execution_count": 38,
   "metadata": {},
   "outputs": [
    {
     "name": "stdout",
     "output_type": "stream",
     "text": [
      "<BatchDataset shapes: ((1, 50, 640), (1, 50, 640)), types: (tf.bool, tf.bool)>\n",
      "(1, 50, 640)\n",
      "(1, 50, 640)\n",
      "(1, 50, 640)\n",
      "(1, 50, 640)\n",
      "(1, 50, 640)\n",
      "(1, 50, 640)\n",
      "(1, 50, 640)\n",
      "(1, 50, 640)\n",
      "(1, 50, 640)\n",
      "(1, 50, 640)\n",
      "(1, 50, 640)\n",
      "(1, 50, 640)\n",
      "(1, 50, 640)\n",
      "(1, 50, 640)\n",
      "(1, 50, 640)\n",
      "(1, 50, 640)\n",
      "(1, 50, 640)\n",
      "(1, 50, 640)\n",
      "(1, 50, 640)\n",
      "(1, 50, 640)\n",
      "(1, 50, 640)\n",
      "(1, 50, 640)\n",
      "(1, 50, 640)\n",
      "(1, 50, 640)\n",
      "(1, 50, 640)\n",
      "(1, 50, 640)\n",
      "(1, 50, 640)\n",
      "(1, 50, 640)\n",
      "(1, 50, 640)\n",
      "(1, 50, 640)\n",
      "(1, 50, 640)\n",
      "(1, 50, 640)\n",
      "(1, 50, 640)\n",
      "(1, 50, 640)\n",
      "(1, 50, 640)\n",
      "(1, 50, 640)\n",
      "(1, 50, 640)\n",
      "(1, 50, 640)\n",
      "(1, 50, 640)\n",
      "(1, 50, 640)\n",
      "(1, 50, 640)\n",
      "(1, 50, 640)\n",
      "(1, 50, 640)\n",
      "(1, 50, 640)\n",
      "(1, 50, 640)\n",
      "(1, 50, 640)\n",
      "(1, 50, 640)\n",
      "(1, 50, 640)\n",
      "(1, 50, 640)\n",
      "(1, 50, 640)\n",
      "(1, 50, 640)\n",
      "(1, 50, 640)\n",
      "(1, 50, 640)\n",
      "(1, 50, 640)\n",
      "(1, 50, 640)\n",
      "(1, 50, 640)\n",
      "(1, 50, 640)\n",
      "(1, 50, 640)\n",
      "(1, 50, 640)\n",
      "(1, 50, 640)\n",
      "(1, 50, 640)\n",
      "(1, 50, 640)\n",
      "(1, 50, 640)\n",
      "(1, 50, 640)\n",
      "(1, 50, 640)\n",
      "(1, 50, 640)\n",
      "(1, 50, 640)\n",
      "(1, 50, 640)\n",
      "(1, 50, 640)\n",
      "(1, 50, 640)\n",
      "(1, 50, 640)\n",
      "(1, 50, 640)\n",
      "(1, 50, 640)\n",
      "(1, 50, 640)\n",
      "(1, 50, 640)\n",
      "(1, 50, 640)\n",
      "(1, 50, 640)\n",
      "(1, 50, 640)\n",
      "(1, 50, 640)\n",
      "(1, 50, 640)\n",
      "(1, 50, 640)\n",
      "(1, 50, 640)\n",
      "(1, 50, 640)\n",
      "(1, 50, 640)\n",
      "(1, 50, 640)\n",
      "(1, 50, 640)\n",
      "(1, 50, 640)\n",
      "(1, 50, 640)\n",
      "(1, 50, 640)\n",
      "(1, 50, 640)\n",
      "(1, 50, 640)\n",
      "(1, 50, 640)\n",
      "(1, 50, 640)\n",
      "(1, 50, 640)\n",
      "(1, 50, 640)\n",
      "(1, 50, 640)\n",
      "(1, 50, 640)\n",
      "(1, 50, 640)\n",
      "(1, 50, 640)\n",
      "(1, 50, 640)\n",
      "(100, 50, 640)\n"
     ]
    },
    {
     "ename": "ValueError",
     "evalue": "The length of the second axis of `pianoroll` must be 128.",
     "output_type": "error",
     "traceback": [
      "\u001b[1;31m---------------------------------------------------------------------------\u001b[0m",
      "\u001b[1;31mValueError\u001b[0m                                Traceback (most recent call last)",
      "\u001b[1;32m<ipython-input-38-675ad697c498>\u001b[0m in \u001b[0;36m<module>\u001b[1;34m\u001b[0m\n\u001b[0;32m      9\u001b[0m \u001b[0minp\u001b[0m \u001b[1;33m=\u001b[0m \u001b[0mnp\u001b[0m\u001b[1;33m.\u001b[0m\u001b[0marray\u001b[0m\u001b[1;33m(\u001b[0m\u001b[0minp\u001b[0m\u001b[1;33m)\u001b[0m\u001b[1;33m\u001b[0m\u001b[1;33m\u001b[0m\u001b[0m\n\u001b[0;32m     10\u001b[0m \u001b[0mprint\u001b[0m\u001b[1;33m(\u001b[0m\u001b[0minp\u001b[0m\u001b[1;33m.\u001b[0m\u001b[0mshape\u001b[0m\u001b[1;33m)\u001b[0m\u001b[1;33m\u001b[0m\u001b[1;33m\u001b[0m\u001b[0m\n\u001b[1;32m---> 11\u001b[1;33m \u001b[0mpyplot_piano_roll\u001b[0m\u001b[1;33m(\u001b[0m\u001b[0minp\u001b[0m\u001b[1;33m[\u001b[0m\u001b[1;33m:\u001b[0m\u001b[1;33m,\u001b[0m \u001b[1;36m0\u001b[0m\u001b[1;33m,\u001b[0m \u001b[1;33m:\u001b[0m\u001b[1;33m]\u001b[0m\u001b[1;33m,\u001b[0m \u001b[0mcmap\u001b[0m\u001b[1;33m=\u001b[0m\u001b[1;34m\"Blues\"\u001b[0m\u001b[1;33m,\u001b[0m \u001b[0mlow_lim\u001b[0m\u001b[1;33m=\u001b[0m\u001b[0mLOW_LIM\u001b[0m\u001b[1;33m,\u001b[0m \u001b[0mhigh_lim\u001b[0m\u001b[1;33m=\u001b[0m\u001b[0mHIGH_LIM\u001b[0m\u001b[1;33m)\u001b[0m\u001b[1;33m\u001b[0m\u001b[1;33m\u001b[0m\u001b[0m\n\u001b[0m",
      "\u001b[1;32mc:\\Users\\fraul\\OneDrive - University of the Philippines\\Frauline\\YEAR IV\\CoE 199\\NMP\\nmp\\dataset.py\u001b[0m in \u001b[0;36mpyplot_piano_roll\u001b[1;34m(pr, cmap, br, db, low_lim, high_lim, ax)\u001b[0m\n\u001b[0;32m     58\u001b[0m     \u001b[1;34m\"\"\"Plot piano roll representation.\"\"\"\u001b[0m\u001b[1;33m\u001b[0m\u001b[1;33m\u001b[0m\u001b[0m\n\u001b[0;32m     59\u001b[0m     \u001b[0mpr\u001b[0m \u001b[1;33m=\u001b[0m \u001b[0mpad_piano_roll\u001b[0m\u001b[1;33m(\u001b[0m\u001b[0mpr\u001b[0m\u001b[1;33m,\u001b[0m \u001b[0mlow_lim\u001b[0m\u001b[1;33m,\u001b[0m \u001b[0mhigh_lim\u001b[0m\u001b[1;33m)\u001b[0m\u001b[1;33m\u001b[0m\u001b[1;33m\u001b[0m\u001b[0m\n\u001b[1;32m---> 60\u001b[1;33m     \u001b[0mpr\u001b[0m \u001b[1;33m=\u001b[0m \u001b[0mpypianoroll\u001b[0m\u001b[1;33m.\u001b[0m\u001b[0mTrack\u001b[0m\u001b[1;33m(\u001b[0m\u001b[0mpianoroll\u001b[0m\u001b[1;33m=\u001b[0m\u001b[0mpr\u001b[0m\u001b[1;33m)\u001b[0m\u001b[1;33m\u001b[0m\u001b[1;33m\u001b[0m\u001b[0m\n\u001b[0m\u001b[0;32m     61\u001b[0m     fig, ax = pypianoroll.plot_track(pr, cmap=cmap,\n\u001b[0;32m     62\u001b[0m                                      beat_resolution=br, downbeats=db)\n",
      "\u001b[1;32m~\\.conda\\envs\\tf_gpu\\lib\\site-packages\\pypianoroll\\track.py\u001b[0m in \u001b[0;36m__init__\u001b[1;34m(self, pianoroll, program, is_drum, name)\u001b[0m\n\u001b[0;32m     61\u001b[0m         \u001b[0mself\u001b[0m\u001b[1;33m.\u001b[0m\u001b[0mname\u001b[0m \u001b[1;33m=\u001b[0m \u001b[0mname\u001b[0m\u001b[1;33m\u001b[0m\u001b[1;33m\u001b[0m\u001b[0m\n\u001b[0;32m     62\u001b[0m \u001b[1;33m\u001b[0m\u001b[0m\n\u001b[1;32m---> 63\u001b[1;33m         \u001b[0mself\u001b[0m\u001b[1;33m.\u001b[0m\u001b[0mcheck_validity\u001b[0m\u001b[1;33m(\u001b[0m\u001b[1;33m)\u001b[0m\u001b[1;33m\u001b[0m\u001b[1;33m\u001b[0m\u001b[0m\n\u001b[0m\u001b[0;32m     64\u001b[0m \u001b[1;33m\u001b[0m\u001b[0m\n\u001b[0;32m     65\u001b[0m     \u001b[1;32mdef\u001b[0m \u001b[0m__getitem__\u001b[0m\u001b[1;33m(\u001b[0m\u001b[0mself\u001b[0m\u001b[1;33m,\u001b[0m \u001b[0mval\u001b[0m\u001b[1;33m)\u001b[0m\u001b[1;33m:\u001b[0m\u001b[1;33m\u001b[0m\u001b[1;33m\u001b[0m\u001b[0m\n",
      "\u001b[1;32m~\\.conda\\envs\\tf_gpu\\lib\\site-packages\\pypianoroll\\track.py\u001b[0m in \u001b[0;36mcheck_validity\u001b[1;34m(self)\u001b[0m\n\u001b[0;32m    131\u001b[0m         \u001b[1;32mif\u001b[0m \u001b[0mself\u001b[0m\u001b[1;33m.\u001b[0m\u001b[0mpianoroll\u001b[0m\u001b[1;33m.\u001b[0m\u001b[0mshape\u001b[0m\u001b[1;33m[\u001b[0m\u001b[1;36m1\u001b[0m\u001b[1;33m]\u001b[0m \u001b[1;33m!=\u001b[0m \u001b[1;36m128\u001b[0m\u001b[1;33m:\u001b[0m\u001b[1;33m\u001b[0m\u001b[1;33m\u001b[0m\u001b[0m\n\u001b[0;32m    132\u001b[0m             raise ValueError(\n\u001b[1;32m--> 133\u001b[1;33m                 \u001b[1;34m\"The length of the second axis of `pianoroll` must be 128.\"\u001b[0m\u001b[1;33m\u001b[0m\u001b[1;33m\u001b[0m\u001b[0m\n\u001b[0m\u001b[0;32m    134\u001b[0m             )\n\u001b[0;32m    135\u001b[0m         \u001b[1;31m# program\u001b[0m\u001b[1;33m\u001b[0m\u001b[1;33m\u001b[0m\u001b[1;33m\u001b[0m\u001b[0m\n",
      "\u001b[1;31mValueError\u001b[0m: The length of the second axis of `pianoroll` must be 128."
     ]
    }
   ],
   "source": [
    "inp = []\n",
    "lab = []\n",
    "cnt = 0\n",
    "print(test_data)\n",
    "for input_batch, label_batch in test_data.take(100):\n",
    "    print(input_batch.shape)\n",
    "    inp.append(np.array(tf.squeeze(input_batch, 0)))\n",
    "    lab.append(np.array(tf.squeeze(label_batch, 0)))\n",
    "inp = np.array(inp)\n",
    "print(inp.shape)\n",
    "pyplot_piano_roll(inp[:, 0, :], cmap=\"Blues\", low_lim=LOW_LIM, high_lim=HIGH_LIM)"
   ]
  },
  {
   "cell_type": "code",
   "execution_count": 80,
   "metadata": {},
   "outputs": [],
   "source": [
    "def generate_data(model, input_batch, size):\n",
    "    generated = []\n",
    "#     print(input_batch.shape)\n",
    "    for i in range(size):\n",
    "#         print(input_batch.shape)\n",
    "        predictions = model(tf.cast(input_batch, tf.float32))\n",
    "        pred = np.array(tf.squeeze(predictions, 0))\n",
    "        predictions_bin = dataset.ranked_threshold(pred, steps=1, how_many=5)\n",
    "\n",
    "        generated.append(np.array(predictions_bin[-1]))\n",
    "        input_batch = tf.expand_dims([predictions_bin[-1]], 0)\n",
    "    return np.array(generated)"
   ]
  },
  {
   "cell_type": "code",
   "execution_count": 81,
   "metadata": {},
   "outputs": [],
   "source": [
    "model.reset_states()\n",
    "predauc = []\n",
    "baseauc = []\n",
    "\n",
    "merged_input = []\n",
    "merged_output = []\n",
    "merged_pred = []\n",
    "\n",
    "size = 10\n",
    "import time\n",
    "\n",
    "\n",
    "predizioni = []\n",
    "a = 0\n",
    "for input_batch, label_batch in test_data.take(-1):\n",
    "#     print(input_batch.shape)\n",
    "#     time.sleep(50)\n",
    "#     print(a)\n",
    "    a += 1\n",
    "\n",
    "    generated = generate_data(model, input_batch, size)\n",
    "\n",
    "    predizioni.append(generated)\n",
    "#     print(\"OK\")\n",
    "#     inp = np.array(tf.squeeze(input_batch, 0))\n",
    "#     out = np.array(tf.squeeze(label_batch, 0))\n",
    "\n",
    "#     pyplot_piano_roll(out,\n",
    "#                       cmap=\"Greens\", low_lim=LOW_LIM, high_lim=HIGH_LIM)\n",
    "#     plt.title(\"Target\")\n",
    "#     plt.savefig(PLOTS / \"roll1.png\")\n",
    "\n",
    "#     pyplot_piano_roll(pred,\n",
    "#                       cmap=\"Purples\", low_lim=LOW_LIM, high_lim=HIGH_LIM)\n",
    "#     plt.title(\"Predictions\")\n",
    "#     plt.savefig(PLOTS / \"roll.png\")\n",
    "\n",
    "#     pyplot_piano_roll(inp,\n",
    "#                   cmap=\"Blues\", low_lim=LOW_LIM, high_lim=HIGH_LIM)\n",
    "#     plt.title(\"Baseline (repetition of the input)\")\n",
    "#     plt.savefig(PLOTS / \"roll3.png\")\n",
    "\n",
    "#     pred_auc = ev_metrics.compute_auc(out, pred, NUM_NOTES)\n",
    "#     base_auc = ev_metrics.compute_auc(out, inp, NUM_NOTES)\n",
    "#     predauc.append(np.mean(np.mean(pred_auc)))\n",
    "#     baseauc.append(np.mean(np.mean(base_auc)))\n",
    "\n",
    "    \n",
    "#     # Merged piano rolls to compute overall AUC.\n",
    "# #     merged_input.append(inp)\n",
    "# #     merged_output.append(out)\n",
    "# #     merged_pred.append(pred)\n",
    "\n",
    "# # merged_input = np.concatenate([x for x in merged_input])\n",
    "# # merged_output = np.concatenate([x for x in merged_output])\n",
    "# # merged_pred = np.concatenate([x for x in merged_pred])\n",
    "\n",
    "# # pred_auc_merged = ev_metrics.compute_auc(merged_output, merged_pred, NUM_NOTES)\n",
    "# # base_auc_merged = ev_metrics.compute_auc(merged_output, merged_input, NUM_NOTES)\n",
    "\n",
    "# # print(\"Pred AUC-ROC (mean of subsets): \", np.mean(predauc))\n",
    "# # print(\"Base AUC-ROC:(mean of subsets): \", np.mean(baseauc))\n",
    "\n",
    "# # print(\"Pred AUC-ROC (global): \", np.mean(np.mean((pred_auc_merged))))\n",
    "# # print(\"Base AUC-ROC (global): \", np.mean(np.mean((base_auc_merged))))\n",
    "\n",
    "# predizioni = np.array(predizioni)\n",
    "# print(predizioni.shape)\n",
    "\n",
    "# # pyplot_piano_roll(test.dataset[1][:, :NUM_NOTES],\n",
    "# #                   cmap=\"Greens\", low_lim=LOW_LIM, high_lim=HIGH_LIM)\n",
    "# # plt.title(\"Test target (ground truth)\")\n",
    "\n",
    "\n",
    "# # plt.rcParams[\"figure.figsize\"] = (13, 4)\n",
    "# # pyplot_piano_roll(merged_output,\n",
    "# #                   cmap=\"Greens\", low_lim=LOW_LIM, high_lim=HIGH_LIM)\n",
    "# # plt.title(\"Target (labels)\")\n",
    "# # plt.ylim(CROP)\n",
    "# # plt.savefig(PLOTS / \"roll1.png\")\n",
    "# # pyplot_piano_roll(merged_pred[:, :NUM_NOTES],\n",
    "# #                   cmap=\"Blues\", low_lim=LOW_LIM, high_lim=HIGH_LIM)\n",
    "# # plt.title(\"Predictions\")\n",
    "# # plt.ylim(CROP)\n",
    "# # plt.savefig(PLOTS / \"roll2.png\")\n",
    "# # pyplot_piano_roll(merged_input[:, :NUM_NOTES],\n",
    "# #                   cmap=\"Reds\", low_lim=LOW_LIM, high_lim=HIGH_LIM)\n",
    "# # plt.title(\"Baseline (equal to inputs)\")\n",
    "# # plt.ylim(CROP)\n",
    "# # plt.savefig(PLOTS / \"roll3.png\")\n"
   ]
  },
  {
   "cell_type": "code",
   "execution_count": 78,
   "metadata": {},
   "outputs": [
    {
     "ename": "NameError",
     "evalue": "name 'predizioni' is not defined",
     "output_type": "error",
     "traceback": [
      "\u001b[1;31m---------------------------------------------------------------------------\u001b[0m",
      "\u001b[1;31mNameError\u001b[0m                                 Traceback (most recent call last)",
      "\u001b[1;32m<ipython-input-78-0145324d6cc7>\u001b[0m in \u001b[0;36m<module>\u001b[1;34m\u001b[0m\n\u001b[0;32m      1\u001b[0m \u001b[1;32mfor\u001b[0m \u001b[0mi\u001b[0m \u001b[1;32min\u001b[0m \u001b[0mrange\u001b[0m\u001b[1;33m(\u001b[0m\u001b[1;36m10\u001b[0m\u001b[1;33m)\u001b[0m\u001b[1;33m:\u001b[0m\u001b[1;33m\u001b[0m\u001b[1;33m\u001b[0m\u001b[0m\n\u001b[1;32m----> 2\u001b[1;33m     \u001b[0mpyplot_piano_roll\u001b[0m\u001b[1;33m(\u001b[0m\u001b[0mpredizioni\u001b[0m\u001b[1;33m[\u001b[0m\u001b[1;33m:\u001b[0m\u001b[1;33m,\u001b[0m \u001b[0mi\u001b[0m\u001b[1;33m,\u001b[0m \u001b[1;33m:\u001b[0m\u001b[1;33m]\u001b[0m\u001b[1;33m,\u001b[0m \u001b[0mlow_lim\u001b[0m\u001b[1;33m=\u001b[0m\u001b[0mLOW_LIM\u001b[0m\u001b[1;33m,\u001b[0m \u001b[0mhigh_lim\u001b[0m\u001b[1;33m=\u001b[0m\u001b[0mHIGH_LIM\u001b[0m\u001b[1;33m)\u001b[0m\u001b[1;33m\u001b[0m\u001b[1;33m\u001b[0m\u001b[0m\n\u001b[0m",
      "\u001b[1;31mNameError\u001b[0m: name 'predizioni' is not defined"
     ]
    }
   ],
   "source": [
    "for i in range(10):\n",
    "    pyplot_piano_roll(predizioni[:, i, :], low_lim=LOW_LIM, high_lim=HIGH_LIM)"
   ]
  }
 ],
 "metadata": {
  "celltoolbar": "Raw Cell Format",
  "kernelspec": {
   "display_name": "Python 3",
   "language": "python",
   "name": "python3"
  },
  "language_info": {
   "codemirror_mode": {
    "name": "ipython",
    "version": 3
   },
   "file_extension": ".py",
   "mimetype": "text/x-python",
   "name": "python",
   "nbconvert_exporter": "python",
   "pygments_lexer": "ipython3",
   "version": "3.7.7"
  }
 },
 "nbformat": 4,
 "nbformat_minor": 4
}
