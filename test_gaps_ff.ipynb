{
 "cells": [
  {
   "cell_type": "markdown",
   "metadata": {},
   "source": [
    "# Imports"
   ]
  },
  {
   "cell_type": "code",
   "execution_count": 1,
   "metadata": {},
   "outputs": [
    {
     "name": "stderr",
     "output_type": "stream",
     "text": [
      "Using TensorFlow backend.\n"
     ]
    }
   ],
   "source": [
    "import os\n",
    "from pathlib import Path\n",
    "import numpy as np\n",
    "from tensorflow.keras.models import load_model\n",
    "\n",
    "# from tensorflow.keras.layers import LSTM\n",
    "import tensorflow as tf\n",
    "import copy\n",
    "import pandas as pd\n",
    "from nmp.dataset import pyplot_piano_roll, write_midi\n",
    "import matplotlib.pyplot as plt\n",
    "import time\n",
    "import pypianoroll\n",
    "\n",
    "from tensorflow.keras.callbacks import TensorBoard, CSVLogger\n",
    "\n",
    "import keras.metrics\n",
    "from datetime import datetime\n",
    "import seaborn as sns\n",
    "\n",
    "from nmp import model as mod\n",
    "from nmp import dataset, ev_metrics\n",
    "from nmp import plotter\n",
    "\n",
    "import math\n",
    "from pypianoroll import Multitrack, Track\n",
    "\n",
    "import random"
   ]
  },
  {
   "cell_type": "markdown",
   "metadata": {},
   "source": [
    "# Initialize Variable"
   ]
  },
  {
   "cell_type": "code",
   "execution_count": 2,
   "metadata": {},
   "outputs": [],
   "source": [
    "P = Path(os.path.abspath(''))  # Compatible with Jupyter Notebook\n",
    "\n",
    "PLOTS = P / 'plots'  # Plots path\n",
    "BS = 64\n",
    "FS = 24  # Sampling frequency. 10 Hz = 100 ms\n",
    "Q = 0  # Quantize?\n",
    "st = 10  # Past timesteps\n",
    "num_ts = 10  # Predicted timesteps\n",
    "DOWN = 12  # Downsampling factor\n",
    "D = \"data/POP909\" # Dataset\n",
    "# MODEL = 'model-LSTM-24-10-12'\n",
    "# MODEL = 'chorales-ff-2'\n",
    "MODEL = 'ff-2.h5'\n",
    "\n",
    "LOW_LIM = 33  # A1\n",
    "HIGH_LIM = 97  # C7\n",
    "\n",
    "NUM_NOTES = HIGH_LIM - LOW_LIM\n",
    "CROP = [LOW_LIM, HIGH_LIM]  # Crop plots\n",
    "\n",
    "# TensorFlow stuff\n",
    "physical_devices = tf.config.list_physical_devices('GPU')\n",
    "tf.config.experimental.set_memory_growth(physical_devices[0], True)"
   ]
  },
  {
   "cell_type": "code",
   "execution_count": 17,
   "metadata": {},
   "outputs": [
    {
     "data": {
      "text/plain": [
       "'/home/cuy/NMP/models/ff-2.h5'"
      ]
     },
     "execution_count": 17,
     "metadata": {},
     "output_type": "execute_result"
    }
   ],
   "source": [
    "str(P / 'models' / MODEL)"
   ]
  },
  {
   "cell_type": "markdown",
   "metadata": {},
   "source": [
    "# Load Model"
   ]
  },
  {
   "cell_type": "code",
   "execution_count": 4,
   "metadata": {},
   "outputs": [],
   "source": [
    "# Load model.\n",
    "# model = load_model(filepath=str(P / 'models' / MODEL),\n",
    "#                    compile=True)\n",
    "# model.summary()\n",
    "\n",
    "tempo = 120\n",
    "\n",
    "model = mod.build_model((st, NUM_NOTES), (num_ts), NUM_NOTES, BS)\n",
    "mod.compile_model(model, 'binary_crossentropy', 'adam',\n",
    "                  metrics=['accuracy', mod.f1])\n"
   ]
  },
  {
   "cell_type": "code",
   "execution_count": 10,
   "metadata": {},
   "outputs": [
    {
     "name": "stdout",
     "output_type": "stream",
     "text": [
      "Model: \"sequential\"\n",
      "_________________________________________________________________\n",
      "Layer (type)                 Output Shape              Param #   \n",
      "=================================================================\n",
      "dense (Dense)                (None, 10, 32)            2080      \n",
      "_________________________________________________________________\n",
      "flatten (Flatten)            (None, 320)               0         \n",
      "_________________________________________________________________\n",
      "dense_1 (Dense)              (None, 32)                10272     \n",
      "_________________________________________________________________\n",
      "Output (Dense)               (None, 640)               21120     \n",
      "=================================================================\n",
      "Total params: 33,472\n",
      "Trainable params: 33,472\n",
      "Non-trainable params: 0\n",
      "_________________________________________________________________\n"
     ]
    }
   ],
   "source": [
    "# model.load_weights(tf.train.latest_checkpoint(str(P / 'models' / MODEL)))\n",
    "model.load_weights(tf.train.latest_checkpoint(str(P / 'models' / 'training_checkpoints' / '20220610-171152')))\n",
    "model.build(tf.TensorShape([1, None]))\n",
    "model.summary()\n",
    "\n",
    "# temporary way since loading won't work\n",
    "# model = mod.build_model((st, NUM_NOTES), (num_ts), NUM_NOTES, BS)\n",
    "# mod.compile_model(model, 'binary_crossentropy', 'adam',\n",
    "#                   metrics=['accuracy', mod.f1, keras.metrics.Precision(), keras.metrics.Recall()])"
   ]
  },
  {
   "cell_type": "code",
   "execution_count": 23,
   "metadata": {},
   "outputs": [
    {
     "data": {
      "image/png": "[encoded data removed]",
      "text/plain": [
       "<Figure size 432x288 with 1 Axes>"
      ]
     },
     "metadata": {
      "needs_background": "light"
     },
     "output_type": "display_data"
    }
   ],
   "source": [
    "# midi-test\n",
    "\n",
    "TRACK = 'test/001.mid'\n",
    "FILE = D + '/' + TRACK\n",
    "test_file = dataset.import_one(str(FILE), 24)\n",
    "test_file = test_file[:, LOW_LIM:HIGH_LIM]\n",
    "pyplot_piano_roll(test_file, low_lim=+LOW_LIM, high_lim=HIGH_LIM)\n",
    "STOP = 960"
   ]
  },
  {
   "cell_type": "code",
   "execution_count": 24,
   "metadata": {},
   "outputs": [
    {
     "name": "stdout",
     "output_type": "stream",
     "text": [
      "Building test dataset (1 files)\n"
     ]
    }
   ],
   "source": [
    "test_list = [P / FILE]\n",
    "test = dataset.Dataset(test_list, P / D,  fs=FS, bl=0, quant=Q)\n",
    "test.build_dataset(\"test\", step=st, t_step=num_ts, steps=st, down=DOWN,\n",
    "                   low_lim=LOW_LIM, high_lim=HIGH_LIM)"
   ]
  },
  {
   "cell_type": "code",
   "execution_count": 25,
   "metadata": {},
   "outputs": [
    {
     "name": "stdout",
     "output_type": "stream",
     "text": [
      "(571, 10, 64)\n"
     ]
    }
   ],
   "source": [
    "print(test.dataset[0].shape)\n",
    "\n",
    "inter_size = 5\n",
    "interruptions = [10, 20, 30, 40, 50, 60, 70]\n",
    "\n",
    "final = copy.deepcopy(test.dataset[0][:, 0, :])"
   ]
  },
  {
   "cell_type": "code",
   "execution_count": 26,
   "metadata": {},
   "outputs": [],
   "source": [
    "# Predictions\n",
    "predictions = model.predict(x=test.dataset[0])#, batch_size=BS)\n",
    "predictions_bin = dataset.ranked_threshold(predictions, steps=10,\n",
    "                                           how_many=3)\n",
    "\n",
    "for t in interruptions:\n",
    "    for s in range(inter_size):\n",
    "        final[t+s, :] = predictions_bin[t, s*64:(s+1)*64]"
   ]
  },
  {
   "cell_type": "code",
   "execution_count": 27,
   "metadata": {},
   "outputs": [],
   "source": [
    "# Save piano roll\n",
    "f0 = copy.deepcopy(final)\n",
    "write_midi(f0, str(P / 'audio_output' / 'test.mid'),\n",
    "           LOW_LIM, HIGH_LIM, tempo=tempo)"
   ]
  },
  {
   "cell_type": "code",
   "execution_count": 28,
   "metadata": {},
   "outputs": [],
   "source": [
    "plt.show()"
   ]
  },
  {
   "cell_type": "code",
   "execution_count": 29,
   "metadata": {},
   "outputs": [
    {
     "data": {
      "text/plain": [
       "[PosixPath('/home/cuy/NMP/data/POP909/test/001.mid')]"
      ]
     },
     "execution_count": 29,
     "metadata": {},
     "output_type": "execute_result"
    }
   ],
   "source": [
    "[P / FILE]"
   ]
  },
  {
   "cell_type": "code",
   "execution_count": null,
   "metadata": {},
   "outputs": [],
   "source": []
  }
 ],
 "metadata": {
  "kernelspec": {
   "display_name": "Python 3",
   "language": "python",
   "name": "python3"
  },
  "language_info": {
   "codemirror_mode": {
    "name": "ipython",
    "version": 3
   },
   "file_extension": ".py",
   "mimetype": "text/x-python",
   "name": "python",
   "nbconvert_exporter": "python",
   "pygments_lexer": "ipython3",
   "version": "3.7.7"
  }
 },
 "nbformat": 4,
 "nbformat_minor": 4
}
