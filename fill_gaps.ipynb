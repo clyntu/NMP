{
 "cells": [
  {
   "cell_type": "code",
   "execution_count": null,
   "metadata": {},
   "outputs": [],
   "source": [
    "#!/usr/bin/env python3\n",
    "# -*- coding: utf-8 -*-\n",
    "\"\"\"Display some predictions.\"\"\"\n",
    "import os\n",
    "from pathlib import Path\n",
    "import numpy as np\n",
    "from tensorflow.keras.models import load_model\n",
    "# import matplotlib.pyplot as plt\n",
    "from nmp import dataset\n",
    "# from tensorflow.keras.layers import LSTM\n",
    "import tensorflow as tf\n",
    "import copy\n",
    "import pandas as pd\n",
    "from nmp.dataset import pyplot_piano_roll, write_midi\n",
    "import matplotlib.pyplot as plt\n",
    "import time\n",
    "import pypianoroll\n",
    "import random\n",
    "\n",
    "P = Path(os.path.abspath(''))  # Compatible with Jupyter Notebook\n",
    "\n",
    "PLOTS = P / 'plots'  # Plots path\n",
    "BS = 64\n",
    "FS = 24  # Sampling frequency. 10 Hz = 100 ms\n",
    "Q = 0  # Quantize?\n",
    "st = 10  # Past timesteps\n",
    "num_ts = 10  # Predicted timesteps\n",
    "DOWN = 12  # Downsampling factor\n",
    "D = \"data/Nottingham/test\"  # Dataset (synth or data)\n",
    "\n",
    "MODEL = 'simpleRNN-nottingham.h5'\n",
    "# MODEL = 'ff-z-nottingham'\n",
    "model_type = 'rnn'\n",
    "\n",
    "LOW_LIM = 33  # A1\n",
    "HIGH_LIM = 97  # C7\n",
    "\n",
    "NUM_NOTES = HIGH_LIM - LOW_LIM\n",
    "CROP = [LOW_LIM, HIGH_LIM]  # Crop plots\n",
    "\n",
    "# TensorFlow stuff\n",
    "physical_devices = tf.config.list_physical_devices('GPU')\n",
    "tf.config.experimental.set_memory_growth(physical_devices[0], True)"
   ]
  },
  {
   "cell_type": "code",
   "execution_count": null,
   "metadata": {},
   "outputs": [],
   "source": [
    "# Load model.\n",
    "model = load_model(filepath=str(P / 'models' / MODEL),\n",
    "                   custom_objects=None, compile=True)\n",
    "model.summary()\n",
    "\n",
    "tempo = 138\n",
    "\n",
    "# midi-test\n",
    "\n",
    "\n",
    "\n"
   ]
  },
  {
   "cell_type": "code",
   "execution_count": null,
   "metadata": {},
   "outputs": [],
   "source": [
    "# def fill_gap(position, size)\n",
    "#     start = position - 120\n",
    "#     end = position\n",
    "\n",
    "#     past = dataset.downsample_roll(test_file[start:end, :], 10, 12)\n",
    "#     past = np.array([past])\n",
    "\n",
    "#     predictions = model.predict(past)\n",
    "#     predictions_bin = dataset.ranked_threshold(predictions, steps=10, how_many=5)\n",
    "#     predictions_bin = predictions_bin.reshape((10, 64))\n",
    "#     # pyplot_piano_roll(predictions_bin, low_lim=+LOW_LIM, high_lim=HIGH_LIM)\n",
    "\n",
    "#     upsampled = copy.deepcopy(predictions_bin)\n",
    "#     upsampled = dataset.upsample_roll(upsampled, 10, 12)\n",
    "#     # pyplot_piano_roll(arr, low_lim=+LOW_LIM, high_lim=HIGH_LIM)\n",
    "\n",
    "#     final = copy.deepcopy(test_file)\n",
    "#     final[end: end+12*size] = upsampled[:12*size]\n",
    "    \n",
    "#     return final\n",
    "# #     pyplot_piano_roll(final, low_lim=+LOW_LIM, high_lim=HIGH_LIM)"
   ]
  },
  {
   "cell_type": "code",
   "execution_count": null,
   "metadata": {},
   "outputs": [],
   "source": [
    "FILE = 'ashover_simple_chords_5.mid'\n",
    "BASE = 0\n",
    "\n",
    "import importlib\n",
    "importlib.reload(dataset)\n",
    "test_file = dataset.import_one(str(D + '/' + FILE), 24)\n",
    "test_file = test_file[:, LOW_LIM:HIGH_LIM]\n",
    "pyplot_piano_roll(test_file, low_lim=+LOW_LIM, high_lim=HIGH_LIM)\n",
    "STOP = 960"
   ]
  },
  {
   "cell_type": "code",
   "execution_count": null,
   "metadata": {},
   "outputs": [],
   "source": [
    "print(test_file.shape)\n",
    "random.seed(42)\n",
    "before = copy.deepcopy(test_file)\n",
    "err_pos = range(10, int(test_file.shape[0]/12))\n",
    "err_pos = [x*12 for x in err_pos]\n",
    "# for error in [60*x for x in range(1, 50)]:\n",
    "for error in err_pos:\n",
    "    occurs = random.choice([1, 0, 0, 0, 0, 0, 0])\n",
    "    if occurs:\n",
    "        print\n",
    "        print(\"Error at timestep n. %d\" % error)\n",
    "        try:\n",
    "            if model_type == 'ff':\n",
    "                test_file = dataset.fill_gap(test_file, model, error, size=1, baseline=BASE, how_many=4)\n",
    "            elif model_type == 'rnn':\n",
    "                test_file = dataset.fill_gap_rnn(test_file, model, error, baseline=BASE, how_many=4)\n",
    "        except Exception:\n",
    "            break\n",
    "print(test_file.shape)"
   ]
  },
  {
   "cell_type": "code",
   "execution_count": null,
   "metadata": {},
   "outputs": [],
   "source": [
    "pyplot_piano_roll(before[0:200], low_lim=+LOW_LIM, high_lim=HIGH_LIM, db=[60])\n",
    "plt.ylim([33, 97])\n",
    "pyplot_piano_roll(test_file[0:200], low_lim=+LOW_LIM, high_lim=HIGH_LIM, db=[60])\n",
    "plt.ylim([33, 97])"
   ]
  },
  {
   "cell_type": "code",
   "execution_count": null,
   "metadata": {},
   "outputs": [],
   "source": [
    "pyplot_piano_roll(test_file, low_lim=+LOW_LIM, high_lim=HIGH_LIM)\n",
    "\n",
    "f0 = copy.deepcopy(test_file)\n",
    "dataset.write_midi(f0, str(P / 'audio_output' / (FILE + '_filled_rnn.mid')),\n",
    "                   LOW_LIM, HIGH_LIM, tempo=tempo, br=24)"
   ]
  },
  {
   "cell_type": "code",
   "execution_count": null,
   "metadata": {},
   "outputs": [],
   "source": [
    "# end = STOP + 120\n",
    "\n",
    "# past = dataset.downsample_roll(test_file[STOP:end, :], 10, 12)\n",
    "# past = np.array([past])\n",
    "\n",
    "# predictions = model.predict(past)\n",
    "# predictions_bin = dataset.ranked_threshold(predictions, steps=10, how_many=5)\n",
    "# predictions_bin = predictions_bin.reshape((10, 64))\n",
    "# # pyplot_piano_roll(predictions_bin, low_lim=+LOW_LIM, high_lim=HIGH_LIM)\n",
    "\n",
    "# upsampled = copy.deepcopy(predictions_bin)\n",
    "# upsampled = dataset.upsample_roll(upsampled, 10, 12)\n",
    "# # pyplot_piano_roll(arr, low_lim=+LOW_LIM, high_lim=HIGH_LIM)\n",
    "\n",
    "# final = copy.deepcopy(test_file)\n",
    "# final[end: end+12*5] = upsampled[:12*5]\n"
   ]
  },
  {
   "cell_type": "code",
   "execution_count": null,
   "metadata": {},
   "outputs": [],
   "source": []
  }
 ],
 "metadata": {
  "kernelspec": {
   "display_name": "Python 3",
   "language": "python",
   "name": "python3"
  },
  "language_info": {
   "codemirror_mode": {
    "name": "ipython",
    "version": 3
   },
   "file_extension": ".py",
   "mimetype": "text/x-python",
   "name": "python",
   "nbconvert_exporter": "python",
   "pygments_lexer": "ipython3",
   "version": "3.7.7"
  }
 },
 "nbformat": 4,
 "nbformat_minor": 4
}
