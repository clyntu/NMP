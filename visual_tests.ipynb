{
 "cells": [
  {
   "cell_type": "code",
   "execution_count": null,
   "metadata": {},
   "outputs": [],
   "source": [
    "#!/usr/bin/env python3\n",
    "# -*- coding: utf-8 -*-\n",
    "\"\"\"Main script used for training.\"\"\"\n",
    "from tensorflow.keras.callbacks import TensorBoard, CSVLogger\n",
    "from tensorflow.keras.models import load_model\n",
    "from datetime import datetime\n",
    "import matplotlib.pyplot as plt\n",
    "import seaborn as sns\n",
    "import pandas as pd\n",
    "import os\n",
    "from nmp import model as mod\n",
    "from nmp import dataset, ev_metrics\n",
    "from nmp.dataset import pyplot_piano_roll\n",
    "from pathlib import Path\n",
    "from nmp import plotter\n",
    "import time\n",
    "import math\n",
    "import pypianoroll\n",
    "from pypianoroll import Multitrack, Track\n",
    "import numpy as np\n",
    "import copy\n",
    "\n",
    "# P = Path(__file__).parent.absolute()\n",
    "P = Path(os.path.abspath(''))  # Compatible with Jupyter Notebook\n",
    "\n",
    "PLOTS = P / 'plots'  # Plots path\n",
    "FS = 24  # Sampling frequency. 10 Hz = 100 ms\n",
    "# Q = 0  # Quantize?\n",
    "st = 10  # Past timesteps\n",
    "num_ts = 10  # Predicted timesteps\n",
    "DOWN = 12\n",
    "D = \"data\"  # Dataset (synth or data)\n",
    "CROP = [21, 109]  # Crop plots\n",
    "TRANS = 0"
   ]
  },
  {
   "cell_type": "markdown",
   "metadata": {},
   "source": [
    "### Load model"
   ]
  },
  {
   "cell_type": "code",
   "execution_count": null,
   "metadata": {},
   "outputs": [],
   "source": [
    "MODEL = 'model-RNN-12-10'\n",
    "\n",
    "model = load_model(filepath=str(P / 'models' / MODEL),\n",
    "                   custom_objects=None,\n",
    "                   compile=True)\n",
    "model.summary()"
   ]
  },
  {
   "cell_type": "markdown",
   "metadata": {},
   "source": [
    "### Load midi file"
   ]
  },
  {
   "cell_type": "code",
   "execution_count": null,
   "metadata": {},
   "outputs": [],
   "source": [
    "FILE = 'pattern4BIS.mid'\n",
    "\n",
    "test_list = [P / 'midi_tests' / FILE]\n",
    "print(\"Total number of MIDI files:\", len(test_list))\n",
    "test = dataset.Dataset(test_list, P / D,  fs=FS, bl=0)\n",
    "test.build_dataset(\"test\", step=st, t_step=num_ts, steps=st, down=DOWN)\n",
    "print(\"Done\")\n",
    "print(\"Shape: \", test.dataset[0].shape)"
   ]
  },
  {
   "cell_type": "markdown",
   "metadata": {},
   "source": [
    "### Make predictions"
   ]
  },
  {
   "cell_type": "code",
   "execution_count": null,
   "metadata": {},
   "outputs": [],
   "source": [
    "predictions = model.predict(x=test.dataset[0])"
   ]
  },
  {
   "cell_type": "markdown",
   "metadata": {},
   "source": [
    "### Build baseline"
   ]
  },
  {
   "cell_type": "code",
   "execution_count": null,
   "metadata": {},
   "outputs": [],
   "source": [
    "baseline = dataset.Dataset(test_list, P / D,  fs=FS, bl=1)\n",
    "baseline.build_dataset(\"baseline\", step=st, t_step=num_ts, steps=st, down=DOWN)"
   ]
  },
  {
   "cell_type": "markdown",
   "metadata": {},
   "source": [
    "### Make piano rolls"
   ]
  },
  {
   "cell_type": "code",
   "execution_count": null,
   "metadata": {},
   "outputs": [],
   "source": [
    "newpiano = copy.deepcopy(predictions)\n",
    "L = int(predictions.shape[1]/88)\n",
    "for t in range(L):\n",
    "    newpiano[newpiano.shape[0]-L+t, :88] = predictions[newpiano.shape[0]-L, 88*t:88*(t+1)]\n",
    "    \n",
    "a = copy.deepcopy(test.dataset[1][:, :])\n",
    "L = int(test.dataset[1][:, :].shape[1]/88)\n",
    "for t in range(L):\n",
    "    a[a.shape[0]-L+t, :88] = test.dataset[1][a.shape[0]-L, 88*t:88*(t+1)]\n",
    "    \n",
    "a = pd.DataFrame(test.dataset[0][:, 0, :])\n",
    "b = pd.DataFrame(newpiano[-num_ts:, :88])\n",
    "b2 = pd.DataFrame(test.dataset[1][-num_ts:, :88])\n",
    "\n",
    "c = pd.concat([a, b]).values\n",
    "d = pd.concat([a, b2]).values"
   ]
  },
  {
   "cell_type": "markdown",
   "metadata": {},
   "source": [
    "### Visualise piano rolls"
   ]
  },
  {
   "cell_type": "code",
   "execution_count": null,
   "metadata": {},
   "outputs": [],
   "source": [
    "th = 0.16\n",
    "\n",
    "C = copy.deepcopy(c)\n",
    "C[C > th] = 1\n",
    "C[C < th] = 0\n",
    "\n",
    "plt.rcParams[\"figure.figsize\"] = (8, 4)\n",
    "ax1 = pyplot_piano_roll(d, cmap=\"Greens\", db=[d.shape[0]-L-0.5], br=2)\n",
    "plt.title('Real')\n",
    "plt.ylim(33, 87)\n",
    "# plt.xlim([50, 71])\n",
    "plt.savefig(PLOTS / 'bach846' / 'real.eps')\n",
    "\n",
    "pyplot_piano_roll(c, cmap=\"Oranges\", db=[d.shape[0]-L-0.5], br=2)\n",
    "plt.title('Prediction (not thresholded)')\n",
    "plt.ylim(33, 87)\n",
    "# plt.xlim([50, 71])\n",
    "plt.savefig(PLOTS / 'bach846' / 'not-thresh.eps')\n",
    "\n",
    "pyplot_piano_roll(C, cmap=\"Reds\", db=[d.shape[0]-L-0.5], br=2)\n",
    "plt.title('Prediction (thresolded)')\n",
    "plt.ylim(33, 87)\n",
    "# plt.xlim([50, 71])\n",
    "plt.savefig(PLOTS / 'bach846' / 'thresh.eps')"
   ]
  }
 ],
 "metadata": {
  "kernelspec": {
   "display_name": "Python 3",
   "language": "python",
   "name": "python3"
  },
  "language_info": {
   "codemirror_mode": {
    "name": "ipython",
    "version": 3
   },
   "file_extension": ".py",
   "mimetype": "text/x-python",
   "name": "python",
   "nbconvert_exporter": "python",
   "pygments_lexer": "ipython3",
   "version": "3.7.7"
  }
 },
 "nbformat": 4,
 "nbformat_minor": 4
}
