{
 "cells": [
  {
   "cell_type": "code",
   "execution_count": 1,
   "metadata": {},
   "outputs": [
    {
     "name": "stderr",
     "output_type": "stream",
     "text": [
      "Using TensorFlow backend.\n"
     ]
    }
   ],
   "source": [
    "#!/usr/bin/env python3\n",
    "# -*- coding: utf-8 -*-\n",
    "\"\"\"Main script used for training.\"\"\"\n",
    "from tensorflow.keras.callbacks import TensorBoard, CSVLogger\n",
    "from tensorflow.keras.models import load_model\n",
    "from datetime import datetime\n",
    "import matplotlib.pyplot as plt\n",
    "import seaborn as sns\n",
    "import pandas as pd\n",
    "import os\n",
    "from nmp import model as mod\n",
    "from nmp import dataset, ev_metrics\n",
    "from nmp.dataset import pyplot_piano_roll\n",
    "from pathlib import Path\n",
    "from nmp import plotter\n",
    "import time\n",
    "import math\n",
    "import pypianoroll\n",
    "from pypianoroll import Multitrack, Track\n",
    "import numpy as np\n",
    "import copy\n",
    "import tensorflow as tf\n",
    "\n",
    "# P = Path(__file__).parent.absolute()\n",
    "P = Path(os.path.abspath(''))  # Compatible with Jupyter Notebook\n",
    "\n",
    "PLOTS = P / 'plots'  # Plots path\n",
    "FS = 24  # Sampling frequency. 10 Hz = 100 ms\n",
    "# Q = 0  # Quantize?\n",
    "st = 10  # Past timesteps\n",
    "num_ts = 10  # Predicted timesteps\n",
    "DOWN = 12\n",
    "# D = \"data/Piano-Midi.de\"  # Dataset\n",
    "# D = \"data/Nottingham\"  # Dataset\n",
    "# D = \"data/JSB Chorales\"  # Dataset\n",
    "D = \"data/POP909\" # Dataset\n",
    "# CROP = [21, 109]  # Crop plots\n",
    "CROP = [36, 85]  # Crop plots\n",
    "TRANS = 0\n",
    "\n",
    "# Many notes (64)\n",
    "# LOW_LIM = 33  # A1\n",
    "# HIGH_LIM = 97  # C7\n",
    "\n",
    "# Few notes\n",
    "LOW_LIM = 36  # C2\n",
    "HIGH_LIM = 85  # C6\n",
    "\n",
    "# Complete 88-key keyboard\n",
    "# LOW_LIM = 21  # A0\n",
    "# HIGH_LIM = 109  # C8\n",
    "\n",
    "NUM_NOTES = HIGH_LIM - LOW_LIM\n",
    "CROP = [LOW_LIM, HIGH_LIM]  # Crop plots\n",
    "\n",
    "VIEW_ROLLS = 0"
   ]
  },
  {
   "cell_type": "markdown",
   "metadata": {},
   "source": [
    "### Load model"
   ]
  },
  {
   "cell_type": "code",
   "execution_count": null,
   "metadata": {
    "tags": []
   },
   "outputs": [],
   "source": [
    "FF = 1\n",
    "BS = 8\n",
    "if FF:\n",
    "    checkpoint_dir = P / ('models/take/ff-jsb')\n",
    "    model_ff = mod.build_model((st, NUM_NOTES), (num_ts), NUM_NOTES, BS)\n",
    "    mod.compile_model(model_ff, 'binary_crossentropy', 'adam',\n",
    "                      metrics=['accuracy', mod.f1])\n",
    "    model_ff.load_weights(tf.train.latest_checkpoint(checkpoint_dir))\n",
    "    model_ff.build(tf.TensorShape([1, None]))\n",
    "    model_ff.summary()\n",
    "    model = model_ff\n",
    "else:\n",
    "    checkpoint_dir = P / ('models/take/lstm-jsb')\n",
    "    model = mod.build_gru_model(NUM_NOTES, 1)\n",
    "    mod.compile_model(model, 'binary_crossentropy', 'adam',\n",
    "                      metrics=['accuracy'])\n",
    "    model.load_weights(tf.train.latest_checkpoint(checkpoint_dir))\n",
    "    model.build(tf.TensorShape([1, None]))\n",
    "    model.summary()"
   ]
  },
  {
   "cell_type": "markdown",
   "metadata": {},
   "source": [
    "### Load midi file"
   ]
  },
  {
   "cell_type": "code",
   "execution_count": 3,
   "metadata": {
    "tags": []
   },
   "outputs": [
    {
     "name": "stdout",
     "output_type": "stream",
     "text": [
      "Total number of MIDI files: 77\n",
      "Building test dataset (77 files)\n",
      "Done\n",
      "Shape:  (8503, 10, 64)\n"
     ]
    }
   ],
   "source": [
    "if FF:\n",
    "    FILE = 'bach-minuetto1.mid'\n",
    "    test_list = [P / 'midi_tests' / FILE]\n",
    "\n",
    "    midi_list = [x for x in os.listdir(P / D / 'test') if x.endswith('.mid')]\n",
    "    test_list = midi_list\n",
    "    # test_list = midi_list[213:236]\n",
    "\n",
    "    print(\"Total number of MIDI files:\", len(test_list))\n",
    "    test = dataset.Dataset(test_list, P / D / 'test',  fs=FS, bl=0)\n",
    "    test.build_dataset(\"test\", step=st, t_step=num_ts, steps=st,\n",
    "                       down=DOWN, low_lim=LOW_LIM, high_lim=HIGH_LIM)\n",
    "    print(\"Done\")\n",
    "    print(\"Shape: \", test.dataset[0].shape)\n",
    "\n",
    "else:\n",
    "    \n",
    "    def split_input_target(chunk):\n",
    "        input_text = chunk[:, :10*64]\n",
    "        target_text = chunk[:, 10*64:]\n",
    "        return input_text, target_text\n",
    "\n",
    "    def split_input_target_base(chunk):\n",
    "        input_text = chunk[:,:10]\n",
    "        target_text = chunk[:,10:]\n",
    "        return input_text, target_text\n",
    "\n",
    "    test_list = [x for x in os.listdir(P / D / 'test') if x.endswith('.mid')]\n",
    "    test = dataset.Dataset(test_list, P / D / 'test',  fs=FS, bl=0, quant=0)\n",
    "    test.build_rnn_dataset(\"test\", down=DOWN, low_lim=LOW_LIM, high_lim=HIGH_LIM)\n",
    "    test_dataset = tf.data.Dataset.from_tensor_slices((test.dataset[0]))\n",
    "    test_sequences = test_dataset.batch(50, drop_remainder=True)\n",
    "    test_data = test_sequences.map(split_input_target)\n",
    "    test_data = test_data.batch(1, drop_remainder=True)"
   ]
  },
  {
   "cell_type": "markdown",
   "metadata": {},
   "source": [
    "### Make predictions"
   ]
  },
  {
   "cell_type": "code",
   "execution_count": 5,
   "metadata": {},
   "outputs": [],
   "source": [
    "if FF:\n",
    "    L = test.dataset[0].shape[0]\n",
    "    predictions = model.predict(x=test.dataset[0][:L, :, :])\n",
    "\n",
    "else:\n",
    "    model.reset_states()\n",
    "    predauc = []\n",
    "    baseauc = []\n",
    "\n",
    "    merged_input = []\n",
    "    merged_output = []\n",
    "    merged_pred = []\n",
    "\n",
    "    for input_batch, label_batch in test_data.take(-1):\n",
    "        predictions = model(tf.cast(input_batch, tf.float32))\n",
    "\n",
    "        pred = np.array(tf.squeeze(predictions, 0))\n",
    "\n",
    "        inp = np.array(tf.squeeze(input_batch, 0))\n",
    "        out = np.array(tf.squeeze(label_batch, 0))\n",
    "\n",
    "        # Merged piano rolls to compute overall AUC.\n",
    "        merged_input.append(inp)\n",
    "        merged_output.append(out)\n",
    "        merged_pred.append(pred)\n",
    "\n",
    "    merged_input = np.concatenate([x for x in merged_input])\n",
    "    merged_output = np.concatenate([x for x in merged_output])\n",
    "    merged_pred = np.concatenate([x for x in merged_pred])\n",
    "\n",
    "    print(merged_input.shape)\n",
    "\n",
    "    baseline = copy.deepcopy(merged_input)\n",
    "    for t in range(len(merged_input)):\n",
    "        for s in range(10):\n",
    "            baseline[t, 64*s:64*(s+1)] = merged_input[t, 640-64:640]"
   ]
  },
  {
   "cell_type": "markdown",
   "metadata": {},
   "source": [
    "### Build baseline"
   ]
  },
  {
   "cell_type": "code",
   "execution_count": 6,
   "metadata": {
    "tags": []
   },
   "outputs": [
    {
     "name": "stdout",
     "output_type": "stream",
     "text": [
      "Building baseline dataset (77 files)\n"
     ]
    }
   ],
   "source": [
    "if FF:\n",
    "    baseline = dataset.Dataset(test_list, P / D / 'test',  fs=FS, bl=1)\n",
    "    baseline.build_dataset(\"baseline\", step=st, t_step=num_ts, steps=st,\n",
    "                           down=DOWN, low_lim=LOW_LIM, high_lim=HIGH_LIM)"
   ]
  },
  {
   "cell_type": "markdown",
   "metadata": {},
   "source": [
    "### Make piano rolls"
   ]
  },
  {
   "cell_type": "code",
   "execution_count": null,
   "metadata": {},
   "outputs": [],
   "source": [
    "newpiano = copy.deepcopy(predictions)\n",
    "L = int(predictions.shape[1]/NUM_NOTES)\n",
    "for t in range(L):\n",
    "    newpiano[newpiano.shape[0]-L+t, :NUM_NOTES] = predictions[newpiano.shape[0]-L, NUM_NOTES*t:NUM_NOTES*(t+1)]\n",
    "    \n",
    "a = copy.deepcopy(test.dataset[1][:, :])\n",
    "L = int(test.dataset[1][:, :].shape[1]/NUM_NOTES)\n",
    "for t in range(L):\n",
    "    a[a.shape[0]-L+t, :NUM_NOTES] = test.dataset[1][a.shape[0]-L, NUM_NOTES*t:NUM_NOTES*(t+1)]\n",
    "    \n",
    "a = pd.DataFrame(test.dataset[0][:, 0, :])\n",
    "b = pd.DataFrame(newpiano[-num_ts:, :NUM_NOTES])\n",
    "b2 = pd.DataFrame(test.dataset[1][-num_ts:, :NUM_NOTES])\n",
    "\n",
    "c = pd.concat([a, b]).values\n",
    "d = pd.concat([a, b2]).values"
   ]
  },
  {
   "cell_type": "markdown",
   "metadata": {},
   "source": [
    "### Visualise piano rolls"
   ]
  },
  {
   "cell_type": "code",
   "execution_count": null,
   "metadata": {},
   "outputs": [],
   "source": [
    "# th = 0.16\n",
    "import importlib\n",
    "importlib.reload(dataset)\n",
    "C = copy.deepcopy(c)\n",
    "# C[C > th] = 1\n",
    "# C[C < th] = 0\n",
    "\n",
    "C = dataset.ranked_threshold(c, steps=1, how_many=8)\n",
    "\n",
    "plt.rcParams[\"figure.figsize\"] = (8, 4)\n",
    "ax1 = pyplot_piano_roll(d, cmap=\"Greens\", db=[d.shape[0]-L-0.5], br=2,\n",
    "                        low_lim=LOW_LIM, high_lim=HIGH_LIM)\n",
    "plt.title('Real')\n",
    "plt.ylim(LOW_LIM, HIGH_LIM)\n",
    "# plt.xlim([50, 71])\n",
    "plt.ylim(55, 75)\n",
    "# plt.savefig(PLOTS / 'bach846' / 'real.eps')\n",
    "\n",
    "if VIEW_ROLLS:\n",
    "    pyplot_piano_roll(c, cmap=\"Oranges\", db=[d.shape[0]-L-0.5], br=2,\n",
    "                      low_lim=LOW_LIM, high_lim=HIGH_LIM)\n",
    "    plt.title('Prediction (not thresholded)')\n",
    "    plt.ylim(LOW_LIM, HIGH_LIM)\n",
    "    # plt.xlim([50, 71])\n",
    "    plt.ylim(55, 75)\n",
    "    # plt.savefig(PLOTS / 'bach846' / 'not-thresh.eps')\n",
    "\n",
    "    pyplot_piano_roll(C, cmap=\"Reds\", db=[d.shape[0]-L-0.5], br=2,\n",
    "                      low_lim=LOW_LIM, high_lim=HIGH_LIM)\n",
    "    plt.title('Prediction (thresolded)')\n",
    "    plt.ylim(LOW_LIM, HIGH_LIM)\n",
    "    # plt.xlim([50, 71])\n",
    "    plt.ylim(55, 75)\n",
    "    # plt.savefig(PLOTS / 'bach846' / 'thresh.eps')"
   ]
  },
  {
   "cell_type": "markdown",
   "metadata": {},
   "source": [
    "### Evaluate AUC - ROC\n",
    "Evaluate metric on predictions and baseline with respect to the ground truth of test dataset"
   ]
  },
  {
   "cell_type": "code",
   "execution_count": null,
   "metadata": {},
   "outputs": [],
   "source": [
    "# Build baseline\n",
    "# baseline = dataset.Dataset(test_list, P / D / 'test',  fs=FS, bl=1)\n",
    "# baseline.build_dataset(\"baseline\", step=st, t_step=num_ts, steps=st,\n",
    "#                        down=DOWN, low_lim=LOW_LIM, high_lim=HIGH_LIM)\n",
    "\n",
    "# x = baseline.dataset[0][:16544, :, :]\n",
    "# y = baseline.dataset[1][:16544, :]\n",
    "# baseline.dataset = (x, y)\n",
    "\n",
    "# print(\"\")\n",
    "# print(\"Baseline shape: \", baseline.dataset[1].shape)\n",
    "# print(\"Test shape: \", test.dataset[1].shape)\n",
    "\n",
    "if FF:\n",
    "    pred_auc = ev_metrics.compute_auc(test.dataset[1], predictions, NUM_NOTES)\n",
    "    base_auc = ev_metrics.compute_auc(test.dataset[1], baseline.dataset[1], NUM_NOTES)\n",
    "else:\n",
    "    pred_auc = ev_metrics.compute_auc(merged_output, merged_pred, NUM_NOTES)\n",
    "    base_auc = ev_metrics.compute_auc(merged_output, baseline, NUM_NOTES)"
   ]
  },
  {
   "cell_type": "code",
   "execution_count": null,
   "metadata": {},
   "outputs": [],
   "source": [
    "fig, (ax1, ax2, axcb) = plt.subplots(1, 3, constrained_layout=True,\n",
    "                                     figsize=(8, 8),\n",
    "                                     gridspec_kw={'width_ratios':[1, 1, 0.08]})\n",
    "g1 = sns.heatmap(pred_auc, vmin=0.5, vmax=1, cmap='copper', ax=ax1, cbar=False)\n",
    "g1.set_ylabel('')\n",
    "g1.set_xlabel('')\n",
    "g1.set_yticklabels(g1.get_yticklabels(), rotation=0)\n",
    "ax1.set_xlabel('Time (step)')\n",
    "ax1.set_ylabel('Pitch')\n",
    "ax1.set_title('AUC-ROC (prediction)')\n",
    "g2 = sns.heatmap(base_auc, vmin=0.5, vmax=1, cmap='copper', ax=ax2, cbar_ax=axcb)\n",
    "g2.set_ylabel('')\n",
    "g2.set_xlabel('')\n",
    "g2.set_yticks([])\n",
    "ax2.set_xlabel('Time (step)')\n",
    "ax2.set_title('AUC-ROC (baseline)')\n",
    "ax1.get_shared_y_axes().join(ax1,ax2)\n",
    "# plt.savefig(PLOTS / 'heat.eps', format='eps')\n",
    "print(pred_auc.shape)"
   ]
  },
  {
   "cell_type": "code",
   "execution_count": null,
   "metadata": {},
   "outputs": [],
   "source": [
    "c1 = 0\n",
    "c2 = 64\n",
    "fig, (ax1, ax2, axcb) = plt.subplots(1, 3, constrained_layout=True,\n",
    "                                     figsize=(8, 6),\n",
    "                                     gridspec_kw={'width_ratios':[1, 1, 0.08]})\n",
    "g1 = sns.heatmap(pred_auc[c1:c2], vmin=0.5, vmax=1, cmap='gray', ax=ax1, cbar=False)\n",
    "g1.set_ylabel('')\n",
    "g1.set_xlabel('')\n",
    "g1.set_yticklabels(g1.get_yticklabels(), rotation=0)\n",
    "ax1.set_xlabel('Time (step)')\n",
    "ax1.set_ylabel('Pitch')\n",
    "ax1.set_title('AUC-ROC (crop) [prediction]')\n",
    "g2 = sns.heatmap(base_auc[c1:c2], vmin=0.5, vmax=1, cmap='gray', ax=ax2, cbar_ax=axcb)\n",
    "g2.set_ylabel('')\n",
    "g2.set_xlabel('')\n",
    "g2.set_yticks([])\n",
    "ax2.set_xlabel('Time (step)')\n",
    "ax2.set_title('AUC-ROC (crop) [baseline]')\n",
    "ax1.get_shared_y_axes().join(ax1,ax2)\n",
    "# plt.savefig(PLOTS / 'heat_crop.eps', format='eps')\n",
    "print(pred_auc.shape)"
   ]
  },
  {
   "cell_type": "code",
   "execution_count": null,
   "metadata": {},
   "outputs": [],
   "source": [
    "fig, ax = plt.subplots(constrained_layout=True, figsize=(5, 4))\n",
    "\n",
    "ax.plot(range(1, num_ts + 1), np.mean(pred_auc[c1:c2]), 'x', c='tab:blue', label='prediction', ms=10)\n",
    "ax.plot(range(1, num_ts + 1), np.mean(base_auc[c1:c2]), 'o', c='tab:green', label='baseline ', ms=7)\n",
    "\n",
    "ax.set_ylim([0.4, 1])\n",
    "ax.set_ylim([0.4, 1])\n",
    "ax.legend()\n",
    "plt.title('Avg. AUC-ROC per predicted timestep')\n",
    "plt.xlabel('Timestep')\n",
    "# plt.xticks([0, 2, 4, 6, 8, 10])\n",
    "plt.ylabel('ROC AUC')\n",
    "ax.spines['top'].set_visible(False)\n",
    "ax.spines['right'].set_visible(False)\n",
    "name = 'auc' + str()\n",
    "plt.grid()\n",
    "# plt.savefig(PLOTS / 'auc.eps', format='eps')\n",
    "\n",
    "print(\"Predict. mean value:\", np.mean(np.mean(pred_auc[c1:c2])))\n",
    "print(\"Baseline mean value:\", np.mean(np.mean(base_auc[c1:c2])))"
   ]
  },
  {
   "cell_type": "code",
   "execution_count": null,
   "metadata": {},
   "outputs": [],
   "source": [
    "fig, ax = plt.subplots(constrained_layout=True, figsize=(5, 4))\n",
    "\n",
    "ax.plot(range(1, num_ts + 1), np.mean(pred_auc[c1:c2]), 'x', c='tab:blue', label='prediction', ms=10)\n",
    "ax.plot(range(1, num_ts + 1), np.mean(base_auc[c1:c2]), 'o', c='tab:green', label='baseline ', ms=7)\n",
    "\n",
    "ax.set_ylim([0.4, 1])\n",
    "ax.set_ylim([0.4, 1])\n",
    "ax.legend()\n",
    "plt.title('Avg. AUC-ROC per predicted timestep')\n",
    "plt.xlabel('Timestep')\n",
    "# plt.xticks([0, 2, 4, 6, 8, 10])\n",
    "plt.ylabel('ROC AUC')\n",
    "ax.spines['top'].set_visible(False)\n",
    "ax.spines['right'].set_visible(False)\n",
    "name = 'auc' + str()\n",
    "# plt.savefig(PLOTS / 'auc.eps', format='eps')\n",
    "\n",
    "print(\"Predict. mean value:\", np.mean(np.mean(pred_auc[c1:c2])))\n",
    "print(\"Baseline mean value:\", np.mean(np.mean(base_auc[c1:c2])))"
   ]
  },
  {
   "cell_type": "code",
   "execution_count": null,
   "metadata": {},
   "outputs": [],
   "source": [
    "pd.DataFrame(predictions)"
   ]
  },
  {
   "cell_type": "code",
   "execution_count": null,
   "metadata": {},
   "outputs": [],
   "source": [
    "# T = 50\n",
    "# print(predictions[T, :].shape)\n",
    "# my_roll = np.reshape(predictions[T, :], (10, 64))\n",
    "# for t in range(len(my_roll)):\n",
    "#     my_roll[t, :].sort()\n",
    "\n",
    "# np.reshape(my_roll, (640,))"
   ]
  },
  {
   "cell_type": "code",
   "execution_count": null,
   "metadata": {},
   "outputs": [],
   "source": [
    "# predictions[t, :].shape"
   ]
  },
  {
   "cell_type": "code",
   "execution_count": null,
   "metadata": {},
   "outputs": [],
   "source": [
    "# for t in range(len(predictions)):\n",
    "#     predictions[t, :] = dataset.sort_piano_roll(predictions[t, :], 10)"
   ]
  },
  {
   "cell_type": "code",
   "execution_count": null,
   "metadata": {},
   "outputs": [],
   "source": [
    "print(predictions.shape)"
   ]
  },
  {
   "cell_type": "code",
   "execution_count": null,
   "metadata": {},
   "outputs": [],
   "source": [
    "print(dataset.pad_piano_roll(c, LOW_LIM, HIGH_LIM))"
   ]
  },
  {
   "cell_type": "markdown",
   "metadata": {},
   "source": [
    "## Save MIDI file"
   ]
  },
  {
   "cell_type": "code",
   "execution_count": null,
   "metadata": {},
   "outputs": [],
   "source": [
    "# f = copy.deepcopy(C)\n",
    "# f[f > 0] = 127\n",
    "# traccia = pypianoroll.Track(dataset.pad_piano_roll(f, LOW_LIM, HIGH_LIM))\n",
    "# multitraccia = pypianoroll.Multitrack(tracks=[traccia], tempo=120.0, beat_resolution=2)\n",
    "# multitraccia.write('./traccia.mid')"
   ]
  },
  {
   "cell_type": "code",
   "execution_count": null,
   "metadata": {},
   "outputs": [],
   "source": []
  },
  {
   "cell_type": "code",
   "execution_count": null,
   "metadata": {},
   "outputs": [],
   "source": []
  },
  {
   "cell_type": "code",
   "execution_count": null,
   "metadata": {},
   "outputs": [],
   "source": []
  },
  {
   "cell_type": "code",
   "execution_count": null,
   "metadata": {},
   "outputs": [],
   "source": []
  },
  {
   "cell_type": "code",
   "execution_count": null,
   "metadata": {},
   "outputs": [],
   "source": []
  },
  {
   "cell_type": "markdown",
   "metadata": {},
   "source": [
    "## Dissonance perception metric"
   ]
  },
  {
   "cell_type": "code",
   "execution_count": 7,
   "metadata": {},
   "outputs": [],
   "source": [
    "# test.dataset[0][:, 9, :].shape"
   ]
  },
  {
   "cell_type": "code",
   "execution_count": 8,
   "metadata": {},
   "outputs": [],
   "source": [
    "# Hold baseline\n",
    "if FF:\n",
    "    hold_baseline = test.dataset[0][:, 9, :]\n",
    "    hold_baseline.shape\n",
    "    \n",
    "else:\n",
    "    hold_baseline = copy.deepcopy(baseline)\n",
    "    predictions = copy.deepcopy(merged_pred)"
   ]
  },
  {
   "cell_type": "code",
   "execution_count": 9,
   "metadata": {},
   "outputs": [
    {
     "name": "stdout",
     "output_type": "stream",
     "text": [
      "(8503, 640)\n"
     ]
    },
    {
     "data": {
      "text/plain": [
       "(<Figure size 432x288 with 1 Axes>,\n",
       " <matplotlib.axes._subplots.AxesSubplot at 0x12aa43841c8>)"
      ]
     },
     "execution_count": 9,
     "metadata": {},
     "output_type": "execute_result"
    },
    {
     "data": {
      "image/png": "[encoded data removed]",
      "text/plain": [
       "<Figure size 432x288 with 1 Axes>"
      ]
     },
     "metadata": {
      "needs_background": "light"
     },
     "output_type": "display_data"
    }
   ],
   "source": [
    "print(test.dataset[1].shape)\n",
    "pyplot_piano_roll(test.dataset[1][:, :64], low_lim=LOW_LIM, high_lim=HIGH_LIM)"
   ]
  },
  {
   "cell_type": "code",
   "execution_count": 10,
   "metadata": {},
   "outputs": [
    {
     "name": "stdout",
     "output_type": "stream",
     "text": [
      "(8503, 640)\n"
     ]
    },
    {
     "data": {
      "text/plain": [
       "(<Figure size 432x288 with 1 Axes>,\n",
       " <matplotlib.axes._subplots.AxesSubplot at 0x12aa434b048>)"
      ]
     },
     "execution_count": 10,
     "metadata": {},
     "output_type": "execute_result"
    },
    {
     "data": {
      "image/png": "[encoded data removed]",
      "text/plain": [
       "<Figure size 432x288 with 1 Axes>"
      ]
     },
     "metadata": {
      "needs_background": "light"
     },
     "output_type": "display_data"
    }
   ],
   "source": [
    "print(predictions.shape)\n",
    "pyplot_piano_roll(predictions[:, :64], low_lim=LOW_LIM, high_lim=HIGH_LIM)"
   ]
  },
  {
   "cell_type": "code",
   "execution_count": 11,
   "metadata": {},
   "outputs": [
    {
     "name": "stdout",
     "output_type": "stream",
     "text": [
      "(8503, 64)\n"
     ]
    },
    {
     "data": {
      "text/plain": [
       "(<Figure size 432x288 with 1 Axes>,\n",
       " <matplotlib.axes._subplots.AxesSubplot at 0x12aaaf55108>)"
      ]
     },
     "execution_count": 11,
     "metadata": {},
     "output_type": "execute_result"
    },
    {
     "data": {
      "image/png": "[encoded data removed]",
      "text/plain": [
       "<Figure size 432x288 with 1 Axes>"
      ]
     },
     "metadata": {
      "needs_background": "light"
     },
     "output_type": "display_data"
    }
   ],
   "source": [
    "print(hold_baseline.shape)\n",
    "pyplot_piano_roll(hold_baseline[:, :64], low_lim=LOW_LIM, high_lim=HIGH_LIM)"
   ]
  },
  {
   "cell_type": "code",
   "execution_count": 12,
   "metadata": {},
   "outputs": [],
   "source": [
    "# print(merged_input.shape)\n",
    "# pyplot_piano_roll(merged_input[:, :64], low_lim=LOW_LIM, high_lim=HIGH_LIM)\n",
    "# pyplot_piano_roll(hold_baseline[:, :64], low_lim=LOW_LIM, high_lim=HIGH_LIM)"
   ]
  },
  {
   "cell_type": "code",
   "execution_count": 13,
   "metadata": {},
   "outputs": [],
   "source": [
    "predictions_bin = []\n",
    "\n",
    "for timestep in range(10):\n",
    "    pb = []\n",
    "    if FF:\n",
    "        search, _ = dataset.get_indexes(test.dataset[1][:, 64*timestep:64*(timestep+1)])\n",
    "    else:\n",
    "        search, _ = dataset.get_indexes(merged_output[:, 64*timestep:64*(timestep+1)])\n",
    "    number_of_notes = [len(n) for n in search]\n",
    "    \n",
    "    for cnt, n in enumerate(number_of_notes):\n",
    "        pb.append(dataset.ranked_threshold(predictions[cnt:cnt+1, 64*timestep:64*(timestep+1)],\n",
    "                                                        how_many=n,\n",
    "                                                        steps=1))\n",
    "    predictions_bin.append(np.array(pb)[:, 0, :])\n",
    "predictions_bin = np.array(predictions_bin)"
   ]
  },
  {
   "cell_type": "code",
   "execution_count": 14,
   "metadata": {},
   "outputs": [],
   "source": [
    "# print(predictions_bin.shape)\n",
    "\n",
    "# pyplot_piano_roll(predictions_bin[:, 0, :], low_lim=LOW_LIM, high_lim=HIGH_LIM)"
   ]
  },
  {
   "cell_type": "code",
   "execution_count": 15,
   "metadata": {},
   "outputs": [
    {
     "name": "stdout",
     "output_type": "stream",
     "text": [
      "(8503, 640)\n",
      "(10, 8503, 64)\n",
      "(8503, 64)\n",
      "(8503, 640)\n"
     ]
    }
   ],
   "source": [
    "print(predictions.shape)\n",
    "print(predictions_bin.shape)\n",
    "# predictions_bin2 = np.reshape(predictions_bin, (16544, 640))\n",
    "# print(predictions_bin2.shape)\n",
    "print(hold_baseline.shape)\n",
    "# print(merged_input.shape)\n",
    "print(test.dataset[1].shape)"
   ]
  },
  {
   "cell_type": "code",
   "execution_count": 16,
   "metadata": {},
   "outputs": [],
   "source": [
    "# pyplot_piano_roll(predictions_bin2[:, 64*5:64*6], low_lim=LOW_LIM, high_lim=HIGH_LIM)"
   ]
  },
  {
   "cell_type": "code",
   "execution_count": 17,
   "metadata": {},
   "outputs": [],
   "source": [
    "# from nmp import ev_metrics\n",
    "# import importlib\n",
    "# importlib.reload(ev_metrics)\n",
    "# for a in range(10):\n",
    "#     values = ev_metrics.dissonance_perception(test.dataset[1][:, a*64:(a+1)*64], predictions_bin[a, :, :])\n",
    "#     print(\"Perceptive accuracy at timesteps %d: %.2f%%\" % (a, values))\n",
    "\n",
    "#     base_values = ev_metrics.dissonance_perception(test.dataset[1][:, a*64:(a+1)*64], hold_baseline[:, :64])\n",
    "#     print(\"Baseline perceptive accuracy: %.2f%%\" % base_values)\n",
    "\n",
    "# #     test_values = ev_metrics.dissonance_perception(test.dataset[1][:, a*64:(a+1)*64], test.dataset[1][:, a*64:(a+1)*64])\n",
    "# #     print(\"Self-test perceptive accuracy: %.2f%%\" % test_values)"
   ]
  },
  {
   "cell_type": "code",
   "execution_count": null,
   "metadata": {},
   "outputs": [],
   "source": []
  },
  {
   "cell_type": "code",
   "execution_count": 18,
   "metadata": {},
   "outputs": [
    {
     "name": "stdout",
     "output_type": "stream",
     "text": [
      "Perceptive accuracy at timesteps 0: 0.25%\n",
      "Baseline perceptive accuracy: 0.24%\n",
      "\n",
      "Perceptive accuracy at timesteps 1: 0.25%\n",
      "Baseline perceptive accuracy: 0.23%\n",
      "\n",
      "Perceptive accuracy at timesteps 2: 0.26%\n",
      "Baseline perceptive accuracy: 0.23%\n",
      "\n",
      "Perceptive accuracy at timesteps 3: 0.26%\n",
      "Baseline perceptive accuracy: 0.24%\n",
      "\n",
      "Perceptive accuracy at timesteps 4: 0.26%\n",
      "Baseline perceptive accuracy: 0.25%\n",
      "\n",
      "Perceptive accuracy at timesteps 5: 0.26%\n",
      "Baseline perceptive accuracy: 0.26%\n",
      "\n",
      "Perceptive accuracy at timesteps 6: 0.26%\n",
      "Baseline perceptive accuracy: 0.26%\n",
      "\n",
      "Perceptive accuracy at timesteps 7: 0.26%\n",
      "Baseline perceptive accuracy: 0.27%\n",
      "\n",
      "Perceptive accuracy at timesteps 8: 0.26%\n",
      "Baseline perceptive accuracy: 0.27%\n",
      "\n",
      "Perceptive accuracy at timesteps 9: 0.27%\n",
      "Baseline perceptive accuracy: 0.27%\n",
      "\n"
     ]
    }
   ],
   "source": [
    "from nmp import ev_metrics\n",
    "import importlib\n",
    "importlib.reload(ev_metrics)\n",
    "diss_pred = []\n",
    "diss_base = []\n",
    "for a in range(10):\n",
    "    if FF:\n",
    "        values = ev_metrics.dissonance_perception(test.dataset[1][:, a*64:(a+1)*64], predictions_bin[a, :, :])\n",
    "    else:\n",
    "        values = ev_metrics.dissonance_perception(merged_output[:, a*64:(a+1)*64], predictions_bin[a, :, :])\n",
    "    diss_pred.append(values)\n",
    "    print(\"Perceptive accuracy at timesteps %d: %.2f%%\" % (a, values))\n",
    "\n",
    "    if FF:\n",
    "        base_values = ev_metrics.dissonance_perception(test.dataset[1][:, a*64:(a+1)*64], hold_baseline[:, -64:])\n",
    "    else:\n",
    "#         base_values = ev_metrics.dissonance_perception(merged_output[:, a*64:(a+1)*64], hold_baseline[:, a*64:(a+1)*64])\n",
    "        base_values = ev_metrics.dissonance_perception(merged_output[:, a*64:(a+1)*64], merged_input[:, -64:])\n",
    "    diss_base.append(base_values)\n",
    "    print(\"Baseline perceptive accuracy: %.2f%%\" % base_values)\n",
    "    print()\n",
    "\n",
    "#     test_values = ev_metrics.dissonance_perception(test.dataset[1][:, a*64:(a+1)*64], test.dataset[1][:, a*64:(a+1)*64])\n",
    "#     print(\"Self-test perceptive accuracy: %.2f%%\" % test_values)"
   ]
  },
  {
   "cell_type": "code",
   "execution_count": 19,
   "metadata": {},
   "outputs": [
    {
     "data": {
      "text/plain": [
       "<matplotlib.legend.Legend at 0x12aafb85208>"
      ]
     },
     "execution_count": 19,
     "metadata": {},
     "output_type": "execute_result"
    },
    {
     "data": {
      "image/png": "[encoded data removed]",
      "text/plain": [
       "<Figure size 432x288 with 1 Axes>"
      ]
     },
     "metadata": {
      "needs_background": "light"
     },
     "output_type": "display_data"
    }
   ],
   "source": [
    "plt.figure(constrained_layout=True)\n",
    "plt.plot(range(1, 11), diss_pred, label='Pred', color='tab:blue')\n",
    "plt.plot(range(1, 11), diss_base, label='Baseline', color='tab:green')\n",
    "# plt.ylim(0, 1)\n",
    "plt.xticks(range(1, 11))\n",
    "plt.ylabel(\"Perception\")\n",
    "plt.xlabel(\"Timestep\")\n",
    "plt.legend()"
   ]
  },
  {
   "cell_type": "code",
   "execution_count": null,
   "metadata": {},
   "outputs": [],
   "source": [
    "tocsv = pd.DataFrame({'timestep': range(1, 11), 'pred': diss_pred, 'base': diss_base})\n",
    "tocsv = tocsv.set_index('timestep')"
   ]
  },
  {
   "cell_type": "code",
   "execution_count": null,
   "metadata": {},
   "outputs": [],
   "source": [
    "tocsv['pred'].to_csv(('tables/dissonance-' + D[5:] + '-pred.dat').lower(), sep=' ', header=None)\n",
    "tocsv['base'].to_csv(('tables/dissonance-' + D[5:] + '-base.dat').lower(), sep=' ', header=None)"
   ]
  },
  {
   "cell_type": "code",
   "execution_count": null,
   "metadata": {},
   "outputs": [],
   "source": [
    "# from nmp import ev_metrics\n",
    "# import importlib\n",
    "# importlib.reload(ev_metrics)\n",
    "# values = ev_metrics.dissonance_perception(pd.DataFrame(d).tail(10),\n",
    "#                                           pd.DataFrame(C).tail(10))\n",
    "# print(\"Perceptive accuracy: %.2f%%\" % values)\n",
    "\n",
    "# base_values = ev_metrics.dissonance_perception(pd.DataFrame(d).tail(10),\n",
    "#                                                pd.DataFrame(hold_baseline).tail(10))\n",
    "# print(\"Baseline perceptive accuracy: %.2f%%\" % base_values)"
   ]
  },
  {
   "cell_type": "code",
   "execution_count": null,
   "metadata": {},
   "outputs": [],
   "source": [
    "if VIEW_ROLLS:\n",
    "    plt.rcParams[\"figure.figsize\"] = (8, 4)\n",
    "    ax1 = pyplot_piano_roll(d, cmap=\"Greens\", db=[d.shape[0]-L-0.5], br=2,\n",
    "                            low_lim=LOW_LIM, high_lim=HIGH_LIM)\n",
    "    plt.title('Real')\n",
    "    plt.ylim(LOW_LIM, HIGH_LIM)\n",
    "\n",
    "    pyplot_piano_roll(C, cmap=\"Reds\", db=[d.shape[0]-L-0.5], br=2,\n",
    "                      low_lim=LOW_LIM, high_lim=HIGH_LIM)\n",
    "    plt.title('Prediction (ranked thresold)')\n",
    "    plt.ylim(LOW_LIM, HIGH_LIM)\n",
    "\n",
    "    pyplot_piano_roll(hold_baseline, cmap=\"Reds\", db=[d.shape[0]-L-0.5], br=2,\n",
    "                      low_lim=LOW_LIM, high_lim=HIGH_LIM)\n",
    "    plt.title('Baseline')\n",
    "    plt.ylim(LOW_LIM, HIGH_LIM)"
   ]
  },
  {
   "cell_type": "code",
   "execution_count": null,
   "metadata": {},
   "outputs": [],
   "source": []
  }
 ],
 "metadata": {
  "kernelspec": {
   "display_name": "Python 3",
   "language": "python",
   "name": "python3"
  },
  "language_info": {
   "codemirror_mode": {
    "name": "ipython",
    "version": 3
   },
   "file_extension": ".py",
   "mimetype": "text/x-python",
   "name": "python",
   "nbconvert_exporter": "python",
   "pygments_lexer": "ipython3",
   "version": "3.7.7"
  }
 },
 "nbformat": 4,
 "nbformat_minor": 4
}
