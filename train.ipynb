{
 "cells": [
  {
   "cell_type": "code",
   "execution_count": 15,
   "metadata": {},
   "outputs": [],
   "source": [
    "#!/usr/bin/env python3\n",
    "# -*- coding: utf-8 -*-\n",
    "\"\"\"Main script.\"\"\"\n",
    "from tensorflow.keras.callbacks import TensorBoard, CSVLogger\n",
    "from datetime import datetime\n",
    "import matplotlib.pyplot as plt\n",
    "import os\n",
    "import model as mod\n",
    "import dataset\n",
    "from dataset import plot_piano_roll\n",
    "from pathlib import Path\n",
    "import time\n",
    "\n",
    "# P = Path(__file__).parent.absolute()\n",
    "P = Path(os.path.abspath(''))  # Compatible with Jupyter Notebook\n",
    "\n",
    "FS = 10  # Sampling frequency\n",
    "BS = 64  # Batch size"
   ]
  },
  {
   "cell_type": "code",
   "execution_count": 16,
   "metadata": {},
   "outputs": [
    {
     "name": "stdout",
     "output_type": "stream",
     "text": [
      "Train list:   ['alb_esp1.mid', 'alb_esp2.mid', 'alb_esp3.mid', 'alb_esp4.mid', 'alb_esp5.mid', 'alb_esp6.mid', 'alb_se1.mid', 'alb_se2.mid', 'alb_se4.mid', 'alb_se6.mid', 'alb_se8.mid', 'appass_1.mid', 'appass_3.mid', 'bach_846.mid', 'bach_847.mid', 'bach_850.mid', 'beethoven_hammerklavier_1.mid', 'beethoven_hammerklavier_2.mid', 'beethoven_hammerklavier_3.mid', 'beethoven_les_adieux_3.mid', 'beethoven_opus10_1.mid', 'beethoven_opus10_2.mid', 'beethoven_opus10_3.mid', 'beethoven_opus22_1.mid', 'beethoven_opus22_3.mid', 'beethoven_opus22_4.mid', 'beethoven_opus90_1.mid', 'beethoven_opus90_2.mid', 'bor_ps1.mid', 'bor_ps2.mid', 'bor_ps4.mid', 'bor_ps5.mid', 'bor_ps6.mid', 'bor_ps7.mid', 'brahms_opus117_1.mid', 'brahms_opus117_2.mid', 'brahms_opus1_2.mid', 'brahms_opus1_3.mid', 'brahms_opus1_4.mid', 'br_im2.mid', 'br_im5.mid', 'br_rhap.mid', 'burg_agitato.mid', 'burg_erwachen.mid', 'burg_geschwindigkeit.mid', 'burg_gewitter.mid', 'burg_perlen.mid', 'burg_quelle.mid', 'burg_spinnerlied.mid', 'burg_trennung.mid', 'chpn-p1.mid', 'chpn-p10.mid', 'chpn-p11.mid', 'chpn-p12.mid', 'chpn-p13.mid', 'chpn-p14.mid', 'chpn-p15.mid', 'chpn-p16.mid', 'chpn-p17.mid', 'chpn-p18.mid', 'chpn-p19.mid', 'chpn-p2.mid', 'chpn-p20.mid', 'chpn-p21.mid', 'chpn-p22.mid', 'chpn-p24.mid', 'chpn-p4.mid', 'chpn-p8.mid', 'chpn_op10_e01.mid', 'chpn_op10_e05.mid', 'chpn_op10_e12.mid', 'chpn_op25_e1.mid', 'chpn_op25_e11.mid', 'chpn_op25_e12.mid', 'chpn_op25_e2.mid', 'chpn_op25_e3.mid', 'chpn_op27_1.mid', 'chpn_op27_2.mid', 'chpn_op33_2.mid', 'chpn_op33_4.mid', 'chpn_op35_4.mid', 'chpn_op66.mid', 'chpn_op7_1.mid', 'chpn_op7_2.mid', 'chp_op18.mid', 'debussy_cc_1.mid', 'debussy_cc_2.mid', 'debussy_cc_4.mid', 'debussy_cc_6.mid', 'deb_menu.mid', 'deb_prel.mid', 'gra_esp_2.mid', 'gra_esp_3.mid', 'gra_esp_4.mid', 'grieg_album.mid', 'grieg_berceuse.mid', 'grieg_brooklet.mid', 'grieg_butterfly.mid', 'grieg_elfentanz.mid', 'grieg_halling.mid', 'grieg_kobold.mid', 'grieg_march.mid', 'grieg_once_upon_a_time.mid', 'grieg_voeglein.mid', 'grieg_waechter.mid', 'grieg_wanderer.mid', 'haydn_33_1.mid', 'haydn_33_2.mid', 'haydn_35_1.mid', 'haydn_35_3.mid', 'haydn_43_1.mid', 'haydn_43_3.mid', 'haydn_7_1.mid', 'haydn_7_2.mid', 'haydn_8_1.mid', 'haydn_8_2.mid', 'haydn_8_3.mid', 'haydn_8_4.mid', 'haydn_9_2.mid', 'haydn_9_3.mid', 'hay_40_2.mid', 'islamei.mid', 'liz_donjuan.mid', 'liz_et1.mid', 'liz_et2.mid', 'liz_et3.mid', 'liz_et4.mid', 'liz_et6.mid', 'liz_et_trans5.mid', 'liz_et_trans8.mid', 'liz_liebestraum.mid', 'liz_rhap02.mid', 'liz_rhap09.mid', 'liz_rhap12.mid', 'mendel_op19_2.mid', 'mendel_op19_3.mid', 'mendel_op19_4.mid', 'mendel_op19_5.mid', 'mendel_op19_6.mid', 'mendel_op30_1.mid', 'mendel_op30_3.mid', 'mendel_op30_4.mid', 'mendel_op30_5.mid', 'mendel_op53_5.mid', 'mendel_op62_5.mid', 'mond_1.mid', 'mond_2.mid', 'mond_3.mid', 'muss_1.mid', 'muss_2.mid', 'muss_4.mid', 'muss_5.mid', 'muss_6.mid', 'muss_7.mid', 'muss_8.mid', 'mz_311_1.mid', 'mz_311_2.mid', 'mz_330_1.mid', 'mz_330_2.mid', 'mz_330_3.mid', 'mz_331_2.mid', 'mz_331_3.mid', 'mz_332_1.mid', 'mz_332_2.mid', 'mz_332_3.mid']\n",
      "Validation list:   ['mz_333_2.mid', 'mz_333_3.mid', 'mz_545_3.mid', 'mz_570_1.mid', 'pathetique_1.mid', 'pathetique_3.mid', 'rac_op23_2.mid', 'rac_op23_3.mid', 'rac_op23_5.mid', 'rac_op23_7.mid', 'rac_op32_1.mid', 'rac_op32_13.mid', 'rac_op33_5.mid', 'ravel_miroirs_1.mid', 'rav_eau.mid', 'rav_gib.mid', 'rav_scarbo.mid', 'schubert_D850_1.mid', 'schubert_D850_2.mid', 'schubert_D935_2.mid', 'schubert_D935_3.mid', 'schubert_D935_4.mid', 'schub_d760_1.mid', 'schub_d760_3.mid', 'schub_d760_4.mid', 'schub_d960_1.mid', 'schub_d960_2.mid', 'schub_d960_3.mid', 'schuim-1.mid', 'schuim-2.mid', 'schuim-3.mid', 'schuim-4.mid', 'schumm-1.mid', 'schumm-3.mid', 'schumm-4.mid', 'schumm-5.mid', 'schumm-6.mid', 'schu_143_1.mid', 'schu_143_3.mid', 'scn15_1.mid', 'scn15_10.mid', 'scn15_11.mid', 'scn15_12.mid', 'scn15_13.mid', 'scn15_2.mid', 'scn15_5.mid', 'scn15_6.mid']\n",
      "Test list:   ['scn15_7.mid', 'scn15_8.mid', 'scn15_9.mid', 'scn16_1.mid', 'scn16_3.mid', 'scn16_4.mid', 'scn16_5.mid', 'scn16_7.mid', 'scn16_8.mid', 'scn68_10.mid', 'ty_april.mid', 'ty_august.mid', 'ty_dezember.mid', 'ty_juli.mid', 'ty_juni.mid', 'ty_mai.mid', 'ty_november.mid', 'ty_oktober.mid', 'ty_september.mid', 'waldstein_1.mid', 'waldstein_2.mid', 'waldstein_3.mid']\n"
     ]
    }
   ],
   "source": [
    " \"\"\"Run main script.\"\"\"\n",
    "# Load midi files.\n",
    "midi_list = [x for x in os.listdir(P / \"data\") if x.endswith('.mid')]\n",
    "epochs = 10\n",
    "st = 20\n",
    "num_ts = 10\n",
    "\n",
    "# All dataset\n",
    "train_list = midi_list[0:165]\n",
    "validation_list = midi_list[166:213]\n",
    "test_list = midi_list[213:236]\n",
    "\n",
    "# Small dataset\n",
    "# train_list = midi_list[0:50]\n",
    "# validation_list = midi_list[50:60]\n",
    "# test_list = midi_list[61:65]\n",
    "\n",
    "print(\"Train list:  \", train_list)\n",
    "print(\"Validation list:  \", validation_list)\n",
    "print(\"Test list:  \", test_list)\n"
   ]
  },
  {
   "cell_type": "code",
   "execution_count": 17,
   "metadata": {},
   "outputs": [
    {
     "name": "stdout",
     "output_type": "stream",
     "text": [
      "Building training dataset (165 files)\n",
      "Building validation dataset (47 files)\n",
      "Building test dataset (22 files)\n"
     ]
    }
   ],
   "source": [
    " # Build Keras model.\n",
    "model = mod.build_model((st, 88), num_ts)\n",
    "now = datetime.now()\n",
    "\n",
    "# Save logs\n",
    "logger = TensorBoard(log_dir=P / 'logs' / now.strftime(\"%Y%m%d-%H%M%S\"),\n",
    "                     write_graph=True, update_freq='epoch')\n",
    "\n",
    "csv_logger = CSVLogger(P / 'logs' / (now.strftime(\"%Y%m%d-%H%M%S\") + '-' +\n",
    "                       str(st) + '-' + str(num_ts) + '.csv'),\n",
    "                       separator=',', append=False)\n",
    "# Create generators.\n",
    "train = dataset.DataGenerator(train_list, P / \"data\",  fs=FS)\n",
    "validation = dataset.DataGenerator(validation_list, P / \"data\",  fs=FS)\n",
    "test = dataset.DataGenerator(test_list, P / \"data\",  fs=FS)\n",
    "train.build_dataset(\"training\", step=st, t_step=num_ts)\n",
    "validation.build_dataset(\"validation\", step=st, t_step=num_ts)\n",
    "test.build_dataset(\"test\", step=st, t_step=num_ts)\n",
    "print(\"Done\")"
   ]
  },
  {
   "cell_type": "code",
   "execution_count": 18,
   "metadata": {},
   "outputs": [
    {
     "name": "stdout",
     "output_type": "stream",
     "text": [
      "Train on 355246 samples, validate on 143866 samples\n",
      "Epoch 1/10\n",
      "355246/355246 [==============================] - 30s 84us/sample - loss: 0.1063 - precision_4: 0.7112 - recall_4: 0.2600 - f1_t1: 0.4342 - f1_t10: 0.4342 - val_loss: 0.1102 - val_precision_4: 0.7907 - val_recall_4: 0.3462 - val_f1_t1: 0.3379 - val_f1_t10: 0.3379\n",
      "Epoch 2/10\n",
      "355246/355246 [==============================] - 28s 80us/sample - loss: 0.0951 - precision_4: 0.7958 - recall_4: 0.3781 - f1_t1: 0.5091 - f1_t10: 0.5091 - val_loss: 0.1096 - val_precision_4: 0.7962 - val_recall_4: 0.3853 - val_f1_t1: 0.3397 - val_f1_t10: 0.3397\n",
      "Epoch 3/10\n",
      "355246/355246 [==============================] - 31s 88us/sample - loss: 0.0939 - precision_4: 0.7982 - recall_4: 0.3955 - f1_t1: 0.5171 - f1_t10: 0.5171 - val_loss: 0.1107 - val_precision_4: 0.7987 - val_recall_4: 0.3974 - val_f1_t1: 0.3385 - val_f1_t10: 0.3385\n",
      "Epoch 4/10\n",
      "355246/355246 [==============================] - 31s 86us/sample - loss: 0.0932 - precision_4: 0.8004 - recall_4: 0.4020 - f1_t1: 0.5199 - f1_t10: 0.5199 - val_loss: 0.1109 - val_precision_4: 0.8014 - val_recall_4: 0.4024 - val_f1_t1: 0.3262 - val_f1_t10: 0.3262\n",
      "Epoch 5/10\n",
      "355246/355246 [==============================] - 30s 84us/sample - loss: 0.0928 - precision_4: 0.8030 - recall_4: 0.4050 - f1_t1: 0.5224 - f1_t10: 0.5224 - val_loss: 0.1102 - val_precision_4: 0.8024 - val_recall_4: 0.4060 - val_f1_t1: 0.3530 - val_f1_t10: 0.3530\n",
      "Epoch 6/10\n",
      "355246/355246 [==============================] - 29s 82us/sample - loss: 0.0925 - precision_4: 0.8024 - recall_4: 0.4090 - f1_t1: 0.5229 - f1_t10: 0.5229 - val_loss: 0.1111 - val_precision_4: 0.8027 - val_recall_4: 0.4090 - val_f1_t1: 0.3275 - val_f1_t10: 0.3275\n",
      "Epoch 7/10\n",
      "355246/355246 [==============================] - 30s 83us/sample - loss: 0.0924 - precision_4: 0.8035 - recall_4: 0.4108 - f1_t1: 0.5243 - f1_t10: 0.5243 - val_loss: 0.1104 - val_precision_4: 0.8035 - val_recall_4: 0.4108 - val_f1_t1: 0.3373 - val_f1_t10: 0.3373\n",
      "Epoch 8/10\n",
      "355246/355246 [==============================] - 29s 81us/sample - loss: 0.0922 - precision_4: 0.8040 - recall_4: 0.4125 - f1_t1: 0.5255 - f1_t10: 0.5255 - val_loss: 0.1121 - val_precision_4: 0.8039 - val_recall_4: 0.4124 - val_f1_t1: 0.3394 - val_f1_t10: 0.3394\n",
      "Epoch 9/10\n",
      "355246/355246 [==============================] - 30s 84us/sample - loss: 0.0921 - precision_4: 0.8044 - recall_4: 0.4137 - f1_t1: 0.5257 - f1_t10: 0.5257 - val_loss: 0.1130 - val_precision_4: 0.8043 - val_recall_4: 0.4135 - val_f1_t1: 0.3394 - val_f1_t10: 0.3394\n",
      "Epoch 10/10\n",
      "355246/355246 [==============================] - 29s 82us/sample - loss: 0.0919 - precision_4: 0.8046 - recall_4: 0.4147 - f1_t1: 0.5263 - f1_t10: 0.5263 - val_loss: 0.1121 - val_precision_4: 0.8045 - val_recall_4: 0.4145 - val_f1_t1: 0.3306 - val_f1_t10: 0.3306\n"
     ]
    }
   ],
   "source": [
    "# Fit the model.\n",
    "# model.fit(train.generate(limit=epochs), epochs=epochs,\n",
    "#           steps_per_epoch=1,  shuffle=True,\n",
    "#           validation_data=validation.generate(limit=epochs),\n",
    "#           validation_steps=1,\n",
    "#           callbacks=[logger, csv_logger])\n",
    "start = time.time()\n",
    "history = model.fit(x=train.dataset[0], y=train.dataset[1],\n",
    "                    epochs=epochs, batch_size=BS, shuffle=True,\n",
    "                    validation_data=(validation.dataset[0],\n",
    "                                     validation.dataset[1]),\n",
    "                    callbacks=[logger, csv_logger])\n",
    "end = time.time()"
   ]
  },
  {
   "cell_type": "code",
   "execution_count": 20,
   "metadata": {},
   "outputs": [
    {
     "data": {
      "text/plain": [
       "{'loss': [0.10631117609485252,\n",
       "  0.09514820647697703,\n",
       "  0.09385537132054121,\n",
       "  0.09323163972975268,\n",
       "  0.09282626144365973,\n",
       "  0.09254889355795742,\n",
       "  0.09235778269939378,\n",
       "  0.0921965847838889,\n",
       "  0.0920524429508408,\n",
       "  0.0919326807044102],\n",
       " 'precision_4': [0.7112217,\n",
       "  0.7958038,\n",
       "  0.7981786,\n",
       "  0.8003651,\n",
       "  0.80298215,\n",
       "  0.8024291,\n",
       "  0.8034702,\n",
       "  0.8040025,\n",
       "  0.8043872,\n",
       "  0.8045792],\n",
       " 'recall_4': [0.2600078,\n",
       "  0.37811002,\n",
       "  0.39546356,\n",
       "  0.40204424,\n",
       "  0.40495425,\n",
       "  0.40903962,\n",
       "  0.41077337,\n",
       "  0.41252092,\n",
       "  0.41367376,\n",
       "  0.41465726],\n",
       " 'f1_t1': [0.43415967,\n",
       "  0.5091303,\n",
       "  0.5171431,\n",
       "  0.5198955,\n",
       "  0.52236044,\n",
       "  0.5228745,\n",
       "  0.524315,\n",
       "  0.52549446,\n",
       "  0.525732,\n",
       "  0.5263111],\n",
       " 'f1_t10': [0.43415967,\n",
       "  0.5091303,\n",
       "  0.5171431,\n",
       "  0.5198955,\n",
       "  0.52236044,\n",
       "  0.5228745,\n",
       "  0.524315,\n",
       "  0.52549446,\n",
       "  0.525732,\n",
       "  0.5263111],\n",
       " 'val_loss': [0.11020115620002828,\n",
       "  0.1096125235648107,\n",
       "  0.1106776924520545,\n",
       "  0.11092360164537882,\n",
       "  0.11015629601343845,\n",
       "  0.11110858760698836,\n",
       "  0.110362058334126,\n",
       "  0.112107480526693,\n",
       "  0.11301360866321732,\n",
       "  0.1121439411644791],\n",
       " 'val_precision_4': [0.79071987,\n",
       "  0.7962162,\n",
       "  0.7987449,\n",
       "  0.8013682,\n",
       "  0.80239195,\n",
       "  0.802685,\n",
       "  0.8034655,\n",
       "  0.8038931,\n",
       "  0.8042722,\n",
       "  0.80451906],\n",
       " 'val_recall_4': [0.3461596,\n",
       "  0.385305,\n",
       "  0.39737737,\n",
       "  0.40235123,\n",
       "  0.40603715,\n",
       "  0.40903723,\n",
       "  0.41081792,\n",
       "  0.41239157,\n",
       "  0.41353056,\n",
       "  0.41448236],\n",
       " 'val_f1_t1': [0.33788055,\n",
       "  0.33971736,\n",
       "  0.33846706,\n",
       "  0.3261745,\n",
       "  0.35301635,\n",
       "  0.3275492,\n",
       "  0.33726752,\n",
       "  0.33942232,\n",
       "  0.33941007,\n",
       "  0.33055192],\n",
       " 'val_f1_t10': [0.33788055,\n",
       "  0.33971736,\n",
       "  0.33846706,\n",
       "  0.3261745,\n",
       "  0.35301635,\n",
       "  0.3275492,\n",
       "  0.33726752,\n",
       "  0.33942232,\n",
       "  0.33941007,\n",
       "  0.33055192]}"
      ]
     },
     "execution_count": 20,
     "metadata": {},
     "output_type": "execute_result"
    }
   ],
   "source": [
    "history.history"
   ]
  },
  {
   "cell_type": "code",
   "execution_count": 21,
   "metadata": {},
   "outputs": [
    {
     "name": "stdout",
     "output_type": "stream",
     "text": [
      "Evaluation on test set:\n",
      "44697/44697 [==============================] - 2s 40us/sample - loss: 0.0979 - precision_4: 0.8041 - recall_4: 0.4146 - f1_t1: 0.2880 - f1_t10: 0.2880\n"
     ]
    }
   ],
   "source": [
    "# Evaluate the model.\n",
    "print(\"Evaluation on test set:\")\n",
    "_, prec, rec, f1, f2 = model.evaluate(x=test.dataset[0],\n",
    "                                  y=test.dataset[1],\n",
    "                                  batch_size=BS)\n",
    "# _, prec, rec, f1 = model.evaluate(test.generate(limit=epochs),\n",
    "#                                   steps=1)"
   ]
  },
  {
   "cell_type": "code",
   "execution_count": 22,
   "metadata": {},
   "outputs": [
    {
     "name": "stdout",
     "output_type": "stream",
     "text": [
      "Pred shape:  (44697, 880)\n",
      "(44697, 88)\n",
      "(44697, 20, 88) \n",
      "\n",
      "\n",
      "\n"
     ]
    },
    {
     "data": {
      "image/png": "[encoded data removed]",
      "text/plain": [
       "<Figure size 720x360 with 2 Axes>"
      ]
     },
     "metadata": {
      "needs_background": "light"
     },
     "output_type": "display_data"
    },
    {
     "name": "stdout",
     "output_type": "stream",
     "text": [
      "Training time:  297.2966299057007\n"
     ]
    }
   ],
   "source": [
    "predictions = model.predict(x=test.dataset[0])\n",
    "print(\"Pred shape: \", predictions.shape)\n",
    "predictions = predictions[:, 0:88]\n",
    "print(predictions.shape)\n",
    "print(test.dataset[0].shape, \"\\n\\n\\n\")\n",
    "test = test.dataset[0][:, 0, :]\n",
    "predictions = dataset.transpose(predictions)\n",
    "predictions = dataset.convert(predictions)\n",
    "# test = test[:, 0, :]\n",
    "fig, (ax1, ax2) = plt.subplots(1, 2, figsize=(10, 5))\n",
    "plot_piano_roll(dataset.transpose(test), 21, 109, ax1, FS)\n",
    "ax1.set_title('Test')\n",
    "\n",
    "plot_piano_roll(predictions, 21, 109, ax2, FS)\n",
    "ax2.set_title('Predictions')\n",
    "plt.show()\n",
    "print(\"Training time: \", (end-start))"
   ]
  },
  {
   "cell_type": "code",
   "execution_count": null,
   "metadata": {},
   "outputs": [],
   "source": []
  }
 ],
 "metadata": {
  "kernelspec": {
   "display_name": "Python 3",
   "language": "python",
   "name": "python3"
  },
  "language_info": {
   "codemirror_mode": {
    "name": "ipython",
    "version": 3
   },
   "file_extension": ".py",
   "mimetype": "text/x-python",
   "name": "python",
   "nbconvert_exporter": "python",
   "pygments_lexer": "ipython3",
   "version": "3.7.7"
  }
 },
 "nbformat": 4,
 "nbformat_minor": 4
}
